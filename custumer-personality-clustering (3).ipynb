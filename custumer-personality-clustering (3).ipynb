{
 "cells": [
  {
   "cell_type": "code",
   "execution_count": 1,
   "id": "fe348b66",
   "metadata": {
    "_cell_guid": "b1076dfc-b9ad-4769-8c92-a6c4dae69d19",
    "_uuid": "8f2839f25d086af736a60e9eeb907d3b93b6e0e5",
    "execution": {
     "iopub.execute_input": "2021-11-15T23:06:37.510643Z",
     "iopub.status.busy": "2021-11-15T23:06:37.509840Z",
     "iopub.status.idle": "2021-11-15T23:06:37.522977Z",
     "shell.execute_reply": "2021-11-15T23:06:37.523486Z",
     "shell.execute_reply.started": "2021-11-15T21:45:01.195308Z"
    },
    "papermill": {
     "duration": 0.077053,
     "end_time": "2021-11-15T23:06:37.523800",
     "exception": false,
     "start_time": "2021-11-15T23:06:37.446747",
     "status": "completed"
    },
    "tags": []
   },
   "outputs": [
    {
     "name": "stdout",
     "output_type": "stream",
     "text": [
      "/kaggle/input/customer-personality-analysis/marketing_campaign.csv\n"
     ]
    }
   ],
   "source": [
    "import numpy as np\n",
    "import pandas as pd\n",
    "\n",
    "import os\n",
    "for dirname, _, filenames in os.walk('/kaggle/input'):\n",
    "    for filename in filenames:\n",
    "        print(os.path.join(dirname, filename))"
   ]
  },
  {
   "cell_type": "code",
   "execution_count": 2,
   "id": "099f44a8",
   "metadata": {
    "execution": {
     "iopub.execute_input": "2021-11-15T23:06:37.627819Z",
     "iopub.status.busy": "2021-11-15T23:06:37.627081Z",
     "iopub.status.idle": "2021-11-15T23:06:37.688797Z",
     "shell.execute_reply": "2021-11-15T23:06:37.689284Z",
     "shell.execute_reply.started": "2021-11-15T21:45:01.216994Z"
    },
    "papermill": {
     "duration": 0.116244,
     "end_time": "2021-11-15T23:06:37.689470",
     "exception": false,
     "start_time": "2021-11-15T23:06:37.573226",
     "status": "completed"
    },
    "tags": []
   },
   "outputs": [
    {
     "data": {
      "text/html": [
       "<div>\n",
       "<style scoped>\n",
       "    .dataframe tbody tr th:only-of-type {\n",
       "        vertical-align: middle;\n",
       "    }\n",
       "\n",
       "    .dataframe tbody tr th {\n",
       "        vertical-align: top;\n",
       "    }\n",
       "\n",
       "    .dataframe thead th {\n",
       "        text-align: right;\n",
       "    }\n",
       "</style>\n",
       "<table border=\"1\" class=\"dataframe\">\n",
       "  <thead>\n",
       "    <tr style=\"text-align: right;\">\n",
       "      <th></th>\n",
       "      <th>Year_Birth</th>\n",
       "      <th>Education</th>\n",
       "      <th>Marital_Status</th>\n",
       "      <th>Income</th>\n",
       "      <th>Kidhome</th>\n",
       "      <th>Teenhome</th>\n",
       "      <th>Dt_Customer</th>\n",
       "      <th>Recency</th>\n",
       "      <th>MntWines</th>\n",
       "      <th>MntFruits</th>\n",
       "      <th>...</th>\n",
       "      <th>NumWebVisitsMonth</th>\n",
       "      <th>AcceptedCmp3</th>\n",
       "      <th>AcceptedCmp4</th>\n",
       "      <th>AcceptedCmp5</th>\n",
       "      <th>AcceptedCmp1</th>\n",
       "      <th>AcceptedCmp2</th>\n",
       "      <th>Complain</th>\n",
       "      <th>Z_CostContact</th>\n",
       "      <th>Z_Revenue</th>\n",
       "      <th>Response</th>\n",
       "    </tr>\n",
       "    <tr>\n",
       "      <th>ID</th>\n",
       "      <th></th>\n",
       "      <th></th>\n",
       "      <th></th>\n",
       "      <th></th>\n",
       "      <th></th>\n",
       "      <th></th>\n",
       "      <th></th>\n",
       "      <th></th>\n",
       "      <th></th>\n",
       "      <th></th>\n",
       "      <th></th>\n",
       "      <th></th>\n",
       "      <th></th>\n",
       "      <th></th>\n",
       "      <th></th>\n",
       "      <th></th>\n",
       "      <th></th>\n",
       "      <th></th>\n",
       "      <th></th>\n",
       "      <th></th>\n",
       "      <th></th>\n",
       "    </tr>\n",
       "  </thead>\n",
       "  <tbody>\n",
       "    <tr>\n",
       "      <th>5524</th>\n",
       "      <td>1957</td>\n",
       "      <td>Graduation</td>\n",
       "      <td>Single</td>\n",
       "      <td>58138.0</td>\n",
       "      <td>0</td>\n",
       "      <td>0</td>\n",
       "      <td>04-09-2012</td>\n",
       "      <td>58</td>\n",
       "      <td>635</td>\n",
       "      <td>88</td>\n",
       "      <td>...</td>\n",
       "      <td>7</td>\n",
       "      <td>0</td>\n",
       "      <td>0</td>\n",
       "      <td>0</td>\n",
       "      <td>0</td>\n",
       "      <td>0</td>\n",
       "      <td>0</td>\n",
       "      <td>3</td>\n",
       "      <td>11</td>\n",
       "      <td>1</td>\n",
       "    </tr>\n",
       "    <tr>\n",
       "      <th>2174</th>\n",
       "      <td>1954</td>\n",
       "      <td>Graduation</td>\n",
       "      <td>Single</td>\n",
       "      <td>46344.0</td>\n",
       "      <td>1</td>\n",
       "      <td>1</td>\n",
       "      <td>08-03-2014</td>\n",
       "      <td>38</td>\n",
       "      <td>11</td>\n",
       "      <td>1</td>\n",
       "      <td>...</td>\n",
       "      <td>5</td>\n",
       "      <td>0</td>\n",
       "      <td>0</td>\n",
       "      <td>0</td>\n",
       "      <td>0</td>\n",
       "      <td>0</td>\n",
       "      <td>0</td>\n",
       "      <td>3</td>\n",
       "      <td>11</td>\n",
       "      <td>0</td>\n",
       "    </tr>\n",
       "    <tr>\n",
       "      <th>4141</th>\n",
       "      <td>1965</td>\n",
       "      <td>Graduation</td>\n",
       "      <td>Together</td>\n",
       "      <td>71613.0</td>\n",
       "      <td>0</td>\n",
       "      <td>0</td>\n",
       "      <td>21-08-2013</td>\n",
       "      <td>26</td>\n",
       "      <td>426</td>\n",
       "      <td>49</td>\n",
       "      <td>...</td>\n",
       "      <td>4</td>\n",
       "      <td>0</td>\n",
       "      <td>0</td>\n",
       "      <td>0</td>\n",
       "      <td>0</td>\n",
       "      <td>0</td>\n",
       "      <td>0</td>\n",
       "      <td>3</td>\n",
       "      <td>11</td>\n",
       "      <td>0</td>\n",
       "    </tr>\n",
       "    <tr>\n",
       "      <th>6182</th>\n",
       "      <td>1984</td>\n",
       "      <td>Graduation</td>\n",
       "      <td>Together</td>\n",
       "      <td>26646.0</td>\n",
       "      <td>1</td>\n",
       "      <td>0</td>\n",
       "      <td>10-02-2014</td>\n",
       "      <td>26</td>\n",
       "      <td>11</td>\n",
       "      <td>4</td>\n",
       "      <td>...</td>\n",
       "      <td>6</td>\n",
       "      <td>0</td>\n",
       "      <td>0</td>\n",
       "      <td>0</td>\n",
       "      <td>0</td>\n",
       "      <td>0</td>\n",
       "      <td>0</td>\n",
       "      <td>3</td>\n",
       "      <td>11</td>\n",
       "      <td>0</td>\n",
       "    </tr>\n",
       "    <tr>\n",
       "      <th>5324</th>\n",
       "      <td>1981</td>\n",
       "      <td>PhD</td>\n",
       "      <td>Married</td>\n",
       "      <td>58293.0</td>\n",
       "      <td>1</td>\n",
       "      <td>0</td>\n",
       "      <td>19-01-2014</td>\n",
       "      <td>94</td>\n",
       "      <td>173</td>\n",
       "      <td>43</td>\n",
       "      <td>...</td>\n",
       "      <td>5</td>\n",
       "      <td>0</td>\n",
       "      <td>0</td>\n",
       "      <td>0</td>\n",
       "      <td>0</td>\n",
       "      <td>0</td>\n",
       "      <td>0</td>\n",
       "      <td>3</td>\n",
       "      <td>11</td>\n",
       "      <td>0</td>\n",
       "    </tr>\n",
       "    <tr>\n",
       "      <th>7446</th>\n",
       "      <td>1967</td>\n",
       "      <td>Master</td>\n",
       "      <td>Together</td>\n",
       "      <td>62513.0</td>\n",
       "      <td>0</td>\n",
       "      <td>1</td>\n",
       "      <td>09-09-2013</td>\n",
       "      <td>16</td>\n",
       "      <td>520</td>\n",
       "      <td>42</td>\n",
       "      <td>...</td>\n",
       "      <td>6</td>\n",
       "      <td>0</td>\n",
       "      <td>0</td>\n",
       "      <td>0</td>\n",
       "      <td>0</td>\n",
       "      <td>0</td>\n",
       "      <td>0</td>\n",
       "      <td>3</td>\n",
       "      <td>11</td>\n",
       "      <td>0</td>\n",
       "    </tr>\n",
       "    <tr>\n",
       "      <th>965</th>\n",
       "      <td>1971</td>\n",
       "      <td>Graduation</td>\n",
       "      <td>Divorced</td>\n",
       "      <td>55635.0</td>\n",
       "      <td>0</td>\n",
       "      <td>1</td>\n",
       "      <td>13-11-2012</td>\n",
       "      <td>34</td>\n",
       "      <td>235</td>\n",
       "      <td>65</td>\n",
       "      <td>...</td>\n",
       "      <td>6</td>\n",
       "      <td>0</td>\n",
       "      <td>0</td>\n",
       "      <td>0</td>\n",
       "      <td>0</td>\n",
       "      <td>0</td>\n",
       "      <td>0</td>\n",
       "      <td>3</td>\n",
       "      <td>11</td>\n",
       "      <td>0</td>\n",
       "    </tr>\n",
       "    <tr>\n",
       "      <th>6177</th>\n",
       "      <td>1985</td>\n",
       "      <td>PhD</td>\n",
       "      <td>Married</td>\n",
       "      <td>33454.0</td>\n",
       "      <td>1</td>\n",
       "      <td>0</td>\n",
       "      <td>08-05-2013</td>\n",
       "      <td>32</td>\n",
       "      <td>76</td>\n",
       "      <td>10</td>\n",
       "      <td>...</td>\n",
       "      <td>8</td>\n",
       "      <td>0</td>\n",
       "      <td>0</td>\n",
       "      <td>0</td>\n",
       "      <td>0</td>\n",
       "      <td>0</td>\n",
       "      <td>0</td>\n",
       "      <td>3</td>\n",
       "      <td>11</td>\n",
       "      <td>0</td>\n",
       "    </tr>\n",
       "    <tr>\n",
       "      <th>4855</th>\n",
       "      <td>1974</td>\n",
       "      <td>PhD</td>\n",
       "      <td>Together</td>\n",
       "      <td>30351.0</td>\n",
       "      <td>1</td>\n",
       "      <td>0</td>\n",
       "      <td>06-06-2013</td>\n",
       "      <td>19</td>\n",
       "      <td>14</td>\n",
       "      <td>0</td>\n",
       "      <td>...</td>\n",
       "      <td>9</td>\n",
       "      <td>0</td>\n",
       "      <td>0</td>\n",
       "      <td>0</td>\n",
       "      <td>0</td>\n",
       "      <td>0</td>\n",
       "      <td>0</td>\n",
       "      <td>3</td>\n",
       "      <td>11</td>\n",
       "      <td>1</td>\n",
       "    </tr>\n",
       "    <tr>\n",
       "      <th>5899</th>\n",
       "      <td>1950</td>\n",
       "      <td>PhD</td>\n",
       "      <td>Together</td>\n",
       "      <td>5648.0</td>\n",
       "      <td>1</td>\n",
       "      <td>1</td>\n",
       "      <td>13-03-2014</td>\n",
       "      <td>68</td>\n",
       "      <td>28</td>\n",
       "      <td>0</td>\n",
       "      <td>...</td>\n",
       "      <td>20</td>\n",
       "      <td>1</td>\n",
       "      <td>0</td>\n",
       "      <td>0</td>\n",
       "      <td>0</td>\n",
       "      <td>0</td>\n",
       "      <td>0</td>\n",
       "      <td>3</td>\n",
       "      <td>11</td>\n",
       "      <td>0</td>\n",
       "    </tr>\n",
       "  </tbody>\n",
       "</table>\n",
       "<p>10 rows × 28 columns</p>\n",
       "</div>"
      ],
      "text/plain": [
       "      Year_Birth   Education Marital_Status   Income  Kidhome  Teenhome  \\\n",
       "ID                                                                        \n",
       "5524        1957  Graduation         Single  58138.0        0         0   \n",
       "2174        1954  Graduation         Single  46344.0        1         1   \n",
       "4141        1965  Graduation       Together  71613.0        0         0   \n",
       "6182        1984  Graduation       Together  26646.0        1         0   \n",
       "5324        1981         PhD        Married  58293.0        1         0   \n",
       "7446        1967      Master       Together  62513.0        0         1   \n",
       "965         1971  Graduation       Divorced  55635.0        0         1   \n",
       "6177        1985         PhD        Married  33454.0        1         0   \n",
       "4855        1974         PhD       Together  30351.0        1         0   \n",
       "5899        1950         PhD       Together   5648.0        1         1   \n",
       "\n",
       "     Dt_Customer  Recency  MntWines  MntFruits  ...  NumWebVisitsMonth  \\\n",
       "ID                                              ...                      \n",
       "5524  04-09-2012       58       635         88  ...                  7   \n",
       "2174  08-03-2014       38        11          1  ...                  5   \n",
       "4141  21-08-2013       26       426         49  ...                  4   \n",
       "6182  10-02-2014       26        11          4  ...                  6   \n",
       "5324  19-01-2014       94       173         43  ...                  5   \n",
       "7446  09-09-2013       16       520         42  ...                  6   \n",
       "965   13-11-2012       34       235         65  ...                  6   \n",
       "6177  08-05-2013       32        76         10  ...                  8   \n",
       "4855  06-06-2013       19        14          0  ...                  9   \n",
       "5899  13-03-2014       68        28          0  ...                 20   \n",
       "\n",
       "      AcceptedCmp3  AcceptedCmp4  AcceptedCmp5  AcceptedCmp1  AcceptedCmp2  \\\n",
       "ID                                                                           \n",
       "5524             0             0             0             0             0   \n",
       "2174             0             0             0             0             0   \n",
       "4141             0             0             0             0             0   \n",
       "6182             0             0             0             0             0   \n",
       "5324             0             0             0             0             0   \n",
       "7446             0             0             0             0             0   \n",
       "965              0             0             0             0             0   \n",
       "6177             0             0             0             0             0   \n",
       "4855             0             0             0             0             0   \n",
       "5899             1             0             0             0             0   \n",
       "\n",
       "      Complain  Z_CostContact  Z_Revenue  Response  \n",
       "ID                                                  \n",
       "5524         0              3         11         1  \n",
       "2174         0              3         11         0  \n",
       "4141         0              3         11         0  \n",
       "6182         0              3         11         0  \n",
       "5324         0              3         11         0  \n",
       "7446         0              3         11         0  \n",
       "965          0              3         11         0  \n",
       "6177         0              3         11         0  \n",
       "4855         0              3         11         1  \n",
       "5899         0              3         11         0  \n",
       "\n",
       "[10 rows x 28 columns]"
      ]
     },
     "execution_count": 2,
     "metadata": {},
     "output_type": "execute_result"
    }
   ],
   "source": [
    "filepath = '/kaggle/input/customer-personality-analysis/'\n",
    "all_data = pd.read_csv(filepath+'marketing_campaign.csv',sep='\\t',index_col='ID')\n",
    "all_data.head(10)"
   ]
  },
  {
   "cell_type": "code",
   "execution_count": 3,
   "id": "875c6ac9",
   "metadata": {
    "execution": {
     "iopub.execute_input": "2021-11-15T23:06:37.791138Z",
     "iopub.status.busy": "2021-11-15T23:06:37.790216Z",
     "iopub.status.idle": "2021-11-15T23:06:37.799657Z",
     "shell.execute_reply": "2021-11-15T23:06:37.800099Z",
     "shell.execute_reply.started": "2021-11-15T21:45:01.258026Z"
    },
    "papermill": {
     "duration": 0.061754,
     "end_time": "2021-11-15T23:06:37.800265",
     "exception": false,
     "start_time": "2021-11-15T23:06:37.738511",
     "status": "completed"
    },
    "tags": []
   },
   "outputs": [
    {
     "data": {
      "text/plain": [
       "Married     864\n",
       "Together    580\n",
       "Single      480\n",
       "Divorced    232\n",
       "Widow        77\n",
       "Alone         3\n",
       "Absurd        2\n",
       "YOLO          2\n",
       "Name: Marital_Status, dtype: int64"
      ]
     },
     "execution_count": 3,
     "metadata": {},
     "output_type": "execute_result"
    }
   ],
   "source": [
    "all_data.Marital_Status.value_counts()"
   ]
  },
  {
   "cell_type": "code",
   "execution_count": 4,
   "id": "23192e89",
   "metadata": {
    "execution": {
     "iopub.execute_input": "2021-11-15T23:06:37.903627Z",
     "iopub.status.busy": "2021-11-15T23:06:37.902668Z",
     "iopub.status.idle": "2021-11-15T23:06:37.924525Z",
     "shell.execute_reply": "2021-11-15T23:06:37.923960Z",
     "shell.execute_reply.started": "2021-11-15T21:45:01.266983Z"
    },
    "papermill": {
     "duration": 0.07399,
     "end_time": "2021-11-15T23:06:37.924668",
     "exception": false,
     "start_time": "2021-11-15T23:06:37.850678",
     "status": "completed"
    },
    "tags": []
   },
   "outputs": [
    {
     "data": {
      "text/html": [
       "<div>\n",
       "<style scoped>\n",
       "    .dataframe tbody tr th:only-of-type {\n",
       "        vertical-align: middle;\n",
       "    }\n",
       "\n",
       "    .dataframe tbody tr th {\n",
       "        vertical-align: top;\n",
       "    }\n",
       "\n",
       "    .dataframe thead th {\n",
       "        text-align: right;\n",
       "    }\n",
       "</style>\n",
       "<table border=\"1\" class=\"dataframe\">\n",
       "  <thead>\n",
       "    <tr style=\"text-align: right;\">\n",
       "      <th></th>\n",
       "      <th>Year_Birth</th>\n",
       "      <th>Education</th>\n",
       "      <th>Marital_Status</th>\n",
       "      <th>Income</th>\n",
       "      <th>Kidhome</th>\n",
       "      <th>Teenhome</th>\n",
       "      <th>Dt_Customer</th>\n",
       "      <th>Recency</th>\n",
       "      <th>MntWines</th>\n",
       "      <th>MntFruits</th>\n",
       "      <th>...</th>\n",
       "      <th>AcceptedCmp3</th>\n",
       "      <th>AcceptedCmp4</th>\n",
       "      <th>AcceptedCmp5</th>\n",
       "      <th>AcceptedCmp1</th>\n",
       "      <th>AcceptedCmp2</th>\n",
       "      <th>Complain</th>\n",
       "      <th>Z_CostContact</th>\n",
       "      <th>Z_Revenue</th>\n",
       "      <th>Response</th>\n",
       "      <th>Kids</th>\n",
       "    </tr>\n",
       "    <tr>\n",
       "      <th>ID</th>\n",
       "      <th></th>\n",
       "      <th></th>\n",
       "      <th></th>\n",
       "      <th></th>\n",
       "      <th></th>\n",
       "      <th></th>\n",
       "      <th></th>\n",
       "      <th></th>\n",
       "      <th></th>\n",
       "      <th></th>\n",
       "      <th></th>\n",
       "      <th></th>\n",
       "      <th></th>\n",
       "      <th></th>\n",
       "      <th></th>\n",
       "      <th></th>\n",
       "      <th></th>\n",
       "      <th></th>\n",
       "      <th></th>\n",
       "      <th></th>\n",
       "      <th></th>\n",
       "    </tr>\n",
       "  </thead>\n",
       "  <tbody>\n",
       "    <tr>\n",
       "      <th>5524</th>\n",
       "      <td>1957</td>\n",
       "      <td>Graduation</td>\n",
       "      <td>Single</td>\n",
       "      <td>58138.0</td>\n",
       "      <td>0</td>\n",
       "      <td>0</td>\n",
       "      <td>04-09-2012</td>\n",
       "      <td>58</td>\n",
       "      <td>635</td>\n",
       "      <td>88</td>\n",
       "      <td>...</td>\n",
       "      <td>0</td>\n",
       "      <td>0</td>\n",
       "      <td>0</td>\n",
       "      <td>0</td>\n",
       "      <td>0</td>\n",
       "      <td>0</td>\n",
       "      <td>3</td>\n",
       "      <td>11</td>\n",
       "      <td>1</td>\n",
       "      <td>0</td>\n",
       "    </tr>\n",
       "    <tr>\n",
       "      <th>2174</th>\n",
       "      <td>1954</td>\n",
       "      <td>Graduation</td>\n",
       "      <td>Single</td>\n",
       "      <td>46344.0</td>\n",
       "      <td>1</td>\n",
       "      <td>1</td>\n",
       "      <td>08-03-2014</td>\n",
       "      <td>38</td>\n",
       "      <td>11</td>\n",
       "      <td>1</td>\n",
       "      <td>...</td>\n",
       "      <td>0</td>\n",
       "      <td>0</td>\n",
       "      <td>0</td>\n",
       "      <td>0</td>\n",
       "      <td>0</td>\n",
       "      <td>0</td>\n",
       "      <td>3</td>\n",
       "      <td>11</td>\n",
       "      <td>0</td>\n",
       "      <td>2</td>\n",
       "    </tr>\n",
       "    <tr>\n",
       "      <th>4141</th>\n",
       "      <td>1965</td>\n",
       "      <td>Graduation</td>\n",
       "      <td>Together</td>\n",
       "      <td>71613.0</td>\n",
       "      <td>0</td>\n",
       "      <td>0</td>\n",
       "      <td>21-08-2013</td>\n",
       "      <td>26</td>\n",
       "      <td>426</td>\n",
       "      <td>49</td>\n",
       "      <td>...</td>\n",
       "      <td>0</td>\n",
       "      <td>0</td>\n",
       "      <td>0</td>\n",
       "      <td>0</td>\n",
       "      <td>0</td>\n",
       "      <td>0</td>\n",
       "      <td>3</td>\n",
       "      <td>11</td>\n",
       "      <td>0</td>\n",
       "      <td>0</td>\n",
       "    </tr>\n",
       "    <tr>\n",
       "      <th>6182</th>\n",
       "      <td>1984</td>\n",
       "      <td>Graduation</td>\n",
       "      <td>Together</td>\n",
       "      <td>26646.0</td>\n",
       "      <td>1</td>\n",
       "      <td>0</td>\n",
       "      <td>10-02-2014</td>\n",
       "      <td>26</td>\n",
       "      <td>11</td>\n",
       "      <td>4</td>\n",
       "      <td>...</td>\n",
       "      <td>0</td>\n",
       "      <td>0</td>\n",
       "      <td>0</td>\n",
       "      <td>0</td>\n",
       "      <td>0</td>\n",
       "      <td>0</td>\n",
       "      <td>3</td>\n",
       "      <td>11</td>\n",
       "      <td>0</td>\n",
       "      <td>1</td>\n",
       "    </tr>\n",
       "    <tr>\n",
       "      <th>5324</th>\n",
       "      <td>1981</td>\n",
       "      <td>PhD</td>\n",
       "      <td>Married</td>\n",
       "      <td>58293.0</td>\n",
       "      <td>1</td>\n",
       "      <td>0</td>\n",
       "      <td>19-01-2014</td>\n",
       "      <td>94</td>\n",
       "      <td>173</td>\n",
       "      <td>43</td>\n",
       "      <td>...</td>\n",
       "      <td>0</td>\n",
       "      <td>0</td>\n",
       "      <td>0</td>\n",
       "      <td>0</td>\n",
       "      <td>0</td>\n",
       "      <td>0</td>\n",
       "      <td>3</td>\n",
       "      <td>11</td>\n",
       "      <td>0</td>\n",
       "      <td>1</td>\n",
       "    </tr>\n",
       "  </tbody>\n",
       "</table>\n",
       "<p>5 rows × 29 columns</p>\n",
       "</div>"
      ],
      "text/plain": [
       "      Year_Birth   Education Marital_Status   Income  Kidhome  Teenhome  \\\n",
       "ID                                                                        \n",
       "5524        1957  Graduation         Single  58138.0        0         0   \n",
       "2174        1954  Graduation         Single  46344.0        1         1   \n",
       "4141        1965  Graduation       Together  71613.0        0         0   \n",
       "6182        1984  Graduation       Together  26646.0        1         0   \n",
       "5324        1981         PhD        Married  58293.0        1         0   \n",
       "\n",
       "     Dt_Customer  Recency  MntWines  MntFruits  ...  AcceptedCmp3  \\\n",
       "ID                                              ...                 \n",
       "5524  04-09-2012       58       635         88  ...             0   \n",
       "2174  08-03-2014       38        11          1  ...             0   \n",
       "4141  21-08-2013       26       426         49  ...             0   \n",
       "6182  10-02-2014       26        11          4  ...             0   \n",
       "5324  19-01-2014       94       173         43  ...             0   \n",
       "\n",
       "      AcceptedCmp4  AcceptedCmp5  AcceptedCmp1  AcceptedCmp2  Complain  \\\n",
       "ID                                                                       \n",
       "5524             0             0             0             0         0   \n",
       "2174             0             0             0             0         0   \n",
       "4141             0             0             0             0         0   \n",
       "6182             0             0             0             0         0   \n",
       "5324             0             0             0             0         0   \n",
       "\n",
       "      Z_CostContact  Z_Revenue  Response  Kids  \n",
       "ID                                              \n",
       "5524              3         11         1     0  \n",
       "2174              3         11         0     2  \n",
       "4141              3         11         0     0  \n",
       "6182              3         11         0     1  \n",
       "5324              3         11         0     1  \n",
       "\n",
       "[5 rows x 29 columns]"
      ]
     },
     "execution_count": 4,
     "metadata": {},
     "output_type": "execute_result"
    }
   ],
   "source": [
    "all_data['Kids'] = all_data['Kidhome']+all_data['Teenhome']\n",
    "all_data.head()"
   ]
  },
  {
   "cell_type": "code",
   "execution_count": 5,
   "id": "688129db",
   "metadata": {
    "execution": {
     "iopub.execute_input": "2021-11-15T23:06:38.093137Z",
     "iopub.status.busy": "2021-11-15T23:06:38.092507Z",
     "iopub.status.idle": "2021-11-15T23:06:38.095927Z",
     "shell.execute_reply": "2021-11-15T23:06:38.096409Z",
     "shell.execute_reply.started": "2021-11-15T21:45:01.301742Z"
    },
    "papermill": {
     "duration": 0.120417,
     "end_time": "2021-11-15T23:06:38.096591",
     "exception": false,
     "start_time": "2021-11-15T23:06:37.976174",
     "status": "completed"
    },
    "tags": []
   },
   "outputs": [],
   "source": [
    "all_data = all_data.drop(columns=['Kidhome', 'Teenhome'])"
   ]
  },
  {
   "cell_type": "code",
   "execution_count": 6,
   "id": "ef08b353",
   "metadata": {
    "execution": {
     "iopub.execute_input": "2021-11-15T23:06:38.201080Z",
     "iopub.status.busy": "2021-11-15T23:06:38.200443Z",
     "iopub.status.idle": "2021-11-15T23:06:38.207637Z",
     "shell.execute_reply": "2021-11-15T23:06:38.207081Z",
     "shell.execute_reply.started": "2021-11-15T21:45:01.312629Z"
    },
    "papermill": {
     "duration": 0.061189,
     "end_time": "2021-11-15T23:06:38.207772",
     "exception": false,
     "start_time": "2021-11-15T23:06:38.146583",
     "status": "completed"
    },
    "tags": []
   },
   "outputs": [],
   "source": [
    "all_data['Age'] = 2015 - all_data['Year_Birth']\n",
    "all_data = all_data.drop(columns=['Year_Birth'])"
   ]
  },
  {
   "cell_type": "code",
   "execution_count": 7,
   "id": "1b00291b",
   "metadata": {
    "execution": {
     "iopub.execute_input": "2021-11-15T23:06:38.324744Z",
     "iopub.status.busy": "2021-11-15T23:06:38.324065Z",
     "iopub.status.idle": "2021-11-15T23:06:38.331467Z",
     "shell.execute_reply": "2021-11-15T23:06:38.331985Z",
     "shell.execute_reply.started": "2021-11-15T21:45:01.326619Z"
    },
    "papermill": {
     "duration": 0.074211,
     "end_time": "2021-11-15T23:06:38.332153",
     "exception": false,
     "start_time": "2021-11-15T23:06:38.257942",
     "status": "completed"
    },
    "tags": []
   },
   "outputs": [
    {
     "data": {
      "text/html": [
       "<div>\n",
       "<style scoped>\n",
       "    .dataframe tbody tr th:only-of-type {\n",
       "        vertical-align: middle;\n",
       "    }\n",
       "\n",
       "    .dataframe tbody tr th {\n",
       "        vertical-align: top;\n",
       "    }\n",
       "\n",
       "    .dataframe thead th {\n",
       "        text-align: right;\n",
       "    }\n",
       "</style>\n",
       "<table border=\"1\" class=\"dataframe\">\n",
       "  <thead>\n",
       "    <tr style=\"text-align: right;\">\n",
       "      <th></th>\n",
       "      <th>Education</th>\n",
       "      <th>Marital_Status</th>\n",
       "      <th>Income</th>\n",
       "      <th>Dt_Customer</th>\n",
       "      <th>Recency</th>\n",
       "      <th>MntWines</th>\n",
       "      <th>MntFruits</th>\n",
       "      <th>MntMeatProducts</th>\n",
       "      <th>MntFishProducts</th>\n",
       "      <th>MntSweetProducts</th>\n",
       "      <th>...</th>\n",
       "      <th>AcceptedCmp4</th>\n",
       "      <th>AcceptedCmp5</th>\n",
       "      <th>AcceptedCmp1</th>\n",
       "      <th>AcceptedCmp2</th>\n",
       "      <th>Complain</th>\n",
       "      <th>Z_CostContact</th>\n",
       "      <th>Z_Revenue</th>\n",
       "      <th>Response</th>\n",
       "      <th>Kids</th>\n",
       "      <th>Age</th>\n",
       "    </tr>\n",
       "    <tr>\n",
       "      <th>ID</th>\n",
       "      <th></th>\n",
       "      <th></th>\n",
       "      <th></th>\n",
       "      <th></th>\n",
       "      <th></th>\n",
       "      <th></th>\n",
       "      <th></th>\n",
       "      <th></th>\n",
       "      <th></th>\n",
       "      <th></th>\n",
       "      <th></th>\n",
       "      <th></th>\n",
       "      <th></th>\n",
       "      <th></th>\n",
       "      <th></th>\n",
       "      <th></th>\n",
       "      <th></th>\n",
       "      <th></th>\n",
       "      <th></th>\n",
       "      <th></th>\n",
       "      <th></th>\n",
       "    </tr>\n",
       "  </thead>\n",
       "  <tbody>\n",
       "    <tr>\n",
       "      <th>5524</th>\n",
       "      <td>Graduation</td>\n",
       "      <td>Single</td>\n",
       "      <td>58138.0</td>\n",
       "      <td>04-09-2012</td>\n",
       "      <td>58</td>\n",
       "      <td>635</td>\n",
       "      <td>88</td>\n",
       "      <td>546</td>\n",
       "      <td>172</td>\n",
       "      <td>88</td>\n",
       "      <td>...</td>\n",
       "      <td>0</td>\n",
       "      <td>0</td>\n",
       "      <td>0</td>\n",
       "      <td>0</td>\n",
       "      <td>0</td>\n",
       "      <td>3</td>\n",
       "      <td>11</td>\n",
       "      <td>1</td>\n",
       "      <td>0</td>\n",
       "      <td>58</td>\n",
       "    </tr>\n",
       "    <tr>\n",
       "      <th>2174</th>\n",
       "      <td>Graduation</td>\n",
       "      <td>Single</td>\n",
       "      <td>46344.0</td>\n",
       "      <td>08-03-2014</td>\n",
       "      <td>38</td>\n",
       "      <td>11</td>\n",
       "      <td>1</td>\n",
       "      <td>6</td>\n",
       "      <td>2</td>\n",
       "      <td>1</td>\n",
       "      <td>...</td>\n",
       "      <td>0</td>\n",
       "      <td>0</td>\n",
       "      <td>0</td>\n",
       "      <td>0</td>\n",
       "      <td>0</td>\n",
       "      <td>3</td>\n",
       "      <td>11</td>\n",
       "      <td>0</td>\n",
       "      <td>2</td>\n",
       "      <td>61</td>\n",
       "    </tr>\n",
       "    <tr>\n",
       "      <th>4141</th>\n",
       "      <td>Graduation</td>\n",
       "      <td>Together</td>\n",
       "      <td>71613.0</td>\n",
       "      <td>21-08-2013</td>\n",
       "      <td>26</td>\n",
       "      <td>426</td>\n",
       "      <td>49</td>\n",
       "      <td>127</td>\n",
       "      <td>111</td>\n",
       "      <td>21</td>\n",
       "      <td>...</td>\n",
       "      <td>0</td>\n",
       "      <td>0</td>\n",
       "      <td>0</td>\n",
       "      <td>0</td>\n",
       "      <td>0</td>\n",
       "      <td>3</td>\n",
       "      <td>11</td>\n",
       "      <td>0</td>\n",
       "      <td>0</td>\n",
       "      <td>50</td>\n",
       "    </tr>\n",
       "    <tr>\n",
       "      <th>6182</th>\n",
       "      <td>Graduation</td>\n",
       "      <td>Together</td>\n",
       "      <td>26646.0</td>\n",
       "      <td>10-02-2014</td>\n",
       "      <td>26</td>\n",
       "      <td>11</td>\n",
       "      <td>4</td>\n",
       "      <td>20</td>\n",
       "      <td>10</td>\n",
       "      <td>3</td>\n",
       "      <td>...</td>\n",
       "      <td>0</td>\n",
       "      <td>0</td>\n",
       "      <td>0</td>\n",
       "      <td>0</td>\n",
       "      <td>0</td>\n",
       "      <td>3</td>\n",
       "      <td>11</td>\n",
       "      <td>0</td>\n",
       "      <td>1</td>\n",
       "      <td>31</td>\n",
       "    </tr>\n",
       "    <tr>\n",
       "      <th>5324</th>\n",
       "      <td>PhD</td>\n",
       "      <td>Married</td>\n",
       "      <td>58293.0</td>\n",
       "      <td>19-01-2014</td>\n",
       "      <td>94</td>\n",
       "      <td>173</td>\n",
       "      <td>43</td>\n",
       "      <td>118</td>\n",
       "      <td>46</td>\n",
       "      <td>27</td>\n",
       "      <td>...</td>\n",
       "      <td>0</td>\n",
       "      <td>0</td>\n",
       "      <td>0</td>\n",
       "      <td>0</td>\n",
       "      <td>0</td>\n",
       "      <td>3</td>\n",
       "      <td>11</td>\n",
       "      <td>0</td>\n",
       "      <td>1</td>\n",
       "      <td>34</td>\n",
       "    </tr>\n",
       "  </tbody>\n",
       "</table>\n",
       "<p>5 rows × 27 columns</p>\n",
       "</div>"
      ],
      "text/plain": [
       "       Education Marital_Status   Income Dt_Customer  Recency  MntWines  \\\n",
       "ID                                                                        \n",
       "5524  Graduation         Single  58138.0  04-09-2012       58       635   \n",
       "2174  Graduation         Single  46344.0  08-03-2014       38        11   \n",
       "4141  Graduation       Together  71613.0  21-08-2013       26       426   \n",
       "6182  Graduation       Together  26646.0  10-02-2014       26        11   \n",
       "5324         PhD        Married  58293.0  19-01-2014       94       173   \n",
       "\n",
       "      MntFruits  MntMeatProducts  MntFishProducts  MntSweetProducts  ...  \\\n",
       "ID                                                                   ...   \n",
       "5524         88              546              172                88  ...   \n",
       "2174          1                6                2                 1  ...   \n",
       "4141         49              127              111                21  ...   \n",
       "6182          4               20               10                 3  ...   \n",
       "5324         43              118               46                27  ...   \n",
       "\n",
       "      AcceptedCmp4  AcceptedCmp5  AcceptedCmp1  AcceptedCmp2  Complain  \\\n",
       "ID                                                                       \n",
       "5524             0             0             0             0         0   \n",
       "2174             0             0             0             0         0   \n",
       "4141             0             0             0             0         0   \n",
       "6182             0             0             0             0         0   \n",
       "5324             0             0             0             0         0   \n",
       "\n",
       "      Z_CostContact  Z_Revenue  Response  Kids  Age  \n",
       "ID                                                   \n",
       "5524              3         11         1     0   58  \n",
       "2174              3         11         0     2   61  \n",
       "4141              3         11         0     0   50  \n",
       "6182              3         11         0     1   31  \n",
       "5324              3         11         0     1   34  \n",
       "\n",
       "[5 rows x 27 columns]"
      ]
     },
     "execution_count": 7,
     "metadata": {},
     "output_type": "execute_result"
    }
   ],
   "source": [
    "all_data.head()"
   ]
  },
  {
   "cell_type": "code",
   "execution_count": 8,
   "id": "6f9fb0a7",
   "metadata": {
    "execution": {
     "iopub.execute_input": "2021-11-15T23:06:38.439582Z",
     "iopub.status.busy": "2021-11-15T23:06:38.435804Z",
     "iopub.status.idle": "2021-11-15T23:06:38.444840Z",
     "shell.execute_reply": "2021-11-15T23:06:38.445306Z",
     "shell.execute_reply.started": "2021-11-15T21:45:01.361706Z"
    },
    "papermill": {
     "duration": 0.062818,
     "end_time": "2021-11-15T23:06:38.445496",
     "exception": false,
     "start_time": "2021-11-15T23:06:38.382678",
     "status": "completed"
    },
    "tags": []
   },
   "outputs": [],
   "source": [
    "all_data = all_data.assign(is_married=['Relationship' if x in ['Married','Together'] else 'Single' for x in all_data['Marital_Status']]).drop(columns=['Marital_Status'])"
   ]
  },
  {
   "cell_type": "code",
   "execution_count": 9,
   "id": "d0b4a47d",
   "metadata": {
    "execution": {
     "iopub.execute_input": "2021-11-15T23:06:38.564267Z",
     "iopub.status.busy": "2021-11-15T23:06:38.562245Z",
     "iopub.status.idle": "2021-11-15T23:06:38.568566Z",
     "shell.execute_reply": "2021-11-15T23:06:38.569063Z",
     "shell.execute_reply.started": "2021-11-15T21:45:01.373172Z"
    },
    "papermill": {
     "duration": 0.072378,
     "end_time": "2021-11-15T23:06:38.569242",
     "exception": false,
     "start_time": "2021-11-15T23:06:38.496864",
     "status": "completed"
    },
    "tags": []
   },
   "outputs": [],
   "source": [
    "all_data['Dt_parsed'] = pd.to_datetime(all_data['Dt_Customer'],format = \"%d-%m-%Y\")\n",
    "all_data = all_data.drop(columns=['Dt_Customer'])"
   ]
  },
  {
   "cell_type": "code",
   "execution_count": 10,
   "id": "036fd80a",
   "metadata": {
    "execution": {
     "iopub.execute_input": "2021-11-15T23:06:38.675246Z",
     "iopub.status.busy": "2021-11-15T23:06:38.674614Z",
     "iopub.status.idle": "2021-11-15T23:06:38.682018Z",
     "shell.execute_reply": "2021-11-15T23:06:38.682575Z",
     "shell.execute_reply.started": "2021-11-15T21:45:01.399121Z"
    },
    "papermill": {
     "duration": 0.061935,
     "end_time": "2021-11-15T23:06:38.682748",
     "exception": false,
     "start_time": "2021-11-15T23:06:38.620813",
     "status": "completed"
    },
    "tags": []
   },
   "outputs": [],
   "source": [
    "basedate = pd.Timestamp('2015-12-31')\n",
    "all_data['Enroll_days'] = (basedate - all_data['Dt_parsed']).dt.days\n",
    "all_data = all_data.drop(columns=['Dt_parsed'])"
   ]
  },
  {
   "cell_type": "code",
   "execution_count": 11,
   "id": "134f571c",
   "metadata": {
    "execution": {
     "iopub.execute_input": "2021-11-15T23:06:38.788321Z",
     "iopub.status.busy": "2021-11-15T23:06:38.787708Z",
     "iopub.status.idle": "2021-11-15T23:06:38.794379Z",
     "shell.execute_reply": "2021-11-15T23:06:38.793871Z",
     "shell.execute_reply.started": "2021-11-15T21:45:01.413763Z"
    },
    "papermill": {
     "duration": 0.060558,
     "end_time": "2021-11-15T23:06:38.794537",
     "exception": false,
     "start_time": "2021-11-15T23:06:38.733979",
     "status": "completed"
    },
    "tags": []
   },
   "outputs": [],
   "source": [
    "all_data = all_data.assign(Education=['Postgrad' if x in ['PhD','Master','2n Cycle','Graduation'] else 'Undergrad' for x in all_data['Education']])"
   ]
  },
  {
   "cell_type": "code",
   "execution_count": 12,
   "id": "408e2906",
   "metadata": {
    "execution": {
     "iopub.execute_input": "2021-11-15T23:06:38.902542Z",
     "iopub.status.busy": "2021-11-15T23:06:38.901862Z",
     "iopub.status.idle": "2021-11-15T23:06:38.906212Z",
     "shell.execute_reply": "2021-11-15T23:06:38.906725Z",
     "shell.execute_reply.started": "2021-11-15T21:45:01.424541Z"
    },
    "papermill": {
     "duration": 0.060161,
     "end_time": "2021-11-15T23:06:38.906894",
     "exception": false,
     "start_time": "2021-11-15T23:06:38.846733",
     "status": "completed"
    },
    "tags": []
   },
   "outputs": [],
   "source": [
    "all_data = all_data.drop(columns=['Z_CostContact','Z_Revenue'])"
   ]
  },
  {
   "cell_type": "markdown",
   "id": "78b73827",
   "metadata": {
    "papermill": {
     "duration": 0.05089,
     "end_time": "2021-11-15T23:06:39.008731",
     "exception": false,
     "start_time": "2021-11-15T23:06:38.957841",
     "status": "completed"
    },
    "tags": []
   },
   "source": [
    "## See correlations of all features before clustering"
   ]
  },
  {
   "cell_type": "code",
   "execution_count": 13,
   "id": "10629f40",
   "metadata": {
    "execution": {
     "iopub.execute_input": "2021-11-15T23:06:39.117166Z",
     "iopub.status.busy": "2021-11-15T23:06:39.116249Z",
     "iopub.status.idle": "2021-11-15T23:06:42.237583Z",
     "shell.execute_reply": "2021-11-15T23:06:42.238086Z",
     "shell.execute_reply.started": "2021-11-15T21:45:01.438464Z"
    },
    "papermill": {
     "duration": 3.178584,
     "end_time": "2021-11-15T23:06:42.238263",
     "exception": false,
     "start_time": "2021-11-15T23:06:39.059679",
     "status": "completed"
    },
    "tags": []
   },
   "outputs": [
    {
     "data": {
      "image/png": "[encoded data removed]",
      "text/plain": [
       "<Figure size 1440x1080 with 2 Axes>"
      ]
     },
     "metadata": {
      "needs_background": "light"
     },
     "output_type": "display_data"
    }
   ],
   "source": [
    "import matplotlib.pyplot as plt\n",
    "import seaborn as sns\n",
    "\n",
    "plt.figure(figsize= (20, 15))\n",
    "# Mask to hide upper-right part of plot as it is a duplicate\n",
    "mask = np.transpose(np.tril(np.ones(all_data.corr().shape)))\n",
    "sns.heatmap(all_data.corr(), annot = True, center = 0, cmap = 'RdBu', mask = mask);"
   ]
  },
  {
   "cell_type": "markdown",
   "id": "5d981746",
   "metadata": {
    "papermill": {
     "duration": 0.055895,
     "end_time": "2021-11-15T23:06:42.350178",
     "exception": false,
     "start_time": "2021-11-15T23:06:42.294283",
     "status": "completed"
    },
    "tags": []
   },
   "source": [
    "### Observations from correlation map:\n",
    "#### 1) Amount of spending on the different categories (wine, meat, fruit, etc.) are all positively correlated, and the correlations among them are quite even ==> Combine these columns into 1 column \"Expenses\". The same goes for NumPurchases columns.\n",
    "#### 2) The \"AcceptedCmp\" columns are very similar to each other. Aggregating them might be more helpful ==> Combine them into 1 column \"Total accepted Cmp\".\n",
    "#### 3) \"Complain\" \"Recency\" are not informative."
   ]
  },
  {
   "cell_type": "code",
   "execution_count": 14,
   "id": "1566431c",
   "metadata": {
    "execution": {
     "iopub.execute_input": "2021-11-15T23:06:42.469707Z",
     "iopub.status.busy": "2021-11-15T23:06:42.465032Z",
     "iopub.status.idle": "2021-11-15T23:06:42.489384Z",
     "shell.execute_reply": "2021-11-15T23:06:42.488874Z",
     "shell.execute_reply.started": "2021-11-15T21:45:03.484071Z"
    },
    "papermill": {
     "duration": 0.083383,
     "end_time": "2021-11-15T23:06:42.489539",
     "exception": false,
     "start_time": "2021-11-15T23:06:42.406156",
     "status": "completed"
    },
    "tags": []
   },
   "outputs": [
    {
     "data": {
      "text/html": [
       "<div>\n",
       "<style scoped>\n",
       "    .dataframe tbody tr th:only-of-type {\n",
       "        vertical-align: middle;\n",
       "    }\n",
       "\n",
       "    .dataframe tbody tr th {\n",
       "        vertical-align: top;\n",
       "    }\n",
       "\n",
       "    .dataframe thead th {\n",
       "        text-align: right;\n",
       "    }\n",
       "</style>\n",
       "<table border=\"1\" class=\"dataframe\">\n",
       "  <thead>\n",
       "    <tr style=\"text-align: right;\">\n",
       "      <th></th>\n",
       "      <th>Education</th>\n",
       "      <th>Income</th>\n",
       "      <th>NumWebVisitsMonth</th>\n",
       "      <th>Kids</th>\n",
       "      <th>Age</th>\n",
       "      <th>is_married</th>\n",
       "      <th>Enroll_days</th>\n",
       "      <th>Expenses</th>\n",
       "      <th>TotalAcceptedCmp</th>\n",
       "      <th>NumPurchases</th>\n",
       "    </tr>\n",
       "    <tr>\n",
       "      <th>ID</th>\n",
       "      <th></th>\n",
       "      <th></th>\n",
       "      <th></th>\n",
       "      <th></th>\n",
       "      <th></th>\n",
       "      <th></th>\n",
       "      <th></th>\n",
       "      <th></th>\n",
       "      <th></th>\n",
       "      <th></th>\n",
       "    </tr>\n",
       "  </thead>\n",
       "  <tbody>\n",
       "    <tr>\n",
       "      <th>5524</th>\n",
       "      <td>Postgrad</td>\n",
       "      <td>58138.0</td>\n",
       "      <td>7</td>\n",
       "      <td>0</td>\n",
       "      <td>58</td>\n",
       "      <td>Single</td>\n",
       "      <td>1213</td>\n",
       "      <td>1617</td>\n",
       "      <td>1</td>\n",
       "      <td>25</td>\n",
       "    </tr>\n",
       "    <tr>\n",
       "      <th>2174</th>\n",
       "      <td>Postgrad</td>\n",
       "      <td>46344.0</td>\n",
       "      <td>5</td>\n",
       "      <td>2</td>\n",
       "      <td>61</td>\n",
       "      <td>Single</td>\n",
       "      <td>663</td>\n",
       "      <td>27</td>\n",
       "      <td>0</td>\n",
       "      <td>6</td>\n",
       "    </tr>\n",
       "    <tr>\n",
       "      <th>4141</th>\n",
       "      <td>Postgrad</td>\n",
       "      <td>71613.0</td>\n",
       "      <td>4</td>\n",
       "      <td>0</td>\n",
       "      <td>50</td>\n",
       "      <td>Relationship</td>\n",
       "      <td>862</td>\n",
       "      <td>776</td>\n",
       "      <td>0</td>\n",
       "      <td>21</td>\n",
       "    </tr>\n",
       "    <tr>\n",
       "      <th>6182</th>\n",
       "      <td>Postgrad</td>\n",
       "      <td>26646.0</td>\n",
       "      <td>6</td>\n",
       "      <td>1</td>\n",
       "      <td>31</td>\n",
       "      <td>Relationship</td>\n",
       "      <td>689</td>\n",
       "      <td>53</td>\n",
       "      <td>0</td>\n",
       "      <td>8</td>\n",
       "    </tr>\n",
       "    <tr>\n",
       "      <th>5324</th>\n",
       "      <td>Postgrad</td>\n",
       "      <td>58293.0</td>\n",
       "      <td>5</td>\n",
       "      <td>1</td>\n",
       "      <td>34</td>\n",
       "      <td>Relationship</td>\n",
       "      <td>711</td>\n",
       "      <td>422</td>\n",
       "      <td>0</td>\n",
       "      <td>19</td>\n",
       "    </tr>\n",
       "    <tr>\n",
       "      <th>7446</th>\n",
       "      <td>Postgrad</td>\n",
       "      <td>62513.0</td>\n",
       "      <td>6</td>\n",
       "      <td>1</td>\n",
       "      <td>48</td>\n",
       "      <td>Relationship</td>\n",
       "      <td>843</td>\n",
       "      <td>716</td>\n",
       "      <td>0</td>\n",
       "      <td>22</td>\n",
       "    </tr>\n",
       "    <tr>\n",
       "      <th>965</th>\n",
       "      <td>Postgrad</td>\n",
       "      <td>55635.0</td>\n",
       "      <td>6</td>\n",
       "      <td>1</td>\n",
       "      <td>44</td>\n",
       "      <td>Single</td>\n",
       "      <td>1143</td>\n",
       "      <td>590</td>\n",
       "      <td>0</td>\n",
       "      <td>21</td>\n",
       "    </tr>\n",
       "    <tr>\n",
       "      <th>6177</th>\n",
       "      <td>Postgrad</td>\n",
       "      <td>33454.0</td>\n",
       "      <td>8</td>\n",
       "      <td>1</td>\n",
       "      <td>30</td>\n",
       "      <td>Relationship</td>\n",
       "      <td>967</td>\n",
       "      <td>169</td>\n",
       "      <td>0</td>\n",
       "      <td>10</td>\n",
       "    </tr>\n",
       "    <tr>\n",
       "      <th>4855</th>\n",
       "      <td>Postgrad</td>\n",
       "      <td>30351.0</td>\n",
       "      <td>9</td>\n",
       "      <td>1</td>\n",
       "      <td>41</td>\n",
       "      <td>Relationship</td>\n",
       "      <td>938</td>\n",
       "      <td>46</td>\n",
       "      <td>1</td>\n",
       "      <td>6</td>\n",
       "    </tr>\n",
       "    <tr>\n",
       "      <th>5899</th>\n",
       "      <td>Postgrad</td>\n",
       "      <td>5648.0</td>\n",
       "      <td>20</td>\n",
       "      <td>2</td>\n",
       "      <td>65</td>\n",
       "      <td>Relationship</td>\n",
       "      <td>658</td>\n",
       "      <td>49</td>\n",
       "      <td>1</td>\n",
       "      <td>2</td>\n",
       "    </tr>\n",
       "  </tbody>\n",
       "</table>\n",
       "</div>"
      ],
      "text/plain": [
       "     Education   Income  NumWebVisitsMonth  Kids  Age    is_married  \\\n",
       "ID                                                                    \n",
       "5524  Postgrad  58138.0                  7     0   58        Single   \n",
       "2174  Postgrad  46344.0                  5     2   61        Single   \n",
       "4141  Postgrad  71613.0                  4     0   50  Relationship   \n",
       "6182  Postgrad  26646.0                  6     1   31  Relationship   \n",
       "5324  Postgrad  58293.0                  5     1   34  Relationship   \n",
       "7446  Postgrad  62513.0                  6     1   48  Relationship   \n",
       "965   Postgrad  55635.0                  6     1   44        Single   \n",
       "6177  Postgrad  33454.0                  8     1   30  Relationship   \n",
       "4855  Postgrad  30351.0                  9     1   41  Relationship   \n",
       "5899  Postgrad   5648.0                 20     2   65  Relationship   \n",
       "\n",
       "      Enroll_days  Expenses  TotalAcceptedCmp  NumPurchases  \n",
       "ID                                                           \n",
       "5524         1213      1617                 1            25  \n",
       "2174          663        27                 0             6  \n",
       "4141          862       776                 0            21  \n",
       "6182          689        53                 0             8  \n",
       "5324          711       422                 0            19  \n",
       "7446          843       716                 0            22  \n",
       "965          1143       590                 0            21  \n",
       "6177          967       169                 0            10  \n",
       "4855          938        46                 1             6  \n",
       "5899          658        49                 1             2  "
      ]
     },
     "execution_count": 14,
     "metadata": {},
     "output_type": "execute_result"
    }
   ],
   "source": [
    "all_data['Expenses'] = all_data['MntWines'] + all_data['MntFruits'] + all_data['MntMeatProducts'] + all_data['MntFishProducts'] + all_data['MntSweetProducts'] +all_data['MntGoldProds']\n",
    "all_data['TotalAcceptedCmp'] = all_data['AcceptedCmp1'] + all_data['AcceptedCmp2'] + all_data['AcceptedCmp3'] + all_data['AcceptedCmp4'] + all_data['AcceptedCmp5'] + all_data['Response']\n",
    "all_data['NumPurchases'] = all_data['NumDealsPurchases'] + all_data['NumWebPurchases'] + all_data['NumCatalogPurchases'] + all_data['NumStorePurchases']\n",
    "all_data = all_data.drop(columns = ['MntWines','MntFruits','MntMeatProducts','MntFishProducts','MntSweetProducts','MntGoldProds','AcceptedCmp1','AcceptedCmp2','AcceptedCmp3','AcceptedCmp4','AcceptedCmp5','Response','NumDealsPurchases','NumWebPurchases','NumCatalogPurchases','NumStorePurchases', 'Complain','Recency'])\n",
    "all_data.head(10)"
   ]
  },
  {
   "cell_type": "code",
   "execution_count": 15,
   "id": "880d9e84",
   "metadata": {
    "execution": {
     "iopub.execute_input": "2021-11-15T23:06:42.611219Z",
     "iopub.status.busy": "2021-11-15T23:06:42.610516Z",
     "iopub.status.idle": "2021-11-15T23:06:43.034809Z",
     "shell.execute_reply": "2021-11-15T23:06:43.035323Z",
     "shell.execute_reply.started": "2021-11-15T21:45:03.514610Z"
    },
    "papermill": {
     "duration": 0.489089,
     "end_time": "2021-11-15T23:06:43.035545",
     "exception": false,
     "start_time": "2021-11-15T23:06:42.546456",
     "status": "completed"
    },
    "tags": []
   },
   "outputs": [
    {
     "data": {
      "image/png": "[encoded data removed]",
      "text/plain": [
       "<Figure size 1440x1080 with 2 Axes>"
      ]
     },
     "metadata": {
      "needs_background": "light"
     },
     "output_type": "display_data"
    }
   ],
   "source": [
    "plt.figure(figsize= (20, 15))\n",
    "# Mask to hide upper-right part of plot as it is a duplicate\n",
    "mask = np.transpose(np.tril(np.ones(all_data.corr().shape)))\n",
    "sns.heatmap(all_data.corr(), annot = True, center = 0, cmap = 'RdBu', mask = mask);"
   ]
  },
  {
   "cell_type": "code",
   "execution_count": 16,
   "id": "01eff5d9",
   "metadata": {
    "execution": {
     "iopub.execute_input": "2021-11-15T23:06:43.156264Z",
     "iopub.status.busy": "2021-11-15T23:06:43.155616Z",
     "iopub.status.idle": "2021-11-15T23:06:45.502106Z",
     "shell.execute_reply": "2021-11-15T23:06:45.502666Z",
     "shell.execute_reply.started": "2021-11-15T21:45:03.990490Z"
    },
    "papermill": {
     "duration": 2.408265,
     "end_time": "2021-11-15T23:06:45.502879",
     "exception": false,
     "start_time": "2021-11-15T23:06:43.094614",
     "status": "completed"
    },
    "tags": []
   },
   "outputs": [
    {
     "data": {
      "text/html": [
       "        <script type=\"text/javascript\">\n",
       "        window.PlotlyConfig = {MathJaxConfig: 'local'};\n",
       "        if (window.MathJax) {MathJax.Hub.Config({SVG: {font: \"STIX-Web\"}});}\n",
       "        if (typeof require !== 'undefined') {\n",
       "        require.undef(\"plotly\");\n",
       "        requirejs.config({\n",
       "            paths: {\n",
       "                'plotly': ['https://cdn.plot.ly/plotly-2.4.2.min']\n",
       "            }\n",
       "        });\n",
       "        require(['plotly'], function(Plotly) {\n",
       "            window._Plotly = Plotly;\n",
       "        });\n",
       "        }\n",
       "        </script>\n",
       "        "
      ]
     },
     "metadata": {},
     "output_type": "display_data"
    },
    {
     "data": {
      "text/html": [
       "<div>                            <div id=\"381c88a6-b393-453d-987c-88902a8fbbef\" class=\"plotly-graph-div\" style=\"height:525px; width:100%;\"></div>            <script type=\"text/javascript\">                require([\"plotly\"], function(Plotly) {                    window.PLOTLYENV=window.PLOTLYENV || {};                                    if (document.getElementById(\"381c88a6-b393-453d-987c-88902a8fbbef\")) {                    Plotly.newPlot(                        \"381c88a6-b393-453d-987c-88902a8fbbef\",                        [{\"alignmentgroup\":\"True\",\"hovertemplate\":\"Enroll_days=%{marker.color}<br>Expenses=%{y}<extra></extra>\",\"legendgroup\":\"\",\"marker\":{\"color\":[1213,663,862,689,711,843,1143,967,938,658,776,1143,776,776,1177,1132,1102,1217,1008,1153,1240,1089,1103,719,1018,1093,948,1044,944,769,588,964,1177,1158,1044,854,730,850,688,1063,976,1024,1102,786,820,551,1147,951,729,1148,598,1237,1093,572,932,1137,1003,612,927,668,910,1210,1046,933,755,954,599,652,825,997,1206,1203,1019,1000,610,1107,1221,1175,848,1093,1219,921,911,964,674,872,898,582,598,709,1137,583,768,648,586,588,1134,994,760,924,891,641,985,958,602,751,828,1062,1107,1119,789,1146,554,1093,1114,842,706,1045,903,777,924,675,848,983,1024,1046,984,571,903,600,822,1026,689,872,869,1019,1240,907,591,886,1168,777,986,855,1017,1169,1159,855,1226,558,616,664,1112,598,1178,1045,906,840,805,863,913,1151,725,974,670,778,773,855,789,674,619,901,619,700,636,1205,1110,587,555,760,599,600,824,708,564,1121,663,881,1017,1041,1208,958,826,945,1046,732,597,833,1078,640,550,752,808,1154,897,1146,753,962,571,1207,1005,653,1182,1074,971,639,598,776,852,1142,629,777,626,1090,1209,1010,1162,1117,1240,683,1016,1090,960,624,1013,752,757,818,735,593,794,1103,883,763,1231,574,955,1086,1217,1158,836,795,1000,1195,1219,1174,1171,1165,940,753,1177,953,562,1133,1061,1022,553,1172,925,818,1195,651,695,634,1058,836,1078,610,1003,984,1053,1162,1217,670,623,902,1066,1087,598,931,910,734,1156,715,1024,1225,1029,1082,1083,654,624,810,670,627,734,1008,1199,666,842,978,712,794,941,1058,744,660,885,1234,898,860,1078,913,690,1057,1084,909,912,784,966,1051,989,841,1002,1085,914,1205,1120,1144,1033,826,1238,754,1133,931,868,781,921,563,1101,727,744,1085,794,1160,1104,762,964,1114,863,814,1189,649,675,1133,1098,1227,958,1020,1139,1125,618,1159,854,1145,922,1230,1018,1096,820,930,1087,777,1114,1226,641,960,806,1182,1218,967,727,752,606,987,674,816,1202,1217,1102,1147,1013,1190,868,1025,800,570,1218,580,938,1170,1139,1147,1006,1226,1072,640,771,685,1042,1031,604,588,574,940,992,757,616,635,606,980,966,1158,1072,766,697,923,740,845,861,1057,910,741,877,1096,654,901,813,732,935,739,973,1048,805,760,1210,1228,1202,1004,585,1192,729,830,702,553,675,668,982,1156,665,1233,1009,812,1244,1093,592,1046,601,587,1164,1156,731,872,1229,792,1177,1203,777,918,704,1159,1193,1123,1042,1083,764,992,635,984,588,1002,1242,776,1097,1224,923,1149,759,895,923,1110,950,1008,802,654,964,991,1061,914,860,670,703,670,867,1187,1209,1122,764,571,1236,788,1049,834,561,981,927,994,712,684,875,738,784,1242,1128,876,940,663,723,758,704,642,640,632,692,987,785,1205,1035,1000,880,953,843,928,919,715,786,572,1121,845,909,1119,1205,703,839,882,820,1064,639,860,836,905,1146,1018,802,990,637,622,1194,838,593,863,1175,1114,781,700,841,833,1161,803,940,1231,1043,1217,835,1117,1069,1097,688,1025,1161,603,864,896,1115,794,1147,888,969,941,1018,1231,903,900,661,733,941,1075,941,1196,1211,1108,772,566,715,684,987,661,940,1087,1189,785,1182,597,1096,968,1026,865,1074,748,587,836,682,1221,1236,627,1245,692,726,1195,852,801,1119,777,736,1210,1094,1098,959,827,966,784,885,783,1205,745,1125,588,1157,728,928,738,804,1218,889,798,742,1029,1205,1244,594,822,1183,858,902,789,946,888,645,997,788,631,835,659,688,611,735,1085,552,995,770,1085,902,1166,1044,961,876,1119,1194,1053,1005,642,1107,973,587,1051,1247,571,768,705,811,990,825,1241,932,806,813,611,1007,576,1018,1239,1013,1030,729,882,705,963,752,662,837,701,730,819,736,1036,608,1055,1237,833,1021,634,819,616,794,965,588,978,1206,1212,851,949,911,749,981,992,1118,1030,853,704,743,840,635,626,599,652,926,1158,684,1093,581,1209,1080,1149,895,793,1000,1075,551,1164,1034,747,748,1010,1076,786,999,787,648,801,1014,999,806,985,579,1060,768,598,659,1132,642,851,970,875,564,987,953,989,968,1083,964,670,769,1207,970,820,1050,1007,980,1194,912,650,878,1127,598,1146,887,717,1188,1102,799,965,931,719,1150,584,654,1004,667,1045,1183,970,704,684,1086,1183,744,933,1010,828,969,1170,824,724,568,636,816,835,914,1050,635,1078,689,1171,891,560,1205,912,1130,750,1004,745,1055,1209,716,610,1063,1114,876,707,872,800,1058,867,900,757,1012,631,770,759,726,661,915,784,1070,900,1123,964,735,876,774,957,627,988,1071,606,592,1217,689,731,606,774,632,689,1236,1104,588,585,798,953,900,874,934,894,947,1032,1104,1186,683,822,755,1186,600,602,1066,964,599,1054,1125,1231,603,978,1196,603,1096,808,554,840,864,1175,992,1174,697,1078,1144,774,1173,696,1247,811,727,840,902,557,876,808,868,862,766,797,963,550,650,1127,1217,681,557,645,782,674,870,788,1207,813,1009,1051,958,1062,1151,963,704,965,1223,719,1029,1207,622,621,633,947,1092,1044,560,907,1032,555,1153,997,862,1066,882,1152,915,1078,554,1073,598,1219,673,834,641,946,617,1153,1199,587,884,1174,827,809,1143,909,633,574,1048,1050,1000,1182,1219,874,1129,1005,1186,889,1085,591,629,1205,609,1245,1244,667,585,1123,1126,675,896,911,974,863,708,983,654,1139,1226,866,1062,1060,810,1091,607,654,581,614,860,922,659,876,577,1156,982,1093,814,955,881,796,647,776,560,880,700,579,1039,1035,690,682,853,855,806,832,1079,840,816,1134,958,737,1138,1108,1240,616,1083,741,1080,812,572,1144,793,586,1243,972,588,1062,924,1064,599,866,786,709,772,1203,779,1174,908,1219,1219,1195,637,582,893,1121,581,1025,648,1203,1167,1226,809,952,909,1226,946,708,682,654,1222,718,1087,778,1153,958,992,686,1082,1090,1076,972,602,881,861,858,1120,672,1104,1139,620,682,983,984,851,1005,635,1208,841,1070,730,1177,866,1044,769,793,683,953,810,990,795,1024,1156,916,897,1240,816,1076,1226,830,1069,884,830,977,810,1165,868,641,1049,915,690,1015,608,584,623,818,910,762,712,819,586,620,1244,592,1123,1000,647,586,856,898,1042,840,804,1249,1245,598,652,867,591,953,756,908,665,814,1193,1056,863,558,633,1073,1222,1017,1135,1038,745,1094,1196,762,1239,1230,1197,893,1151,1022,1133,936,1054,1096,847,883,653,754,628,642,797,920,680,1099,940,1032,681,1039,1155,916,1002,587,716,892,699,1133,857,785,719,985,821,569,885,698,983,938,723,1214,642,1050,622,827,749,774,664,1114,834,885,1230,835,967,620,806,1240,581,1135,1186,1048,1016,1044,1054,924,852,972,1006,801,1148,703,1147,1019,983,612,732,818,1191,768,945,1248,889,1213,784,766,735,597,611,736,969,1183,1033,1124,731,863,919,1004,605,911,1214,718,1181,715,669,863,1110,608,811,819,669,1147,595,884,588,692,984,1116,1223,642,619,1235,1175,1241,994,744,1209,1211,1189,955,681,708,1051,934,1079,676,655,702,629,809,1145,683,1098,971,992,836,641,1032,1000,686,742,738,792,971,1223,1070,617,1050,896,831,1214,1163,825,807,1110,1125,797,648,1047,570,778,822,1220,554,1174,1083,687,1203,704,864,627,561,906,924,1051,963,691,1079,740,973,978,1216,1140,1052,1133,789,794,706,1004,1217,806,861,1246,1033,557,569,1084,781,920,1074,887,821,750,704,760,1232,1143,1082,1053,686,1231,1151,1228,651,905,1149,797,936,697,1230,1131,613,975,660,1128,843,832,1145,941,949,692,604,992,1136,635,1115,675,1012,1115,960,565,1230,1213,1182,741,754,1171,1083,643,1028,1127,949,1217,1082,850,1147,1075,1007,810,663,1215,587,1236,837,1159,930,1072,893,1050,787,1155,561,563,1076,1124,625,1190,1009,1132,1153,686,794,1231,1007,648,612,923,1072,707,750,759,617,674,591,1229,552,995,737,1120,1050,1217,857,635,1169,684,807,1189,615,917,1191,943,853,669,887,1079,1006,662,629,1238,1122,866,874,732,817,795,592,703,1148,863,1083,1192,1079,1072,668,1209,1019,677,797,852,801,647,925,814,993,927,820,560,917,648,829,1160,751,608,965,749,563,957,603,673,1228,1210,976,892,663,947,697,890,556,973,960,581,720,841,925,863,732,772,1042,884,847,1084,941,1134,1128,1011,917,1052,707,814,713,1153,575,797,646,1240,891,1091,895,895,908,1045,1221,1095,952,1198,1037,1195,666,1217,641,771,650,1185,829,1197,1232,728,670,562,855,996,1146,581,1143,955,602,847,1131,1082,974,747,638,702,622,1158,1088,1028,1047,648,1098,978,659,969,1046,616,765,586,750,616,987,582,1079,1075,1161,1136,824,946,1033,1171,1205,672,1052,1101,1019,785,879,600,949,842,1026,799,863,845,1010,563,967,564,802,1199,987,1182,936,653,1158,1219,1174,877,882,1109,682,1173,763,1094,1153,1196,752,1220,789,878,628,868,692,901,930,819,624,573,608,552,1173,977,1016,720,936,754,940,612,1151,1183,1140,551,1075,1050,893,824,895,852,564,633,811,818,874,1213,837,858,1049,952,953,814,1021,1047,651,841,1116,843,1014,1245,1195,1053,941,617,852,754,1205,556,906,719,697,1199,956,1158,1084,842,871,1139,910,1069,1199,1149,746,876,808,1147,1180,846,599,1186,661,670,932,624,1093,621,692,1232,709,1045,899,1172,610,622,956,591,1153,711,784,843,1038,1217,608,1068,576,584,802,1208,640,582,931,1041,627,653,798,705,964,846,694,1017,826,620,1146,1173,1226,1070,1224,1048,944,1044,1100,557,711,1167,821,1087,847,1133,921,1143,927,771,824,723,639,997,1211,1026,1137,648,852,693,1081,1241,615,1203,1058,1154,559,1005,1052,906,834,598,1235,768,607,713,1165,982,603,911,905,562,969,725,859,800,671,1037,707,1050,646,1094,998,784,817,1246,832,630,1121,1037,1199,687,934,1052,1102,1058,922,801,627,745,1008,805,637,988,587,1219,1101,1079,728,1028,737,1211,567,834,784,1130,1051,835,669,955,1050,877,1068,1241,1007,1035,990,641,1192,687,1000,709,694,1048,676,1024,805,1210,1247,1026,765,779,976,824,756,1183,943,1008,1056,973,1192,762,760,1206,761,570,841,1231,734,1027,830,557,577,553,1017,1181,893,1090,957,734,944,797,1083,1236,1089,846,1158,635,803,878,736,837,1085,907,692,909,644,1033,921,1222,804,1149,1082,792,1048,1111,640,818,785,852,801,608,1107,1210,954,822,947,1188,1127,651,588,1200,680,1036,1158,934,1111,936,1200,942,1105,594,790,890,757,857,709,995,1169,1205,873,1218,1245,559,818,881,1006,1214,788,983,1025,854,1234,720,634,820,599,670,1242,700,707,1063,671,713,768,646,647,908,810,746,1200,702,820,917,598,611,708,659,705,1176,667,882,941,794,920,1050,1009,738,768,666,916,713,885,661,1084,1104,1169,1088,798,787,1029,617,955,653,1085,693,599,720,655,1039,1043,1246,1150,1247,1014,619,862,926,553,878,1133,1169,1093,1048,1172,1237,648,1119,899,1051,694,609,1175,884,1106,1015,635,925,1173,765,910,968,554,721,1191,1012,1033,1236,592,1020,1227,1231,942,913,931,569,705,706,1172],\"coloraxis\":\"coloraxis\",\"pattern\":{\"shape\":\"\"}},\"name\":\"\",\"offsetgroup\":\"\",\"orientation\":\"v\",\"showlegend\":false,\"textposition\":\"auto\",\"type\":\"bar\",\"x\":[1213,663,862,689,711,843,1143,967,938,658,776,1143,776,776,1177,1132,1102,1217,1008,1153,1240,1089,1103,719,1018,1093,948,1044,944,769,588,964,1177,1158,1044,854,730,850,688,1063,976,1024,1102,786,820,551,1147,951,729,1148,598,1237,1093,572,932,1137,1003,612,927,668,910,1210,1046,933,755,954,599,652,825,997,1206,1203,1019,1000,610,1107,1221,1175,848,1093,1219,921,911,964,674,872,898,582,598,709,1137,583,768,648,586,588,1134,994,760,924,891,641,985,958,602,751,828,1062,1107,1119,789,1146,554,1093,1114,842,706,1045,903,777,924,675,848,983,1024,1046,984,571,903,600,822,1026,689,872,869,1019,1240,907,591,886,1168,777,986,855,1017,1169,1159,855,1226,558,616,664,1112,598,1178,1045,906,840,805,863,913,1151,725,974,670,778,773,855,789,674,619,901,619,700,636,1205,1110,587,555,760,599,600,824,708,564,1121,663,881,1017,1041,1208,958,826,945,1046,732,597,833,1078,640,550,752,808,1154,897,1146,753,962,571,1207,1005,653,1182,1074,971,639,598,776,852,1142,629,777,626,1090,1209,1010,1162,1117,1240,683,1016,1090,960,624,1013,752,757,818,735,593,794,1103,883,763,1231,574,955,1086,1217,1158,836,795,1000,1195,1219,1174,1171,1165,940,753,1177,953,562,1133,1061,1022,553,1172,925,818,1195,651,695,634,1058,836,1078,610,1003,984,1053,1162,1217,670,623,902,1066,1087,598,931,910,734,1156,715,1024,1225,1029,1082,1083,654,624,810,670,627,734,1008,1199,666,842,978,712,794,941,1058,744,660,885,1234,898,860,1078,913,690,1057,1084,909,912,784,966,1051,989,841,1002,1085,914,1205,1120,1144,1033,826,1238,754,1133,931,868,781,921,563,1101,727,744,1085,794,1160,1104,762,964,1114,863,814,1189,649,675,1133,1098,1227,958,1020,1139,1125,618,1159,854,1145,922,1230,1018,1096,820,930,1087,777,1114,1226,641,960,806,1182,1218,967,727,752,606,987,674,816,1202,1217,1102,1147,1013,1190,868,1025,800,570,1218,580,938,1170,1139,1147,1006,1226,1072,640,771,685,1042,1031,604,588,574,940,992,757,616,635,606,980,966,1158,1072,766,697,923,740,845,861,1057,910,741,877,1096,654,901,813,732,935,739,973,1048,805,760,1210,1228,1202,1004,585,1192,729,830,702,553,675,668,982,1156,665,1233,1009,812,1244,1093,592,1046,601,587,1164,1156,731,872,1229,792,1177,1203,777,918,704,1159,1193,1123,1042,1083,764,992,635,984,588,1002,1242,776,1097,1224,923,1149,759,895,923,1110,950,1008,802,654,964,991,1061,914,860,670,703,670,867,1187,1209,1122,764,571,1236,788,1049,834,561,981,927,994,712,684,875,738,784,1242,1128,876,940,663,723,758,704,642,640,632,692,987,785,1205,1035,1000,880,953,843,928,919,715,786,572,1121,845,909,1119,1205,703,839,882,820,1064,639,860,836,905,1146,1018,802,990,637,622,1194,838,593,863,1175,1114,781,700,841,833,1161,803,940,1231,1043,1217,835,1117,1069,1097,688,1025,1161,603,864,896,1115,794,1147,888,969,941,1018,1231,903,900,661,733,941,1075,941,1196,1211,1108,772,566,715,684,987,661,940,1087,1189,785,1182,597,1096,968,1026,865,1074,748,587,836,682,1221,1236,627,1245,692,726,1195,852,801,1119,777,736,1210,1094,1098,959,827,966,784,885,783,1205,745,1125,588,1157,728,928,738,804,1218,889,798,742,1029,1205,1244,594,822,1183,858,902,789,946,888,645,997,788,631,835,659,688,611,735,1085,552,995,770,1085,902,1166,1044,961,876,1119,1194,1053,1005,642,1107,973,587,1051,1247,571,768,705,811,990,825,1241,932,806,813,611,1007,576,1018,1239,1013,1030,729,882,705,963,752,662,837,701,730,819,736,1036,608,1055,1237,833,1021,634,819,616,794,965,588,978,1206,1212,851,949,911,749,981,992,1118,1030,853,704,743,840,635,626,599,652,926,1158,684,1093,581,1209,1080,1149,895,793,1000,1075,551,1164,1034,747,748,1010,1076,786,999,787,648,801,1014,999,806,985,579,1060,768,598,659,1132,642,851,970,875,564,987,953,989,968,1083,964,670,769,1207,970,820,1050,1007,980,1194,912,650,878,1127,598,1146,887,717,1188,1102,799,965,931,719,1150,584,654,1004,667,1045,1183,970,704,684,1086,1183,744,933,1010,828,969,1170,824,724,568,636,816,835,914,1050,635,1078,689,1171,891,560,1205,912,1130,750,1004,745,1055,1209,716,610,1063,1114,876,707,872,800,1058,867,900,757,1012,631,770,759,726,661,915,784,1070,900,1123,964,735,876,774,957,627,988,1071,606,592,1217,689,731,606,774,632,689,1236,1104,588,585,798,953,900,874,934,894,947,1032,1104,1186,683,822,755,1186,600,602,1066,964,599,1054,1125,1231,603,978,1196,603,1096,808,554,840,864,1175,992,1174,697,1078,1144,774,1173,696,1247,811,727,840,902,557,876,808,868,862,766,797,963,550,650,1127,1217,681,557,645,782,674,870,788,1207,813,1009,1051,958,1062,1151,963,704,965,1223,719,1029,1207,622,621,633,947,1092,1044,560,907,1032,555,1153,997,862,1066,882,1152,915,1078,554,1073,598,1219,673,834,641,946,617,1153,1199,587,884,1174,827,809,1143,909,633,574,1048,1050,1000,1182,1219,874,1129,1005,1186,889,1085,591,629,1205,609,1245,1244,667,585,1123,1126,675,896,911,974,863,708,983,654,1139,1226,866,1062,1060,810,1091,607,654,581,614,860,922,659,876,577,1156,982,1093,814,955,881,796,647,776,560,880,700,579,1039,1035,690,682,853,855,806,832,1079,840,816,1134,958,737,1138,1108,1240,616,1083,741,1080,812,572,1144,793,586,1243,972,588,1062,924,1064,599,866,786,709,772,1203,779,1174,908,1219,1219,1195,637,582,893,1121,581,1025,648,1203,1167,1226,809,952,909,1226,946,708,682,654,1222,718,1087,778,1153,958,992,686,1082,1090,1076,972,602,881,861,858,1120,672,1104,1139,620,682,983,984,851,1005,635,1208,841,1070,730,1177,866,1044,769,793,683,953,810,990,795,1024,1156,916,897,1240,816,1076,1226,830,1069,884,830,977,810,1165,868,641,1049,915,690,1015,608,584,623,818,910,762,712,819,586,620,1244,592,1123,1000,647,586,856,898,1042,840,804,1249,1245,598,652,867,591,953,756,908,665,814,1193,1056,863,558,633,1073,1222,1017,1135,1038,745,1094,1196,762,1239,1230,1197,893,1151,1022,1133,936,1054,1096,847,883,653,754,628,642,797,920,680,1099,940,1032,681,1039,1155,916,1002,587,716,892,699,1133,857,785,719,985,821,569,885,698,983,938,723,1214,642,1050,622,827,749,774,664,1114,834,885,1230,835,967,620,806,1240,581,1135,1186,1048,1016,1044,1054,924,852,972,1006,801,1148,703,1147,1019,983,612,732,818,1191,768,945,1248,889,1213,784,766,735,597,611,736,969,1183,1033,1124,731,863,919,1004,605,911,1214,718,1181,715,669,863,1110,608,811,819,669,1147,595,884,588,692,984,1116,1223,642,619,1235,1175,1241,994,744,1209,1211,1189,955,681,708,1051,934,1079,676,655,702,629,809,1145,683,1098,971,992,836,641,1032,1000,686,742,738,792,971,1223,1070,617,1050,896,831,1214,1163,825,807,1110,1125,797,648,1047,570,778,822,1220,554,1174,1083,687,1203,704,864,627,561,906,924,1051,963,691,1079,740,973,978,1216,1140,1052,1133,789,794,706,1004,1217,806,861,1246,1033,557,569,1084,781,920,1074,887,821,750,704,760,1232,1143,1082,1053,686,1231,1151,1228,651,905,1149,797,936,697,1230,1131,613,975,660,1128,843,832,1145,941,949,692,604,992,1136,635,1115,675,1012,1115,960,565,1230,1213,1182,741,754,1171,1083,643,1028,1127,949,1217,1082,850,1147,1075,1007,810,663,1215,587,1236,837,1159,930,1072,893,1050,787,1155,561,563,1076,1124,625,1190,1009,1132,1153,686,794,1231,1007,648,612,923,1072,707,750,759,617,674,591,1229,552,995,737,1120,1050,1217,857,635,1169,684,807,1189,615,917,1191,943,853,669,887,1079,1006,662,629,1238,1122,866,874,732,817,795,592,703,1148,863,1083,1192,1079,1072,668,1209,1019,677,797,852,801,647,925,814,993,927,820,560,917,648,829,1160,751,608,965,749,563,957,603,673,1228,1210,976,892,663,947,697,890,556,973,960,581,720,841,925,863,732,772,1042,884,847,1084,941,1134,1128,1011,917,1052,707,814,713,1153,575,797,646,1240,891,1091,895,895,908,1045,1221,1095,952,1198,1037,1195,666,1217,641,771,650,1185,829,1197,1232,728,670,562,855,996,1146,581,1143,955,602,847,1131,1082,974,747,638,702,622,1158,1088,1028,1047,648,1098,978,659,969,1046,616,765,586,750,616,987,582,1079,1075,1161,1136,824,946,1033,1171,1205,672,1052,1101,1019,785,879,600,949,842,1026,799,863,845,1010,563,967,564,802,1199,987,1182,936,653,1158,1219,1174,877,882,1109,682,1173,763,1094,1153,1196,752,1220,789,878,628,868,692,901,930,819,624,573,608,552,1173,977,1016,720,936,754,940,612,1151,1183,1140,551,1075,1050,893,824,895,852,564,633,811,818,874,1213,837,858,1049,952,953,814,1021,1047,651,841,1116,843,1014,1245,1195,1053,941,617,852,754,1205,556,906,719,697,1199,956,1158,1084,842,871,1139,910,1069,1199,1149,746,876,808,1147,1180,846,599,1186,661,670,932,624,1093,621,692,1232,709,1045,899,1172,610,622,956,591,1153,711,784,843,1038,1217,608,1068,576,584,802,1208,640,582,931,1041,627,653,798,705,964,846,694,1017,826,620,1146,1173,1226,1070,1224,1048,944,1044,1100,557,711,1167,821,1087,847,1133,921,1143,927,771,824,723,639,997,1211,1026,1137,648,852,693,1081,1241,615,1203,1058,1154,559,1005,1052,906,834,598,1235,768,607,713,1165,982,603,911,905,562,969,725,859,800,671,1037,707,1050,646,1094,998,784,817,1246,832,630,1121,1037,1199,687,934,1052,1102,1058,922,801,627,745,1008,805,637,988,587,1219,1101,1079,728,1028,737,1211,567,834,784,1130,1051,835,669,955,1050,877,1068,1241,1007,1035,990,641,1192,687,1000,709,694,1048,676,1024,805,1210,1247,1026,765,779,976,824,756,1183,943,1008,1056,973,1192,762,760,1206,761,570,841,1231,734,1027,830,557,577,553,1017,1181,893,1090,957,734,944,797,1083,1236,1089,846,1158,635,803,878,736,837,1085,907,692,909,644,1033,921,1222,804,1149,1082,792,1048,1111,640,818,785,852,801,608,1107,1210,954,822,947,1188,1127,651,588,1200,680,1036,1158,934,1111,936,1200,942,1105,594,790,890,757,857,709,995,1169,1205,873,1218,1245,559,818,881,1006,1214,788,983,1025,854,1234,720,634,820,599,670,1242,700,707,1063,671,713,768,646,647,908,810,746,1200,702,820,917,598,611,708,659,705,1176,667,882,941,794,920,1050,1009,738,768,666,916,713,885,661,1084,1104,1169,1088,798,787,1029,617,955,653,1085,693,599,720,655,1039,1043,1246,1150,1247,1014,619,862,926,553,878,1133,1169,1093,1048,1172,1237,648,1119,899,1051,694,609,1175,884,1106,1015,635,925,1173,765,910,968,554,721,1191,1012,1033,1236,592,1020,1227,1231,942,913,931,569,705,706,1172],\"xaxis\":\"x\",\"y\":[1617,27,776,53,422,716,590,169,46,49,19,61,1102,310,46,1315,96,317,1782,133,316,1730,972,544,444,75,257,637,131,1672,30,318,120,302,1196,65,913,81,67,902,1395,53,22,186,31,984,122,55,124,1319,507,1693,72,1617,606,1957,1093,29,46,518,1438,612,884,606,1076,34,11,1274,653,1562,1253,109,863,661,65,13,1890,2209,18,692,165,16,79,318,778,56,151,372,1366,194,603,18,985,32,43,45,606,63,978,410,72,55,1169,1120,1097,29,187,910,145,850,969,1820,608,730,551,114,1724,577,81,33,660,80,30,43,1135,559,1923,90,404,661,463,632,725,725,279,1482,29,106,49,38,2077,1053,1385,871,312,877,68,22,211,127,459,460,429,89,1021,1381,306,18,162,1231,13,1706,121,1293,1608,88,421,259,1117,89,36,57,148,93,119,1835,1318,45,10,978,191,57,1033,66,43,50,39,608,1581,68,80,1282,65,91,315,31,834,1600,1270,263,535,1295,1150,1240,38,35,53,293,65,1804,241,1101,264,541,1198,482,17,1615,285,1135,114,1047,714,185,1245,189,576,1103,1753,17,433,1588,22,19,1117,69,23,605,57,22,2088,1009,26,1627,1102,17,1690,1390,2126,1531,64,26,1112,210,1148,33,1101,322,44,17,31,845,275,25,275,90,1495,184,981,67,1635,60,231,48,99,770,957,818,925,908,102,576,317,461,37,70,930,859,1478,390,52,137,1919,68,25,1374,32,100,825,916,62,728,90,273,66,1213,107,1157,546,241,53,37,1611,1508,235,32,102,401,28,1052,680,30,20,1307,630,1283,65,37,38,160,23,71,1161,59,33,946,1442,62,1674,1853,1538,139,1182,507,18,940,42,1190,44,16,835,1443,1029,1188,1277,49,99,1670,900,425,2153,636,57,25,494,693,1348,51,1932,990,30,254,29,1371,73,120,81,37,1377,51,17,22,324,211,19,41,492,1005,114,1173,1738,222,1127,209,787,1598,186,47,27,96,64,1040,163,343,446,41,70,272,46,490,79,915,1485,369,1073,1242,78,1378,1474,751,48,45,10,1435,2119,20,1795,1188,43,1008,1688,684,1082,1068,57,46,733,467,122,36,34,156,14,37,34,20,192,1379,48,428,868,1001,59,431,971,348,2059,265,270,1289,893,926,135,1495,120,1288,1743,15,542,890,1388,17,906,44,25,973,31,518,530,506,70,54,296,266,747,895,1053,735,20,205,2092,309,1722,900,682,663,43,1816,976,746,64,32,263,1445,46,1210,945,1157,137,730,216,943,347,1924,397,2089,138,42,777,1902,52,1651,358,1727,210,42,1291,442,1895,411,521,1168,493,260,46,319,96,1062,232,76,54,201,406,1919,662,41,1600,134,69,21,54,91,526,162,1008,240,795,1772,64,1957,78,1572,795,889,331,265,1065,11,21,17,369,38,177,279,62,1230,182,49,75,227,215,444,47,143,55,63,1867,611,473,55,81,2086,1478,49,382,69,67,30,63,79,42,819,1151,594,129,213,67,28,45,1193,268,266,37,37,882,373,35,107,42,326,404,95,939,33,981,36,1237,1825,103,191,1586,963,889,93,1587,16,1375,393,1477,1179,1005,1348,1307,486,2252,235,1724,235,1092,599,2008,48,1174,67,365,6,165,210,1095,223,597,22,1064,74,26,60,20,59,34,198,1048,574,1029,670,990,11,1241,576,172,664,928,2074,467,257,1146,689,2114,1717,1346,1044,493,957,270,29,121,126,23,57,636,1004,734,614,1453,1621,187,1443,57,637,948,59,18,903,112,596,233,1511,1152,48,1185,21,965,869,16,1947,71,65,1380,1027,411,836,11,480,606,284,1472,1677,1335,334,18,1338,1099,97,63,109,902,1574,38,960,28,1215,1497,449,1064,1757,1440,1006,1226,1171,92,99,66,564,1427,86,833,242,1869,1364,183,450,758,1507,654,81,137,16,93,1158,43,1525,1230,29,25,24,38,57,47,813,629,377,1612,729,50,270,177,315,767,1071,1580,60,573,41,170,1167,1526,458,63,405,1027,1478,72,48,726,860,1497,495,20,570,769,55,1808,55,577,162,1957,1576,1616,36,1482,22,63,680,542,50,39,1043,385,1633,46,761,76,290,89,70,1066,2009,1345,764,195,53,368,544,1853,35,446,1180,41,727,40,1062,40,292,15,341,369,401,393,10,486,69,1727,995,45,182,989,1677,595,156,1226,128,86,68,16,55,2114,2018,263,55,564,1281,83,353,1003,14,902,1139,797,1638,401,84,928,203,858,409,282,1423,1449,28,67,199,1453,1253,1198,178,1990,976,1001,1919,350,1650,46,1228,95,62,1761,467,1149,2052,1127,1416,1113,125,966,32,833,46,960,1829,779,811,1120,725,1187,2302,66,1250,683,305,50,995,41,77,171,131,54,53,475,694,96,361,1079,578,64,149,231,728,1778,93,23,662,1198,81,92,491,1564,926,1910,411,94,1085,23,6,54,1150,1415,405,1908,2486,1315,45,1789,19,573,805,108,23,1493,89,936,343,528,1901,724,58,297,488,859,1574,69,17,2194,116,279,103,44,406,1363,236,39,137,79,63,1314,71,58,702,94,80,22,1211,1461,1968,1091,55,1366,313,62,92,72,655,704,54,178,1033,36,122,122,1123,497,691,1363,12,2440,56,37,968,270,278,1250,938,1178,1155,653,49,506,38,1650,1826,18,906,46,1477,766,47,467,2116,1298,22,396,20,967,357,1401,15,2087,981,17,523,23,1192,1958,133,777,73,121,424,868,756,12,937,1862,367,443,267,61,1323,63,64,562,312,1156,1104,16,2008,44,1574,63,426,96,635,757,125,332,135,330,384,1722,78,24,1168,957,15,57,1956,2013,326,77,1313,30,315,660,74,46,86,1103,61,145,684,411,27,1060,1459,18,1833,237,48,515,1020,1370,1026,301,684,499,1004,218,606,75,106,990,1097,16,34,1711,438,75,225,18,470,91,2525,504,235,1232,88,17,24,60,1020,155,51,1812,1461,96,160,139,908,183,1161,988,1072,174,758,195,31,1084,685,1672,43,49,133,363,545,1065,2047,296,140,530,152,1598,114,101,25,789,87,90,1215,811,61,405,72,189,40,63,52,39,805,130,1631,34,152,21,71,899,711,351,8,119,21,10,973,1536,992,1529,860,928,418,587,641,23,2279,49,1779,1804,48,83,1862,793,84,183,1383,999,825,246,610,76,1286,30,99,1192,362,2130,1229,38,485,434,44,496,78,2346,794,17,26,76,15,62,198,49,802,1736,57,59,2302,37,310,1305,832,401,1501,1189,1194,656,1540,311,820,274,57,448,44,102,61,1643,397,1121,473,50,1678,58,170,373,1196,101,316,1400,1424,844,311,1149,129,32,299,320,441,1178,85,24,112,30,410,800,1313,1483,1258,28,227,1555,861,103,634,1918,131,586,62,447,939,797,1143,415,30,187,251,237,91,35,493,971,371,396,68,322,317,222,177,45,21,45,1899,42,22,41,1440,325,95,42,72,20,789,15,59,908,417,289,769,188,354,727,146,319,794,454,152,797,1690,20,1428,209,545,96,222,61,44,8,817,1371,42,60,78,23,19,61,449,37,38,1131,34,294,48,289,30,125,156,70,22,65,1930,2283,310,1319,879,1244,690,209,1134,1507,57,529,1091,180,77,2349,534,556,637,46,44,47,795,586,1574,13,1471,65,175,40,1078,1115,134,1540,87,217,1034,1180,819,32,46,1159,860,1631,444,1910,380,736,269,2524,612,75,1045,55,1064,1443,1366,436,38,436,747,1396,928,642,1048,943,907,1198,120,1658,1638,73,275,854,78,106,106,1923,1662,84,48,5,733,1234,112,1658,55,1513,271,904,120,103,269,22,1156,1086,1128,72,964,1383,18,793,100,80,167,677,23,92,641,1106,1033,1174,25,240,20,102,1034,156,458,17,792,92,407,1269,841,633,1019,1315,54,2525,52,436,268,147,1798,137,507,15,1105,974,66,778,49,169,299,221,1682,155,892,58,311,95,424,47,339,1410,35,562,2352,1334,32,41,39,1141,710,401,506,1538,57,1722,270,31,882,16,311,227,1152,122,77,1289,561,211,233,1092,601,54,78,1095,244,116,15,425,734,638,894,41,31,34,1750,612,29,823,20,396,813,1179,138,55,1511,117,1730,32,67,335,825,694,1792,496,231,902,68,71,76,772,47,1586,1529,265,1603,2091,981,1533,82,244,36,404,71,1572,122,41,10,304,37,1754,815,1001,1157,688,1319,21,31,67,708,25,746,32,1695,1080,72,57,660,103,153,1220,279,745,264,2157,1526,69,1597,64,497,1067,31,211,877,11,2034,1991,1686,324,69,252,54,964,1327,68,60,55,1456,563,1504,564,1125,358,42,184,460,145,1376,792,1382,28,1033,882,2231,1101,369,48,467,44,38,81,167,45,664,622,48,461,1073,55,976,20,1149,43,224,101,209,968,1165,24,252,165,269,102,461,47,144,1338,917,318,253,502,119,1250,969,76,62,1382,84,255,43,398,76,902,823,1179,1921,185,433,34,907,416,44,1588,1797,40,1143,914,1502,1338,27,763,1331,525,9,953,68,131,882,1149,37,388,1428,1633,173,99,215,929,219,174,92,1052,275,587,1662,159,1024,35,1042,395,557,9,69,486,34,1365,13,1401,1574,1323,1217,103,84,1536,581,928,14,424,960,1555,656,55,20,367,2257,42,1049,48,685,39,43,835,1515,1039,1596,1828,34,149,946,28,450,46,1702,820,382,2126,2069,72,732,801,236,80,1685,277,507,68,49,397,39,306,976,1028,70,46,51,1263,1490,1564,1815,1198,416,85,47,137,21,70,909,1676,1735,1191,24,1182,1280,1336,749,91,414,44,63,901,38,455,775,15,38,1512,43,42,1089,162,1272,1173,816,74,134,157,561,1336,2092,463,1130,20,377,1544,138,1012,1766,45,161,144,1734,823,1138,1429,1371,982,44,318,434,198,359,576,88,63,27,193,101,2211,140,415,22,263,393,147,443,1958,174,2217,1691,25,809,895,484,413,331,25,13,115,16,92,52,1464,441,283,747,1870,165,1941,839,1655,23,66,37,21,22,78,79,265,1175,1305,46,25,46,874,100,930,868,45,1260,414,392,1109,639,79,1665,692,1392,44,50,467,223,158,1211,1575,1208,43,527,932,71,54,129,1615,1034,1088,721,137,47,1244,41,1174,993,100,1680,98,48,519,715,37,653,1455,602,26,102,97,207,176,450,433,1366,1564,1001,961,1518,56,22,400,26,350,1216,874,40,1367,264,2053,1376,45,976,51,1264,75,57,140,497,266,2006,615,1021,22,133,437,1013,57,1038,1573,28,123,13,132,732,66,1631,608,1822,1282,8,43,1931,8,103,1169,395,258,25,185,180,22,44,94,81,798,1334,38,61,300,88,54,1782,68,258,31,66,174,28,731,274,1701,312,414,1565,29,94,1338,1092,1479,54,568,1199,873,1213,731,2043,1893,424,575,257,56,542,125,69,40,1016,907,1566,1169,46,1644,59,17,1853,1528,35,141,546,500,61,106,704,424,849,85,199,1147,54,43,53,521,1623,45,1435,32,16,52,1234,15,415,470,1438,53,51,679,586,653,468,1679,50,84,1049,22,62,30,1341,444,1241,843,172],\"yaxis\":\"y\"}],                        {\"barmode\":\"relative\",\"coloraxis\":{\"colorbar\":{\"title\":{\"text\":\"Enroll_days\"}},\"colorscale\":[[0.0,\"#0d0887\"],[0.1111111111111111,\"#46039f\"],[0.2222222222222222,\"#7201a8\"],[0.3333333333333333,\"#9c179e\"],[0.4444444444444444,\"#bd3786\"],[0.5555555555555556,\"#d8576b\"],[0.6666666666666666,\"#ed7953\"],[0.7777777777777778,\"#fb9f3a\"],[0.8888888888888888,\"#fdca26\"],[1.0,\"#f0f921\"]]},\"legend\":{\"tracegroupgap\":0},\"margin\":{\"t\":60},\"template\":{\"data\":{\"bar\":[{\"error_x\":{\"color\":\"#2a3f5f\"},\"error_y\":{\"color\":\"#2a3f5f\"},\"marker\":{\"line\":{\"color\":\"#E5ECF6\",\"width\":0.5},\"pattern\":{\"fillmode\":\"overlay\",\"size\":10,\"solidity\":0.2}},\"type\":\"bar\"}],\"barpolar\":[{\"marker\":{\"line\":{\"color\":\"#E5ECF6\",\"width\":0.5},\"pattern\":{\"fillmode\":\"overlay\",\"size\":10,\"solidity\":0.2}},\"type\":\"barpolar\"}],\"carpet\":[{\"aaxis\":{\"endlinecolor\":\"#2a3f5f\",\"gridcolor\":\"white\",\"linecolor\":\"white\",\"minorgridcolor\":\"white\",\"startlinecolor\":\"#2a3f5f\"},\"baxis\":{\"endlinecolor\":\"#2a3f5f\",\"gridcolor\":\"white\",\"linecolor\":\"white\",\"minorgridcolor\":\"white\",\"startlinecolor\":\"#2a3f5f\"},\"type\":\"carpet\"}],\"choropleth\":[{\"colorbar\":{\"outlinewidth\":0,\"ticks\":\"\"},\"type\":\"choropleth\"}],\"contour\":[{\"colorbar\":{\"outlinewidth\":0,\"ticks\":\"\"},\"colorscale\":[[0.0,\"#0d0887\"],[0.1111111111111111,\"#46039f\"],[0.2222222222222222,\"#7201a8\"],[0.3333333333333333,\"#9c179e\"],[0.4444444444444444,\"#bd3786\"],[0.5555555555555556,\"#d8576b\"],[0.6666666666666666,\"#ed7953\"],[0.7777777777777778,\"#fb9f3a\"],[0.8888888888888888,\"#fdca26\"],[1.0,\"#f0f921\"]],\"type\":\"contour\"}],\"contourcarpet\":[{\"colorbar\":{\"outlinewidth\":0,\"ticks\":\"\"},\"type\":\"contourcarpet\"}],\"heatmap\":[{\"colorbar\":{\"outlinewidth\":0,\"ticks\":\"\"},\"colorscale\":[[0.0,\"#0d0887\"],[0.1111111111111111,\"#46039f\"],[0.2222222222222222,\"#7201a8\"],[0.3333333333333333,\"#9c179e\"],[0.4444444444444444,\"#bd3786\"],[0.5555555555555556,\"#d8576b\"],[0.6666666666666666,\"#ed7953\"],[0.7777777777777778,\"#fb9f3a\"],[0.8888888888888888,\"#fdca26\"],[1.0,\"#f0f921\"]],\"type\":\"heatmap\"}],\"heatmapgl\":[{\"colorbar\":{\"outlinewidth\":0,\"ticks\":\"\"},\"colorscale\":[[0.0,\"#0d0887\"],[0.1111111111111111,\"#46039f\"],[0.2222222222222222,\"#7201a8\"],[0.3333333333333333,\"#9c179e\"],[0.4444444444444444,\"#bd3786\"],[0.5555555555555556,\"#d8576b\"],[0.6666666666666666,\"#ed7953\"],[0.7777777777777778,\"#fb9f3a\"],[0.8888888888888888,\"#fdca26\"],[1.0,\"#f0f921\"]],\"type\":\"heatmapgl\"}],\"histogram\":[{\"marker\":{\"pattern\":{\"fillmode\":\"overlay\",\"size\":10,\"solidity\":0.2}},\"type\":\"histogram\"}],\"histogram2d\":[{\"colorbar\":{\"outlinewidth\":0,\"ticks\":\"\"},\"colorscale\":[[0.0,\"#0d0887\"],[0.1111111111111111,\"#46039f\"],[0.2222222222222222,\"#7201a8\"],[0.3333333333333333,\"#9c179e\"],[0.4444444444444444,\"#bd3786\"],[0.5555555555555556,\"#d8576b\"],[0.6666666666666666,\"#ed7953\"],[0.7777777777777778,\"#fb9f3a\"],[0.8888888888888888,\"#fdca26\"],[1.0,\"#f0f921\"]],\"type\":\"histogram2d\"}],\"histogram2dcontour\":[{\"colorbar\":{\"outlinewidth\":0,\"ticks\":\"\"},\"colorscale\":[[0.0,\"#0d0887\"],[0.1111111111111111,\"#46039f\"],[0.2222222222222222,\"#7201a8\"],[0.3333333333333333,\"#9c179e\"],[0.4444444444444444,\"#bd3786\"],[0.5555555555555556,\"#d8576b\"],[0.6666666666666666,\"#ed7953\"],[0.7777777777777778,\"#fb9f3a\"],[0.8888888888888888,\"#fdca26\"],[1.0,\"#f0f921\"]],\"type\":\"histogram2dcontour\"}],\"mesh3d\":[{\"colorbar\":{\"outlinewidth\":0,\"ticks\":\"\"},\"type\":\"mesh3d\"}],\"parcoords\":[{\"line\":{\"colorbar\":{\"outlinewidth\":0,\"ticks\":\"\"}},\"type\":\"parcoords\"}],\"pie\":[{\"automargin\":true,\"type\":\"pie\"}],\"scatter\":[{\"marker\":{\"colorbar\":{\"outlinewidth\":0,\"ticks\":\"\"}},\"type\":\"scatter\"}],\"scatter3d\":[{\"line\":{\"colorbar\":{\"outlinewidth\":0,\"ticks\":\"\"}},\"marker\":{\"colorbar\":{\"outlinewidth\":0,\"ticks\":\"\"}},\"type\":\"scatter3d\"}],\"scattercarpet\":[{\"marker\":{\"colorbar\":{\"outlinewidth\":0,\"ticks\":\"\"}},\"type\":\"scattercarpet\"}],\"scattergeo\":[{\"marker\":{\"colorbar\":{\"outlinewidth\":0,\"ticks\":\"\"}},\"type\":\"scattergeo\"}],\"scattergl\":[{\"marker\":{\"colorbar\":{\"outlinewidth\":0,\"ticks\":\"\"}},\"type\":\"scattergl\"}],\"scattermapbox\":[{\"marker\":{\"colorbar\":{\"outlinewidth\":0,\"ticks\":\"\"}},\"type\":\"scattermapbox\"}],\"scatterpolar\":[{\"marker\":{\"colorbar\":{\"outlinewidth\":0,\"ticks\":\"\"}},\"type\":\"scatterpolar\"}],\"scatterpolargl\":[{\"marker\":{\"colorbar\":{\"outlinewidth\":0,\"ticks\":\"\"}},\"type\":\"scatterpolargl\"}],\"scatterternary\":[{\"marker\":{\"colorbar\":{\"outlinewidth\":0,\"ticks\":\"\"}},\"type\":\"scatterternary\"}],\"surface\":[{\"colorbar\":{\"outlinewidth\":0,\"ticks\":\"\"},\"colorscale\":[[0.0,\"#0d0887\"],[0.1111111111111111,\"#46039f\"],[0.2222222222222222,\"#7201a8\"],[0.3333333333333333,\"#9c179e\"],[0.4444444444444444,\"#bd3786\"],[0.5555555555555556,\"#d8576b\"],[0.6666666666666666,\"#ed7953\"],[0.7777777777777778,\"#fb9f3a\"],[0.8888888888888888,\"#fdca26\"],[1.0,\"#f0f921\"]],\"type\":\"surface\"}],\"table\":[{\"cells\":{\"fill\":{\"color\":\"#EBF0F8\"},\"line\":{\"color\":\"white\"}},\"header\":{\"fill\":{\"color\":\"#C8D4E3\"},\"line\":{\"color\":\"white\"}},\"type\":\"table\"}]},\"layout\":{\"annotationdefaults\":{\"arrowcolor\":\"#2a3f5f\",\"arrowhead\":0,\"arrowwidth\":1},\"autotypenumbers\":\"strict\",\"coloraxis\":{\"colorbar\":{\"outlinewidth\":0,\"ticks\":\"\"}},\"colorscale\":{\"diverging\":[[0,\"#8e0152\"],[0.1,\"#c51b7d\"],[0.2,\"#de77ae\"],[0.3,\"#f1b6da\"],[0.4,\"#fde0ef\"],[0.5,\"#f7f7f7\"],[0.6,\"#e6f5d0\"],[0.7,\"#b8e186\"],[0.8,\"#7fbc41\"],[0.9,\"#4d9221\"],[1,\"#276419\"]],\"sequential\":[[0.0,\"#0d0887\"],[0.1111111111111111,\"#46039f\"],[0.2222222222222222,\"#7201a8\"],[0.3333333333333333,\"#9c179e\"],[0.4444444444444444,\"#bd3786\"],[0.5555555555555556,\"#d8576b\"],[0.6666666666666666,\"#ed7953\"],[0.7777777777777778,\"#fb9f3a\"],[0.8888888888888888,\"#fdca26\"],[1.0,\"#f0f921\"]],\"sequentialminus\":[[0.0,\"#0d0887\"],[0.1111111111111111,\"#46039f\"],[0.2222222222222222,\"#7201a8\"],[0.3333333333333333,\"#9c179e\"],[0.4444444444444444,\"#bd3786\"],[0.5555555555555556,\"#d8576b\"],[0.6666666666666666,\"#ed7953\"],[0.7777777777777778,\"#fb9f3a\"],[0.8888888888888888,\"#fdca26\"],[1.0,\"#f0f921\"]]},\"colorway\":[\"#636efa\",\"#EF553B\",\"#00cc96\",\"#ab63fa\",\"#FFA15A\",\"#19d3f3\",\"#FF6692\",\"#B6E880\",\"#FF97FF\",\"#FECB52\"],\"font\":{\"color\":\"#2a3f5f\"},\"geo\":{\"bgcolor\":\"white\",\"lakecolor\":\"white\",\"landcolor\":\"#E5ECF6\",\"showlakes\":true,\"showland\":true,\"subunitcolor\":\"white\"},\"hoverlabel\":{\"align\":\"left\"},\"hovermode\":\"closest\",\"mapbox\":{\"style\":\"light\"},\"paper_bgcolor\":\"white\",\"plot_bgcolor\":\"#E5ECF6\",\"polar\":{\"angularaxis\":{\"gridcolor\":\"white\",\"linecolor\":\"white\",\"ticks\":\"\"},\"bgcolor\":\"#E5ECF6\",\"radialaxis\":{\"gridcolor\":\"white\",\"linecolor\":\"white\",\"ticks\":\"\"}},\"scene\":{\"xaxis\":{\"backgroundcolor\":\"#E5ECF6\",\"gridcolor\":\"white\",\"gridwidth\":2,\"linecolor\":\"white\",\"showbackground\":true,\"ticks\":\"\",\"zerolinecolor\":\"white\"},\"yaxis\":{\"backgroundcolor\":\"#E5ECF6\",\"gridcolor\":\"white\",\"gridwidth\":2,\"linecolor\":\"white\",\"showbackground\":true,\"ticks\":\"\",\"zerolinecolor\":\"white\"},\"zaxis\":{\"backgroundcolor\":\"#E5ECF6\",\"gridcolor\":\"white\",\"gridwidth\":2,\"linecolor\":\"white\",\"showbackground\":true,\"ticks\":\"\",\"zerolinecolor\":\"white\"}},\"shapedefaults\":{\"line\":{\"color\":\"#2a3f5f\"}},\"ternary\":{\"aaxis\":{\"gridcolor\":\"white\",\"linecolor\":\"white\",\"ticks\":\"\"},\"baxis\":{\"gridcolor\":\"white\",\"linecolor\":\"white\",\"ticks\":\"\"},\"bgcolor\":\"#E5ECF6\",\"caxis\":{\"gridcolor\":\"white\",\"linecolor\":\"white\",\"ticks\":\"\"}},\"title\":{\"x\":0.05},\"xaxis\":{\"automargin\":true,\"gridcolor\":\"white\",\"linecolor\":\"white\",\"ticks\":\"\",\"title\":{\"standoff\":15},\"zerolinecolor\":\"white\",\"zerolinewidth\":2},\"yaxis\":{\"automargin\":true,\"gridcolor\":\"white\",\"linecolor\":\"white\",\"ticks\":\"\",\"title\":{\"standoff\":15},\"zerolinecolor\":\"white\",\"zerolinewidth\":2}}},\"xaxis\":{\"anchor\":\"y\",\"domain\":[0.0,1.0],\"title\":{\"text\":\"Enroll_days\"}},\"yaxis\":{\"anchor\":\"x\",\"domain\":[0.0,1.0],\"title\":{\"text\":\"Expenses\"}}},                        {\"responsive\": true}                    ).then(function(){\n",
       "                            \n",
       "var gd = document.getElementById('381c88a6-b393-453d-987c-88902a8fbbef');\n",
       "var x = new MutationObserver(function (mutations, observer) {{\n",
       "        var display = window.getComputedStyle(gd).display;\n",
       "        if (!display || display === 'none') {{\n",
       "            console.log([gd, 'removed!']);\n",
       "            Plotly.purge(gd);\n",
       "            observer.disconnect();\n",
       "        }}\n",
       "}});\n",
       "\n",
       "// Listen for the removal of the full notebook cells\n",
       "var notebookContainer = gd.closest('#notebook-container');\n",
       "if (notebookContainer) {{\n",
       "    x.observe(notebookContainer, {childList: true});\n",
       "}}\n",
       "\n",
       "// Listen for the clearing of the current output cell\n",
       "var outputEl = gd.closest('.output');\n",
       "if (outputEl) {{\n",
       "    x.observe(outputEl, {childList: true});\n",
       "}}\n",
       "\n",
       "                        })                };                });            </script>        </div>"
      ]
     },
     "metadata": {},
     "output_type": "display_data"
    }
   ],
   "source": [
    "import plotly.express as px\n",
    "fig = px.bar(all_data, x='Enroll_days', y='Expenses',color = 'Enroll_days')\n",
    "fig.show()"
   ]
  },
  {
   "cell_type": "code",
   "execution_count": 17,
   "id": "6e114097",
   "metadata": {
    "execution": {
     "iopub.execute_input": "2021-11-15T23:06:45.633998Z",
     "iopub.status.busy": "2021-11-15T23:06:45.633190Z",
     "iopub.status.idle": "2021-11-15T23:06:45.645514Z",
     "shell.execute_reply": "2021-11-15T23:06:45.646107Z",
     "shell.execute_reply.started": "2021-11-15T21:45:04.067519Z"
    },
    "papermill": {
     "duration": 0.081921,
     "end_time": "2021-11-15T23:06:45.646337",
     "exception": false,
     "start_time": "2021-11-15T23:06:45.564416",
     "status": "completed"
    },
    "tags": []
   },
   "outputs": [
    {
     "name": "stdout",
     "output_type": "stream",
     "text": [
      "<class 'pandas.core.frame.DataFrame'>\n",
      "Int64Index: 2240 entries, 5524 to 9405\n",
      "Data columns (total 10 columns):\n",
      " #   Column             Non-Null Count  Dtype  \n",
      "---  ------             --------------  -----  \n",
      " 0   Education          2240 non-null   object \n",
      " 1   Income             2216 non-null   float64\n",
      " 2   NumWebVisitsMonth  2240 non-null   int64  \n",
      " 3   Kids               2240 non-null   int64  \n",
      " 4   Age                2240 non-null   int64  \n",
      " 5   is_married         2240 non-null   object \n",
      " 6   Enroll_days        2240 non-null   int64  \n",
      " 7   Expenses           2240 non-null   int64  \n",
      " 8   TotalAcceptedCmp   2240 non-null   int64  \n",
      " 9   NumPurchases       2240 non-null   int64  \n",
      "dtypes: float64(1), int64(7), object(2)\n",
      "memory usage: 192.5+ KB\n"
     ]
    }
   ],
   "source": [
    "all_data.info()\n",
    "cont_features = all_data.iloc[:, 1:]"
   ]
  },
  {
   "cell_type": "code",
   "execution_count": 18,
   "id": "4fc8b8d8",
   "metadata": {
    "execution": {
     "iopub.execute_input": "2021-11-15T23:06:45.806666Z",
     "iopub.status.busy": "2021-11-15T23:06:45.774126Z",
     "iopub.status.idle": "2021-11-15T23:06:46.028536Z",
     "shell.execute_reply": "2021-11-15T23:06:46.027931Z",
     "shell.execute_reply.started": "2021-11-15T21:45:04.085455Z"
    },
    "papermill": {
     "duration": 0.320343,
     "end_time": "2021-11-15T23:06:46.028691",
     "exception": false,
     "start_time": "2021-11-15T23:06:45.708348",
     "status": "completed"
    },
    "tags": []
   },
   "outputs": [
    {
     "data": {
      "image/png": "[encoded data removed]",
      "text/plain": [
       "<Figure size 864x576 with 1 Axes>"
      ]
     },
     "metadata": {},
     "output_type": "display_data"
    }
   ],
   "source": [
    "import matplotlib\n",
    "background_color = \"#f6f5f5\"\n",
    "\n",
    "fig = plt.figure(figsize=(12, 8), facecolor=background_color)\n",
    "gs = fig.add_gridspec(1, 1)\n",
    "ax0 = fig.add_subplot(gs[0, 0])\n",
    "colors = [\"#2f5586\", \"#f6f5f5\",\"#2f5586\"]\n",
    "colormap = matplotlib.colors.LinearSegmentedColormap.from_list(\"\", colors)\n",
    "\n",
    "ax0.set_facecolor(background_color)\n",
    "ax0.text(-1.1, 1.25, 'Correlation of Continuous Features with Target', fontsize=20, fontweight='bold')\n",
    "\n",
    "chart_df = pd.DataFrame(cont_features.corrwith(all_data['Expenses']))\n",
    "chart_df.columns = ['corr']\n",
    "sns.barplot(x=chart_df.index, y=chart_df['corr'], ax=ax0, color='mediumblue', zorder=3, linewidth=2)\n",
    "ax0.grid(which='major', axis='x', zorder=0, linewidth=0.4)\n",
    "ax0.grid(which='major', axis='y', zorder=0, linewidth=0.4)\n",
    "ax0.set_ylabel('')\n",
    "\n",
    "for s in [\"top\",\"right\", 'left']:\n",
    "    ax0.spines[s].set_visible(False)\n",
    "\n",
    "plt.show()\n"
   ]
  },
  {
   "cell_type": "markdown",
   "id": "06758b19",
   "metadata": {
    "papermill": {
     "duration": 0.061961,
     "end_time": "2021-11-15T23:06:46.153111",
     "exception": false,
     "start_time": "2021-11-15T23:06:46.091150",
     "status": "completed"
    },
    "tags": []
   },
   "source": [
    "#### Summary:\n",
    "#### 1) Expenses is highly correlated with Total Number of Purchases (0.75), Income (0.67), and moderately correlated with Total Accepted Campaigns.\n",
    "#### 2) Expenses is negatively correlated with Number od Kids and Number of Web Visits.\n",
    "#### 3) No-so relevant factors: Age, Enroll history."
   ]
  },
  {
   "cell_type": "markdown",
   "id": "04f010bb",
   "metadata": {
    "papermill": {
     "duration": 0.06299,
     "end_time": "2021-11-15T23:06:46.279173",
     "exception": false,
     "start_time": "2021-11-15T23:06:46.216183",
     "status": "completed"
    },
    "tags": []
   },
   "source": [
    "## Clustering"
   ]
  },
  {
   "cell_type": "markdown",
   "id": "d2e5f3ba",
   "metadata": {
    "papermill": {
     "duration": 0.061365,
     "end_time": "2021-11-15T23:06:46.404574",
     "exception": false,
     "start_time": "2021-11-15T23:06:46.343209",
     "status": "completed"
    },
    "tags": []
   },
   "source": [
    "### one-hot encoding"
   ]
  },
  {
   "cell_type": "code",
   "execution_count": 19,
   "id": "84c1f06f",
   "metadata": {
    "execution": {
     "iopub.execute_input": "2021-11-15T23:06:46.532095Z",
     "iopub.status.busy": "2021-11-15T23:06:46.531415Z",
     "iopub.status.idle": "2021-11-15T23:06:46.534519Z",
     "shell.execute_reply": "2021-11-15T23:06:46.535281Z",
     "shell.execute_reply.started": "2021-11-15T21:45:04.361965Z"
    },
    "papermill": {
     "duration": 0.069563,
     "end_time": "2021-11-15T23:06:46.535488",
     "exception": false,
     "start_time": "2021-11-15T23:06:46.465925",
     "status": "completed"
    },
    "tags": []
   },
   "outputs": [],
   "source": [
    "# X = all_data.copy()\n",
    "# X = pd.get_dummies(X)\n",
    "# X.head()\n",
    "# from sklearn.model_selection import train_test_split\n",
    "\n",
    "# X_train, X_valid = train_test_split(all_data,train_size=0.8, test_size=0.2,random_state=0)"
   ]
  },
  {
   "cell_type": "markdown",
   "id": "322794d8",
   "metadata": {
    "papermill": {
     "duration": 0.060873,
     "end_time": "2021-11-15T23:06:46.657890",
     "exception": false,
     "start_time": "2021-11-15T23:06:46.597017",
     "status": "completed"
    },
    "tags": []
   },
   "source": [
    "### Label Encoding"
   ]
  },
  {
   "cell_type": "code",
   "execution_count": 20,
   "id": "fb02cc54",
   "metadata": {
    "execution": {
     "iopub.execute_input": "2021-11-15T23:06:46.783742Z",
     "iopub.status.busy": "2021-11-15T23:06:46.783074Z",
     "iopub.status.idle": "2021-11-15T23:06:46.796526Z",
     "shell.execute_reply": "2021-11-15T23:06:46.797060Z",
     "shell.execute_reply.started": "2021-11-15T21:45:04.367654Z"
    },
    "papermill": {
     "duration": 0.078132,
     "end_time": "2021-11-15T23:06:46.797230",
     "exception": false,
     "start_time": "2021-11-15T23:06:46.719098",
     "status": "completed"
    },
    "tags": []
   },
   "outputs": [
    {
     "data": {
      "text/html": [
       "<div>\n",
       "<style scoped>\n",
       "    .dataframe tbody tr th:only-of-type {\n",
       "        vertical-align: middle;\n",
       "    }\n",
       "\n",
       "    .dataframe tbody tr th {\n",
       "        vertical-align: top;\n",
       "    }\n",
       "\n",
       "    .dataframe thead th {\n",
       "        text-align: right;\n",
       "    }\n",
       "</style>\n",
       "<table border=\"1\" class=\"dataframe\">\n",
       "  <thead>\n",
       "    <tr style=\"text-align: right;\">\n",
       "      <th></th>\n",
       "      <th>Education</th>\n",
       "      <th>Income</th>\n",
       "      <th>NumWebVisitsMonth</th>\n",
       "      <th>Kids</th>\n",
       "      <th>Age</th>\n",
       "      <th>is_married</th>\n",
       "      <th>Enroll_days</th>\n",
       "      <th>Expenses</th>\n",
       "      <th>TotalAcceptedCmp</th>\n",
       "      <th>NumPurchases</th>\n",
       "    </tr>\n",
       "    <tr>\n",
       "      <th>ID</th>\n",
       "      <th></th>\n",
       "      <th></th>\n",
       "      <th></th>\n",
       "      <th></th>\n",
       "      <th></th>\n",
       "      <th></th>\n",
       "      <th></th>\n",
       "      <th></th>\n",
       "      <th></th>\n",
       "      <th></th>\n",
       "    </tr>\n",
       "  </thead>\n",
       "  <tbody>\n",
       "    <tr>\n",
       "      <th>5524</th>\n",
       "      <td>Postgrad</td>\n",
       "      <td>58138.0</td>\n",
       "      <td>7</td>\n",
       "      <td>0</td>\n",
       "      <td>58</td>\n",
       "      <td>Single</td>\n",
       "      <td>1213</td>\n",
       "      <td>1617</td>\n",
       "      <td>1</td>\n",
       "      <td>25</td>\n",
       "    </tr>\n",
       "    <tr>\n",
       "      <th>2174</th>\n",
       "      <td>Postgrad</td>\n",
       "      <td>46344.0</td>\n",
       "      <td>5</td>\n",
       "      <td>2</td>\n",
       "      <td>61</td>\n",
       "      <td>Single</td>\n",
       "      <td>663</td>\n",
       "      <td>27</td>\n",
       "      <td>0</td>\n",
       "      <td>6</td>\n",
       "    </tr>\n",
       "    <tr>\n",
       "      <th>4141</th>\n",
       "      <td>Postgrad</td>\n",
       "      <td>71613.0</td>\n",
       "      <td>4</td>\n",
       "      <td>0</td>\n",
       "      <td>50</td>\n",
       "      <td>Relationship</td>\n",
       "      <td>862</td>\n",
       "      <td>776</td>\n",
       "      <td>0</td>\n",
       "      <td>21</td>\n",
       "    </tr>\n",
       "    <tr>\n",
       "      <th>6182</th>\n",
       "      <td>Postgrad</td>\n",
       "      <td>26646.0</td>\n",
       "      <td>6</td>\n",
       "      <td>1</td>\n",
       "      <td>31</td>\n",
       "      <td>Relationship</td>\n",
       "      <td>689</td>\n",
       "      <td>53</td>\n",
       "      <td>0</td>\n",
       "      <td>8</td>\n",
       "    </tr>\n",
       "    <tr>\n",
       "      <th>5324</th>\n",
       "      <td>Postgrad</td>\n",
       "      <td>58293.0</td>\n",
       "      <td>5</td>\n",
       "      <td>1</td>\n",
       "      <td>34</td>\n",
       "      <td>Relationship</td>\n",
       "      <td>711</td>\n",
       "      <td>422</td>\n",
       "      <td>0</td>\n",
       "      <td>19</td>\n",
       "    </tr>\n",
       "  </tbody>\n",
       "</table>\n",
       "</div>"
      ],
      "text/plain": [
       "     Education   Income  NumWebVisitsMonth  Kids  Age    is_married  \\\n",
       "ID                                                                    \n",
       "5524  Postgrad  58138.0                  7     0   58        Single   \n",
       "2174  Postgrad  46344.0                  5     2   61        Single   \n",
       "4141  Postgrad  71613.0                  4     0   50  Relationship   \n",
       "6182  Postgrad  26646.0                  6     1   31  Relationship   \n",
       "5324  Postgrad  58293.0                  5     1   34  Relationship   \n",
       "\n",
       "      Enroll_days  Expenses  TotalAcceptedCmp  NumPurchases  \n",
       "ID                                                           \n",
       "5524         1213      1617                 1            25  \n",
       "2174          663        27                 0             6  \n",
       "4141          862       776                 0            21  \n",
       "6182          689        53                 0             8  \n",
       "5324          711       422                 0            19  "
      ]
     },
     "execution_count": 20,
     "metadata": {},
     "output_type": "execute_result"
    }
   ],
   "source": [
    "X = all_data.copy()\n",
    "X.head()"
   ]
  },
  {
   "cell_type": "code",
   "execution_count": 21,
   "id": "e16cb5cd",
   "metadata": {
    "execution": {
     "iopub.execute_input": "2021-11-15T23:06:46.925996Z",
     "iopub.status.busy": "2021-11-15T23:06:46.925017Z",
     "iopub.status.idle": "2021-11-15T23:06:47.046006Z",
     "shell.execute_reply": "2021-11-15T23:06:47.045299Z",
     "shell.execute_reply.started": "2021-11-15T21:45:04.390267Z"
    },
    "papermill": {
     "duration": 0.185846,
     "end_time": "2021-11-15T23:06:47.046156",
     "exception": false,
     "start_time": "2021-11-15T23:06:46.860310",
     "status": "completed"
    },
    "tags": []
   },
   "outputs": [],
   "source": [
    "from sklearn.preprocessing import LabelEncoder\n",
    "\n",
    "label_encoder = LabelEncoder()\n",
    "X['Education'] = label_encoder.fit_transform(X['Education'])\n",
    "X['is_married'] = label_encoder.fit_transform(X['is_married'])"
   ]
  },
  {
   "cell_type": "code",
   "execution_count": 22,
   "id": "94d4cb64",
   "metadata": {
    "execution": {
     "iopub.execute_input": "2021-11-15T23:06:47.175309Z",
     "iopub.status.busy": "2021-11-15T23:06:47.174281Z",
     "iopub.status.idle": "2021-11-15T23:06:47.182448Z",
     "shell.execute_reply": "2021-11-15T23:06:47.183309Z",
     "shell.execute_reply.started": "2021-11-15T21:45:04.399134Z"
    },
    "papermill": {
     "duration": 0.073989,
     "end_time": "2021-11-15T23:06:47.183555",
     "exception": false,
     "start_time": "2021-11-15T23:06:47.109566",
     "status": "completed"
    },
    "tags": []
   },
   "outputs": [
    {
     "name": "stdout",
     "output_type": "stream",
     "text": [
      "Income    24\n",
      "dtype: int64\n"
     ]
    }
   ],
   "source": [
    "# Number of missing values in each column of training data\n",
    "missing_val_count_by_column = (X.isnull().sum())\n",
    "print(missing_val_count_by_column[missing_val_count_by_column > 0])"
   ]
  },
  {
   "cell_type": "markdown",
   "id": "cd29bbb9",
   "metadata": {
    "papermill": {
     "duration": 0.063343,
     "end_time": "2021-11-15T23:06:47.309466",
     "exception": false,
     "start_time": "2021-11-15T23:06:47.246123",
     "status": "completed"
    },
    "tags": []
   },
   "source": [
    "### simple imputing"
   ]
  },
  {
   "cell_type": "code",
   "execution_count": 23,
   "id": "154679e3",
   "metadata": {
    "execution": {
     "iopub.execute_input": "2021-11-15T23:06:47.441194Z",
     "iopub.status.busy": "2021-11-15T23:06:47.440508Z",
     "iopub.status.idle": "2021-11-15T23:06:47.656728Z",
     "shell.execute_reply": "2021-11-15T23:06:47.656005Z",
     "shell.execute_reply.started": "2021-11-15T21:45:04.409813Z"
    },
    "papermill": {
     "duration": 0.28367,
     "end_time": "2021-11-15T23:06:47.656898",
     "exception": false,
     "start_time": "2021-11-15T23:06:47.373228",
     "status": "completed"
    },
    "tags": []
   },
   "outputs": [],
   "source": [
    "from sklearn.impute import SimpleImputer\n",
    "imputer = SimpleImputer(strategy='median')\n",
    "X_imputed = pd.DataFrame(imputer.fit_transform(X))\n",
    "X_imputed.columns = X.columns\n",
    "X_imputed.index = X.index\n",
    "#X_valid = pd.DataFrame(imputer.fit_transform(X_valid))"
   ]
  },
  {
   "cell_type": "code",
   "execution_count": 24,
   "id": "0942e150",
   "metadata": {
    "execution": {
     "iopub.execute_input": "2021-11-15T23:06:47.797959Z",
     "iopub.status.busy": "2021-11-15T23:06:47.797142Z",
     "iopub.status.idle": "2021-11-15T23:06:47.807949Z",
     "shell.execute_reply": "2021-11-15T23:06:47.808563Z",
     "shell.execute_reply.started": "2021-11-15T21:45:04.423899Z"
    },
    "papermill": {
     "duration": 0.087472,
     "end_time": "2021-11-15T23:06:47.808770",
     "exception": false,
     "start_time": "2021-11-15T23:06:47.721298",
     "status": "completed"
    },
    "tags": []
   },
   "outputs": [
    {
     "data": {
      "text/html": [
       "<div>\n",
       "<style scoped>\n",
       "    .dataframe tbody tr th:only-of-type {\n",
       "        vertical-align: middle;\n",
       "    }\n",
       "\n",
       "    .dataframe tbody tr th {\n",
       "        vertical-align: top;\n",
       "    }\n",
       "\n",
       "    .dataframe thead th {\n",
       "        text-align: right;\n",
       "    }\n",
       "</style>\n",
       "<table border=\"1\" class=\"dataframe\">\n",
       "  <thead>\n",
       "    <tr style=\"text-align: right;\">\n",
       "      <th></th>\n",
       "      <th>Education</th>\n",
       "      <th>Income</th>\n",
       "      <th>NumWebVisitsMonth</th>\n",
       "      <th>Kids</th>\n",
       "      <th>Age</th>\n",
       "      <th>is_married</th>\n",
       "      <th>Enroll_days</th>\n",
       "      <th>Expenses</th>\n",
       "      <th>TotalAcceptedCmp</th>\n",
       "      <th>NumPurchases</th>\n",
       "    </tr>\n",
       "    <tr>\n",
       "      <th>ID</th>\n",
       "      <th></th>\n",
       "      <th></th>\n",
       "      <th></th>\n",
       "      <th></th>\n",
       "      <th></th>\n",
       "      <th></th>\n",
       "      <th></th>\n",
       "      <th></th>\n",
       "      <th></th>\n",
       "      <th></th>\n",
       "    </tr>\n",
       "  </thead>\n",
       "  <tbody>\n",
       "    <tr>\n",
       "      <th>5524</th>\n",
       "      <td>0.0</td>\n",
       "      <td>58138.0</td>\n",
       "      <td>7.0</td>\n",
       "      <td>0.0</td>\n",
       "      <td>58.0</td>\n",
       "      <td>1.0</td>\n",
       "      <td>1213.0</td>\n",
       "      <td>1617.0</td>\n",
       "      <td>1.0</td>\n",
       "      <td>25.0</td>\n",
       "    </tr>\n",
       "    <tr>\n",
       "      <th>2174</th>\n",
       "      <td>0.0</td>\n",
       "      <td>46344.0</td>\n",
       "      <td>5.0</td>\n",
       "      <td>2.0</td>\n",
       "      <td>61.0</td>\n",
       "      <td>1.0</td>\n",
       "      <td>663.0</td>\n",
       "      <td>27.0</td>\n",
       "      <td>0.0</td>\n",
       "      <td>6.0</td>\n",
       "    </tr>\n",
       "    <tr>\n",
       "      <th>4141</th>\n",
       "      <td>0.0</td>\n",
       "      <td>71613.0</td>\n",
       "      <td>4.0</td>\n",
       "      <td>0.0</td>\n",
       "      <td>50.0</td>\n",
       "      <td>0.0</td>\n",
       "      <td>862.0</td>\n",
       "      <td>776.0</td>\n",
       "      <td>0.0</td>\n",
       "      <td>21.0</td>\n",
       "    </tr>\n",
       "    <tr>\n",
       "      <th>6182</th>\n",
       "      <td>0.0</td>\n",
       "      <td>26646.0</td>\n",
       "      <td>6.0</td>\n",
       "      <td>1.0</td>\n",
       "      <td>31.0</td>\n",
       "      <td>0.0</td>\n",
       "      <td>689.0</td>\n",
       "      <td>53.0</td>\n",
       "      <td>0.0</td>\n",
       "      <td>8.0</td>\n",
       "    </tr>\n",
       "    <tr>\n",
       "      <th>5324</th>\n",
       "      <td>0.0</td>\n",
       "      <td>58293.0</td>\n",
       "      <td>5.0</td>\n",
       "      <td>1.0</td>\n",
       "      <td>34.0</td>\n",
       "      <td>0.0</td>\n",
       "      <td>711.0</td>\n",
       "      <td>422.0</td>\n",
       "      <td>0.0</td>\n",
       "      <td>19.0</td>\n",
       "    </tr>\n",
       "  </tbody>\n",
       "</table>\n",
       "</div>"
      ],
      "text/plain": [
       "      Education   Income  NumWebVisitsMonth  Kids   Age  is_married  \\\n",
       "ID                                                                    \n",
       "5524        0.0  58138.0                7.0   0.0  58.0         1.0   \n",
       "2174        0.0  46344.0                5.0   2.0  61.0         1.0   \n",
       "4141        0.0  71613.0                4.0   0.0  50.0         0.0   \n",
       "6182        0.0  26646.0                6.0   1.0  31.0         0.0   \n",
       "5324        0.0  58293.0                5.0   1.0  34.0         0.0   \n",
       "\n",
       "      Enroll_days  Expenses  TotalAcceptedCmp  NumPurchases  \n",
       "ID                                                           \n",
       "5524       1213.0    1617.0               1.0          25.0  \n",
       "2174        663.0      27.0               0.0           6.0  \n",
       "4141        862.0     776.0               0.0          21.0  \n",
       "6182        689.0      53.0               0.0           8.0  \n",
       "5324        711.0     422.0               0.0          19.0  "
      ]
     },
     "execution_count": 24,
     "metadata": {},
     "output_type": "execute_result"
    }
   ],
   "source": [
    "X = X_imputed\n",
    "X.head()"
   ]
  },
  {
   "cell_type": "markdown",
   "id": "4a785506",
   "metadata": {
    "papermill": {
     "duration": 0.064763,
     "end_time": "2021-11-15T23:06:47.939828",
     "exception": false,
     "start_time": "2021-11-15T23:06:47.875065",
     "status": "completed"
    },
    "tags": []
   },
   "source": [
    "### standard scaling (only numerical columns)"
   ]
  },
  {
   "cell_type": "code",
   "execution_count": 25,
   "id": "aba56292",
   "metadata": {
    "execution": {
     "iopub.execute_input": "2021-11-15T23:06:48.098440Z",
     "iopub.status.busy": "2021-11-15T23:06:48.097636Z",
     "iopub.status.idle": "2021-11-15T23:06:48.104190Z",
     "shell.execute_reply": "2021-11-15T23:06:48.104717Z",
     "shell.execute_reply.started": "2021-11-15T21:45:04.446521Z"
    },
    "papermill": {
     "duration": 0.092759,
     "end_time": "2021-11-15T23:06:48.104970",
     "exception": false,
     "start_time": "2021-11-15T23:06:48.012211",
     "status": "completed"
    },
    "tags": []
   },
   "outputs": [
    {
     "data": {
      "text/plain": [
       "Index(['Education', 'Income', 'NumWebVisitsMonth', 'Kids', 'Age', 'is_married',\n",
       "       'Enroll_days', 'Expenses', 'TotalAcceptedCmp', 'NumPurchases'],\n",
       "      dtype='object')"
      ]
     },
     "execution_count": 25,
     "metadata": {},
     "output_type": "execute_result"
    }
   ],
   "source": [
    "X.columns"
   ]
  },
  {
   "cell_type": "code",
   "execution_count": 26,
   "id": "57539f0e",
   "metadata": {
    "execution": {
     "iopub.execute_input": "2021-11-15T23:06:48.241257Z",
     "iopub.status.busy": "2021-11-15T23:06:48.240370Z",
     "iopub.status.idle": "2021-11-15T23:06:48.242782Z",
     "shell.execute_reply": "2021-11-15T23:06:48.243245Z",
     "shell.execute_reply.started": "2021-11-15T21:45:04.458511Z"
    },
    "papermill": {
     "duration": 0.073033,
     "end_time": "2021-11-15T23:06:48.243475",
     "exception": false,
     "start_time": "2021-11-15T23:06:48.170442",
     "status": "completed"
    },
    "tags": []
   },
   "outputs": [],
   "source": [
    "from sklearn.preprocessing import StandardScaler, MinMaxScaler\n",
    "\n",
    "numer_cols = ['Income', 'Expenses', 'NumPurchases',\n",
    "              'NumWebVisitsMonth', 'Kids', 'Age', 'Enroll_days','TotalAcceptedCmp']#,'Recency']\n",
    "\n",
    "categ_cols = ['Education', 'is_married']#,'AcceptedCmp3','Complain']"
   ]
  },
  {
   "cell_type": "code",
   "execution_count": 27,
   "id": "b6a03999",
   "metadata": {
    "execution": {
     "iopub.execute_input": "2021-11-15T23:06:48.392893Z",
     "iopub.status.busy": "2021-11-15T23:06:48.391847Z",
     "iopub.status.idle": "2021-11-15T23:06:48.395587Z",
     "shell.execute_reply": "2021-11-15T23:06:48.396053Z",
     "shell.execute_reply.started": "2021-11-15T21:45:04.468098Z"
    },
    "papermill": {
     "duration": 0.088501,
     "end_time": "2021-11-15T23:06:48.396250",
     "exception": false,
     "start_time": "2021-11-15T23:06:48.307749",
     "status": "completed"
    },
    "tags": []
   },
   "outputs": [
    {
     "data": {
      "text/html": [
       "<div>\n",
       "<style scoped>\n",
       "    .dataframe tbody tr th:only-of-type {\n",
       "        vertical-align: middle;\n",
       "    }\n",
       "\n",
       "    .dataframe tbody tr th {\n",
       "        vertical-align: top;\n",
       "    }\n",
       "\n",
       "    .dataframe thead th {\n",
       "        text-align: right;\n",
       "    }\n",
       "</style>\n",
       "<table border=\"1\" class=\"dataframe\">\n",
       "  <thead>\n",
       "    <tr style=\"text-align: right;\">\n",
       "      <th></th>\n",
       "      <th>Income</th>\n",
       "      <th>Expenses</th>\n",
       "      <th>NumPurchases</th>\n",
       "      <th>NumWebVisitsMonth</th>\n",
       "      <th>Kids</th>\n",
       "      <th>Age</th>\n",
       "      <th>Enroll_days</th>\n",
       "      <th>TotalAcceptedCmp</th>\n",
       "    </tr>\n",
       "    <tr>\n",
       "      <th>ID</th>\n",
       "      <th></th>\n",
       "      <th></th>\n",
       "      <th></th>\n",
       "      <th></th>\n",
       "      <th></th>\n",
       "      <th></th>\n",
       "      <th></th>\n",
       "      <th></th>\n",
       "    </tr>\n",
       "  </thead>\n",
       "  <tbody>\n",
       "    <tr>\n",
       "      <th>5524</th>\n",
       "      <td>58138.0</td>\n",
       "      <td>1617.0</td>\n",
       "      <td>25.0</td>\n",
       "      <td>7.0</td>\n",
       "      <td>0.0</td>\n",
       "      <td>58.0</td>\n",
       "      <td>1213.0</td>\n",
       "      <td>1.0</td>\n",
       "    </tr>\n",
       "    <tr>\n",
       "      <th>2174</th>\n",
       "      <td>46344.0</td>\n",
       "      <td>27.0</td>\n",
       "      <td>6.0</td>\n",
       "      <td>5.0</td>\n",
       "      <td>2.0</td>\n",
       "      <td>61.0</td>\n",
       "      <td>663.0</td>\n",
       "      <td>0.0</td>\n",
       "    </tr>\n",
       "    <tr>\n",
       "      <th>4141</th>\n",
       "      <td>71613.0</td>\n",
       "      <td>776.0</td>\n",
       "      <td>21.0</td>\n",
       "      <td>4.0</td>\n",
       "      <td>0.0</td>\n",
       "      <td>50.0</td>\n",
       "      <td>862.0</td>\n",
       "      <td>0.0</td>\n",
       "    </tr>\n",
       "    <tr>\n",
       "      <th>6182</th>\n",
       "      <td>26646.0</td>\n",
       "      <td>53.0</td>\n",
       "      <td>8.0</td>\n",
       "      <td>6.0</td>\n",
       "      <td>1.0</td>\n",
       "      <td>31.0</td>\n",
       "      <td>689.0</td>\n",
       "      <td>0.0</td>\n",
       "    </tr>\n",
       "    <tr>\n",
       "      <th>5324</th>\n",
       "      <td>58293.0</td>\n",
       "      <td>422.0</td>\n",
       "      <td>19.0</td>\n",
       "      <td>5.0</td>\n",
       "      <td>1.0</td>\n",
       "      <td>34.0</td>\n",
       "      <td>711.0</td>\n",
       "      <td>0.0</td>\n",
       "    </tr>\n",
       "  </tbody>\n",
       "</table>\n",
       "</div>"
      ],
      "text/plain": [
       "       Income  Expenses  NumPurchases  NumWebVisitsMonth  Kids   Age  \\\n",
       "ID                                                                     \n",
       "5524  58138.0    1617.0          25.0                7.0   0.0  58.0   \n",
       "2174  46344.0      27.0           6.0                5.0   2.0  61.0   \n",
       "4141  71613.0     776.0          21.0                4.0   0.0  50.0   \n",
       "6182  26646.0      53.0           8.0                6.0   1.0  31.0   \n",
       "5324  58293.0     422.0          19.0                5.0   1.0  34.0   \n",
       "\n",
       "      Enroll_days  TotalAcceptedCmp  \n",
       "ID                                   \n",
       "5524       1213.0               1.0  \n",
       "2174        663.0               0.0  \n",
       "4141        862.0               0.0  \n",
       "6182        689.0               0.0  \n",
       "5324        711.0               0.0  "
      ]
     },
     "execution_count": 27,
     "metadata": {},
     "output_type": "execute_result"
    }
   ],
   "source": [
    "numer = X[numer_cols]\n",
    "categ = X[categ_cols]\n",
    "numer.head()"
   ]
  },
  {
   "cell_type": "code",
   "execution_count": 28,
   "id": "3c489cd0",
   "metadata": {
    "execution": {
     "iopub.execute_input": "2021-11-15T23:06:48.531192Z",
     "iopub.status.busy": "2021-11-15T23:06:48.530512Z",
     "iopub.status.idle": "2021-11-15T23:06:48.545781Z",
     "shell.execute_reply": "2021-11-15T23:06:48.545182Z",
     "shell.execute_reply.started": "2021-11-15T21:45:04.499735Z"
    },
    "papermill": {
     "duration": 0.085719,
     "end_time": "2021-11-15T23:06:48.545917",
     "exception": false,
     "start_time": "2021-11-15T23:06:48.460198",
     "status": "completed"
    },
    "tags": []
   },
   "outputs": [
    {
     "data": {
      "text/html": [
       "<div>\n",
       "<style scoped>\n",
       "    .dataframe tbody tr th:only-of-type {\n",
       "        vertical-align: middle;\n",
       "    }\n",
       "\n",
       "    .dataframe tbody tr th {\n",
       "        vertical-align: top;\n",
       "    }\n",
       "\n",
       "    .dataframe thead th {\n",
       "        text-align: right;\n",
       "    }\n",
       "</style>\n",
       "<table border=\"1\" class=\"dataframe\">\n",
       "  <thead>\n",
       "    <tr style=\"text-align: right;\">\n",
       "      <th></th>\n",
       "      <th>Income</th>\n",
       "      <th>Expenses</th>\n",
       "      <th>NumPurchases</th>\n",
       "      <th>NumWebVisitsMonth</th>\n",
       "      <th>Kids</th>\n",
       "      <th>Age</th>\n",
       "      <th>Enroll_days</th>\n",
       "      <th>TotalAcceptedCmp</th>\n",
       "    </tr>\n",
       "  </thead>\n",
       "  <tbody>\n",
       "    <tr>\n",
       "      <th>0</th>\n",
       "      <td>0.235696</td>\n",
       "      <td>1.679417</td>\n",
       "      <td>1.320826</td>\n",
       "      <td>0.693904</td>\n",
       "      <td>-1.264505</td>\n",
       "      <td>0.985345</td>\n",
       "      <td>1.531185</td>\n",
       "      <td>0.621248</td>\n",
       "    </tr>\n",
       "    <tr>\n",
       "      <th>1</th>\n",
       "      <td>-0.235454</td>\n",
       "      <td>-0.961275</td>\n",
       "      <td>-1.154596</td>\n",
       "      <td>-0.130463</td>\n",
       "      <td>1.396361</td>\n",
       "      <td>1.235733</td>\n",
       "      <td>-1.190545</td>\n",
       "      <td>-0.501912</td>\n",
       "    </tr>\n",
       "    <tr>\n",
       "      <th>2</th>\n",
       "      <td>0.773999</td>\n",
       "      <td>0.282673</td>\n",
       "      <td>0.799685</td>\n",
       "      <td>-0.542647</td>\n",
       "      <td>-1.264505</td>\n",
       "      <td>0.317643</td>\n",
       "      <td>-0.205773</td>\n",
       "      <td>-0.501912</td>\n",
       "    </tr>\n",
       "    <tr>\n",
       "      <th>3</th>\n",
       "      <td>-1.022355</td>\n",
       "      <td>-0.918094</td>\n",
       "      <td>-0.894025</td>\n",
       "      <td>0.281720</td>\n",
       "      <td>0.065928</td>\n",
       "      <td>-1.268149</td>\n",
       "      <td>-1.061881</td>\n",
       "      <td>-0.501912</td>\n",
       "    </tr>\n",
       "    <tr>\n",
       "      <th>4</th>\n",
       "      <td>0.241888</td>\n",
       "      <td>-0.305254</td>\n",
       "      <td>0.539114</td>\n",
       "      <td>-0.130463</td>\n",
       "      <td>0.065928</td>\n",
       "      <td>-1.017761</td>\n",
       "      <td>-0.953012</td>\n",
       "      <td>-0.501912</td>\n",
       "    </tr>\n",
       "  </tbody>\n",
       "</table>\n",
       "</div>"
      ],
      "text/plain": [
       "     Income  Expenses  NumPurchases  NumWebVisitsMonth      Kids       Age  \\\n",
       "0  0.235696  1.679417      1.320826           0.693904 -1.264505  0.985345   \n",
       "1 -0.235454 -0.961275     -1.154596          -0.130463  1.396361  1.235733   \n",
       "2  0.773999  0.282673      0.799685          -0.542647 -1.264505  0.317643   \n",
       "3 -1.022355 -0.918094     -0.894025           0.281720  0.065928 -1.268149   \n",
       "4  0.241888 -0.305254      0.539114          -0.130463  0.065928 -1.017761   \n",
       "\n",
       "   Enroll_days  TotalAcceptedCmp  \n",
       "0     1.531185          0.621248  \n",
       "1    -1.190545         -0.501912  \n",
       "2    -0.205773         -0.501912  \n",
       "3    -1.061881         -0.501912  \n",
       "4    -0.953012         -0.501912  "
      ]
     },
     "execution_count": 28,
     "metadata": {},
     "output_type": "execute_result"
    }
   ],
   "source": [
    "numer_scaled = pd.DataFrame(StandardScaler().fit_transform(numer))\n",
    "numer_scaled.columns = numer.columns\n",
    "numer_scaled.head()"
   ]
  },
  {
   "cell_type": "code",
   "execution_count": 29,
   "id": "4935b23d",
   "metadata": {
    "execution": {
     "iopub.execute_input": "2021-11-15T23:06:48.678687Z",
     "iopub.status.busy": "2021-11-15T23:06:48.678001Z",
     "iopub.status.idle": "2021-11-15T23:06:48.697983Z",
     "shell.execute_reply": "2021-11-15T23:06:48.697447Z",
     "shell.execute_reply.started": "2021-11-15T21:45:04.521814Z"
    },
    "papermill": {
     "duration": 0.087236,
     "end_time": "2021-11-15T23:06:48.698131",
     "exception": false,
     "start_time": "2021-11-15T23:06:48.610895",
     "status": "completed"
    },
    "tags": []
   },
   "outputs": [
    {
     "data": {
      "text/html": [
       "<div>\n",
       "<style scoped>\n",
       "    .dataframe tbody tr th:only-of-type {\n",
       "        vertical-align: middle;\n",
       "    }\n",
       "\n",
       "    .dataframe tbody tr th {\n",
       "        vertical-align: top;\n",
       "    }\n",
       "\n",
       "    .dataframe thead th {\n",
       "        text-align: right;\n",
       "    }\n",
       "</style>\n",
       "<table border=\"1\" class=\"dataframe\">\n",
       "  <thead>\n",
       "    <tr style=\"text-align: right;\">\n",
       "      <th></th>\n",
       "      <th>Income</th>\n",
       "      <th>Expenses</th>\n",
       "      <th>NumPurchases</th>\n",
       "      <th>NumWebVisitsMonth</th>\n",
       "      <th>Kids</th>\n",
       "      <th>Age</th>\n",
       "      <th>Enroll_days</th>\n",
       "      <th>TotalAcceptedCmp</th>\n",
       "      <th>Education</th>\n",
       "      <th>is_married</th>\n",
       "    </tr>\n",
       "  </thead>\n",
       "  <tbody>\n",
       "    <tr>\n",
       "      <th>0</th>\n",
       "      <td>0.235696</td>\n",
       "      <td>1.679417</td>\n",
       "      <td>1.320826</td>\n",
       "      <td>0.693904</td>\n",
       "      <td>-1.264505</td>\n",
       "      <td>0.985345</td>\n",
       "      <td>1.531185</td>\n",
       "      <td>0.621248</td>\n",
       "      <td>0.0</td>\n",
       "      <td>0.0</td>\n",
       "    </tr>\n",
       "    <tr>\n",
       "      <th>1</th>\n",
       "      <td>-0.235454</td>\n",
       "      <td>-0.961275</td>\n",
       "      <td>-1.154596</td>\n",
       "      <td>-0.130463</td>\n",
       "      <td>1.396361</td>\n",
       "      <td>1.235733</td>\n",
       "      <td>-1.190545</td>\n",
       "      <td>-0.501912</td>\n",
       "      <td>0.0</td>\n",
       "      <td>1.0</td>\n",
       "    </tr>\n",
       "    <tr>\n",
       "      <th>9</th>\n",
       "      <td>-1.861189</td>\n",
       "      <td>-0.924738</td>\n",
       "      <td>-1.675737</td>\n",
       "      <td>6.052291</td>\n",
       "      <td>1.396361</td>\n",
       "      <td>1.569584</td>\n",
       "      <td>-1.215288</td>\n",
       "      <td>0.621248</td>\n",
       "      <td>0.0</td>\n",
       "      <td>1.0</td>\n",
       "    </tr>\n",
       "    <tr>\n",
       "      <th>13</th>\n",
       "      <td>0.284273</td>\n",
       "      <td>-0.491265</td>\n",
       "      <td>0.017972</td>\n",
       "      <td>0.281720</td>\n",
       "      <td>1.396361</td>\n",
       "      <td>1.402658</td>\n",
       "      <td>-0.631353</td>\n",
       "      <td>-0.501912</td>\n",
       "      <td>0.0</td>\n",
       "      <td>1.0</td>\n",
       "    </tr>\n",
       "    <tr>\n",
       "      <th>17</th>\n",
       "      <td>-0.578370</td>\n",
       "      <td>-0.479640</td>\n",
       "      <td>-0.242598</td>\n",
       "      <td>0.693904</td>\n",
       "      <td>-1.264505</td>\n",
       "      <td>1.903435</td>\n",
       "      <td>1.550979</td>\n",
       "      <td>-0.501912</td>\n",
       "      <td>0.0</td>\n",
       "      <td>0.0</td>\n",
       "    </tr>\n",
       "  </tbody>\n",
       "</table>\n",
       "</div>"
      ],
      "text/plain": [
       "      Income  Expenses  NumPurchases  NumWebVisitsMonth      Kids       Age  \\\n",
       "0   0.235696  1.679417      1.320826           0.693904 -1.264505  0.985345   \n",
       "1  -0.235454 -0.961275     -1.154596          -0.130463  1.396361  1.235733   \n",
       "9  -1.861189 -0.924738     -1.675737           6.052291  1.396361  1.569584   \n",
       "13  0.284273 -0.491265      0.017972           0.281720  1.396361  1.402658   \n",
       "17 -0.578370 -0.479640     -0.242598           0.693904 -1.264505  1.903435   \n",
       "\n",
       "    Enroll_days  TotalAcceptedCmp  Education  is_married  \n",
       "0      1.531185          0.621248        0.0         0.0  \n",
       "1     -1.190545         -0.501912        0.0         1.0  \n",
       "9     -1.215288          0.621248        0.0         1.0  \n",
       "13    -0.631353         -0.501912        0.0         1.0  \n",
       "17     1.550979         -0.501912        0.0         0.0  "
      ]
     },
     "execution_count": 29,
     "metadata": {},
     "output_type": "execute_result"
    }
   ],
   "source": [
    "X = pd.concat([numer_scaled, categ], axis=1, join='inner')\n",
    "#X = X_scaled\n",
    "X.head()"
   ]
  },
  {
   "cell_type": "code",
   "execution_count": 30,
   "id": "2c68640d",
   "metadata": {
    "execution": {
     "iopub.execute_input": "2021-11-15T23:06:48.831130Z",
     "iopub.status.busy": "2021-11-15T23:06:48.830511Z",
     "iopub.status.idle": "2021-11-15T23:06:48.835068Z",
     "shell.execute_reply": "2021-11-15T23:06:48.835556Z",
     "shell.execute_reply.started": "2021-11-15T21:46:58.835506Z"
    },
    "papermill": {
     "duration": 0.072619,
     "end_time": "2021-11-15T23:06:48.835720",
     "exception": false,
     "start_time": "2021-11-15T23:06:48.763101",
     "status": "completed"
    },
    "tags": []
   },
   "outputs": [],
   "source": [
    "X=X.drop(columns=['Age','Enroll_days'])"
   ]
  },
  {
   "cell_type": "markdown",
   "id": "9c50d864",
   "metadata": {
    "papermill": {
     "duration": 0.064523,
     "end_time": "2021-11-15T23:06:48.965760",
     "exception": false,
     "start_time": "2021-11-15T23:06:48.901237",
     "status": "completed"
    },
    "tags": []
   },
   "source": [
    "### Build clusters."
   ]
  },
  {
   "cell_type": "markdown",
   "id": "e768ad0c",
   "metadata": {
    "papermill": {
     "duration": 0.065723,
     "end_time": "2021-11-15T23:06:49.100039",
     "exception": false,
     "start_time": "2021-11-15T23:06:49.034316",
     "status": "completed"
    },
    "tags": []
   },
   "source": [
    "#### Elbow methods to check how many clusters are needed."
   ]
  },
  {
   "cell_type": "code",
   "execution_count": 31,
   "id": "f4e3f40b",
   "metadata": {
    "execution": {
     "iopub.execute_input": "2021-11-15T23:06:49.232206Z",
     "iopub.status.busy": "2021-11-15T23:06:49.231583Z",
     "iopub.status.idle": "2021-11-15T23:06:51.761657Z",
     "shell.execute_reply": "2021-11-15T23:06:51.760935Z",
     "shell.execute_reply.started": "2021-11-15T21:47:04.539870Z"
    },
    "papermill": {
     "duration": 2.597183,
     "end_time": "2021-11-15T23:06:51.761815",
     "exception": false,
     "start_time": "2021-11-15T23:06:49.164632",
     "status": "completed"
    },
    "tags": []
   },
   "outputs": [
    {
     "data": {
      "image/png": "[encoded data removed]",
      "text/plain": [
       "<Figure size 432x288 with 1 Axes>"
      ]
     },
     "metadata": {
      "needs_background": "light"
     },
     "output_type": "display_data"
    }
   ],
   "source": [
    "from sklearn.cluster import KMeans\n",
    "wcss = []\n",
    "for i in range(1, 25):\n",
    "    kmeans = KMeans(n_clusters = i, init = 'k-means++', random_state = 50)\n",
    "    kmeans.fit(X)\n",
    "    wcss.append(kmeans.inertia_)\n",
    "plt.plot(range(1, 25), wcss,color = \"mediumblue\",marker = '*')\n",
    "plt.title('The Elbow Method')\n",
    "plt.xlabel('Number of clusters')\n",
    "plt.ylabel('WCSS')\n",
    "plt.show()"
   ]
  },
  {
   "cell_type": "code",
   "execution_count": 32,
   "id": "cb083628",
   "metadata": {
    "execution": {
     "iopub.execute_input": "2021-11-15T23:06:51.901712Z",
     "iopub.status.busy": "2021-11-15T23:06:51.900717Z",
     "iopub.status.idle": "2021-11-15T23:06:51.972381Z",
     "shell.execute_reply": "2021-11-15T23:06:51.972877Z",
     "shell.execute_reply.started": "2021-11-15T22:32:02.440608Z"
    },
    "papermill": {
     "duration": 0.14256,
     "end_time": "2021-11-15T23:06:51.973054",
     "exception": false,
     "start_time": "2021-11-15T23:06:51.830494",
     "status": "completed"
    },
    "tags": []
   },
   "outputs": [
    {
     "data": {
      "text/plain": [
       "array([[-0.55072906, -0.68305039, -0.5408297 ,  0.52484406,  0.46609701,\n",
       "        -0.26499572,  0.03515625,  0.3671875 ],\n",
       "       [ 0.81563176,  1.09147992,  0.88030321, -0.65878721, -0.61766494,\n",
       "         0.50955271,  0.02209945,  0.35359116]])"
      ]
     },
     "execution_count": 32,
     "metadata": {},
     "output_type": "execute_result"
    }
   ],
   "source": [
    "kmeans = KMeans(n_clusters=2, random_state=0)\n",
    "kmeans.fit(X)\n",
    "clusters = kmeans.fit_predict(X)\n",
    "kmeans.cluster_centers_"
   ]
  },
  {
   "cell_type": "code",
   "execution_count": 33,
   "id": "96e112bf",
   "metadata": {
    "execution": {
     "iopub.execute_input": "2021-11-15T23:06:52.122408Z",
     "iopub.status.busy": "2021-11-15T23:06:52.121765Z",
     "iopub.status.idle": "2021-11-15T23:06:52.124329Z",
     "shell.execute_reply": "2021-11-15T23:06:52.124965Z",
     "shell.execute_reply.started": "2021-11-15T22:32:04.471141Z"
    },
    "papermill": {
     "duration": 0.085285,
     "end_time": "2021-11-15T23:06:52.125132",
     "exception": false,
     "start_time": "2021-11-15T23:06:52.039847",
     "status": "completed"
    },
    "tags": []
   },
   "outputs": [
    {
     "data": {
      "text/html": [
       "<div>\n",
       "<style scoped>\n",
       "    .dataframe tbody tr th:only-of-type {\n",
       "        vertical-align: middle;\n",
       "    }\n",
       "\n",
       "    .dataframe tbody tr th {\n",
       "        vertical-align: top;\n",
       "    }\n",
       "\n",
       "    .dataframe thead th {\n",
       "        text-align: right;\n",
       "    }\n",
       "</style>\n",
       "<table border=\"1\" class=\"dataframe\">\n",
       "  <thead>\n",
       "    <tr style=\"text-align: right;\">\n",
       "      <th></th>\n",
       "      <th>Income</th>\n",
       "      <th>Expenses</th>\n",
       "      <th>NumPurchases</th>\n",
       "      <th>NumWebVisitsMonth</th>\n",
       "      <th>Kids</th>\n",
       "      <th>TotalAcceptedCmp</th>\n",
       "      <th>Education</th>\n",
       "      <th>is_married</th>\n",
       "      <th>Cluster</th>\n",
       "    </tr>\n",
       "  </thead>\n",
       "  <tbody>\n",
       "    <tr>\n",
       "      <th>0</th>\n",
       "      <td>0.235696</td>\n",
       "      <td>1.679417</td>\n",
       "      <td>1.320826</td>\n",
       "      <td>0.693904</td>\n",
       "      <td>-1.264505</td>\n",
       "      <td>0.621248</td>\n",
       "      <td>0.0</td>\n",
       "      <td>0.0</td>\n",
       "      <td>1</td>\n",
       "    </tr>\n",
       "    <tr>\n",
       "      <th>1</th>\n",
       "      <td>-0.235454</td>\n",
       "      <td>-0.961275</td>\n",
       "      <td>-1.154596</td>\n",
       "      <td>-0.130463</td>\n",
       "      <td>1.396361</td>\n",
       "      <td>-0.501912</td>\n",
       "      <td>0.0</td>\n",
       "      <td>1.0</td>\n",
       "      <td>0</td>\n",
       "    </tr>\n",
       "    <tr>\n",
       "      <th>9</th>\n",
       "      <td>-1.861189</td>\n",
       "      <td>-0.924738</td>\n",
       "      <td>-1.675737</td>\n",
       "      <td>6.052291</td>\n",
       "      <td>1.396361</td>\n",
       "      <td>0.621248</td>\n",
       "      <td>0.0</td>\n",
       "      <td>1.0</td>\n",
       "      <td>0</td>\n",
       "    </tr>\n",
       "    <tr>\n",
       "      <th>13</th>\n",
       "      <td>0.284273</td>\n",
       "      <td>-0.491265</td>\n",
       "      <td>0.017972</td>\n",
       "      <td>0.281720</td>\n",
       "      <td>1.396361</td>\n",
       "      <td>-0.501912</td>\n",
       "      <td>0.0</td>\n",
       "      <td>1.0</td>\n",
       "      <td>0</td>\n",
       "    </tr>\n",
       "    <tr>\n",
       "      <th>17</th>\n",
       "      <td>-0.578370</td>\n",
       "      <td>-0.479640</td>\n",
       "      <td>-0.242598</td>\n",
       "      <td>0.693904</td>\n",
       "      <td>-1.264505</td>\n",
       "      <td>-0.501912</td>\n",
       "      <td>0.0</td>\n",
       "      <td>0.0</td>\n",
       "      <td>0</td>\n",
       "    </tr>\n",
       "  </tbody>\n",
       "</table>\n",
       "</div>"
      ],
      "text/plain": [
       "      Income  Expenses  NumPurchases  NumWebVisitsMonth      Kids  \\\n",
       "0   0.235696  1.679417      1.320826           0.693904 -1.264505   \n",
       "1  -0.235454 -0.961275     -1.154596          -0.130463  1.396361   \n",
       "9  -1.861189 -0.924738     -1.675737           6.052291  1.396361   \n",
       "13  0.284273 -0.491265      0.017972           0.281720  1.396361   \n",
       "17 -0.578370 -0.479640     -0.242598           0.693904 -1.264505   \n",
       "\n",
       "    TotalAcceptedCmp  Education  is_married  Cluster  \n",
       "0           0.621248        0.0         0.0        1  \n",
       "1          -0.501912        0.0         1.0        0  \n",
       "9           0.621248        0.0         1.0        0  \n",
       "13         -0.501912        0.0         1.0        0  \n",
       "17         -0.501912        0.0         0.0        0  "
      ]
     },
     "execution_count": 33,
     "metadata": {},
     "output_type": "execute_result"
    }
   ],
   "source": [
    "X[\"Cluster\"] = clusters\n",
    "X.head()"
   ]
  },
  {
   "cell_type": "code",
   "execution_count": 34,
   "id": "f2962ac7",
   "metadata": {
    "execution": {
     "iopub.execute_input": "2021-11-15T23:06:52.264263Z",
     "iopub.status.busy": "2021-11-15T23:06:52.263622Z",
     "iopub.status.idle": "2021-11-15T23:06:52.300024Z",
     "shell.execute_reply": "2021-11-15T23:06:52.301040Z",
     "shell.execute_reply.started": "2021-11-15T22:32:05.888857Z"
    },
    "papermill": {
     "duration": 0.108306,
     "end_time": "2021-11-15T23:06:52.301312",
     "exception": false,
     "start_time": "2021-11-15T23:06:52.193006",
     "status": "completed"
    },
    "tags": []
   },
   "outputs": [
    {
     "data": {
      "text/plain": [
       "0.3814541894181423"
      ]
     },
     "execution_count": 34,
     "metadata": {},
     "output_type": "execute_result"
    }
   ],
   "source": [
    "from sklearn import metrics\n",
    "labels = kmeans.labels_\n",
    "metrics.silhouette_score(X, labels, metric='euclidean')"
   ]
  },
  {
   "cell_type": "code",
   "execution_count": 35,
   "id": "ca435622",
   "metadata": {
    "execution": {
     "iopub.execute_input": "2021-11-15T23:06:52.508689Z",
     "iopub.status.busy": "2021-11-15T23:06:52.507954Z",
     "iopub.status.idle": "2021-11-15T23:06:52.512348Z",
     "shell.execute_reply": "2021-11-15T23:06:52.512960Z",
     "shell.execute_reply.started": "2021-11-15T22:32:07.251043Z"
    },
    "papermill": {
     "duration": 0.078662,
     "end_time": "2021-11-15T23:06:52.513135",
     "exception": false,
     "start_time": "2021-11-15T23:06:52.434473",
     "status": "completed"
    },
    "tags": []
   },
   "outputs": [
    {
     "data": {
      "text/plain": [
       "311.53602642853355"
      ]
     },
     "execution_count": 35,
     "metadata": {},
     "output_type": "execute_result"
    }
   ],
   "source": [
    "metrics.calinski_harabasz_score(X, labels)"
   ]
  },
  {
   "cell_type": "code",
   "execution_count": 36,
   "id": "cd3573d5",
   "metadata": {
    "execution": {
     "iopub.execute_input": "2021-11-15T23:06:52.652190Z",
     "iopub.status.busy": "2021-11-15T23:06:52.651479Z",
     "iopub.status.idle": "2021-11-15T23:06:52.660124Z",
     "shell.execute_reply": "2021-11-15T23:06:52.660749Z",
     "shell.execute_reply.started": "2021-11-15T22:32:07.265333Z"
    },
    "papermill": {
     "duration": 0.080057,
     "end_time": "2021-11-15T23:06:52.660926",
     "exception": false,
     "start_time": "2021-11-15T23:06:52.580869",
     "status": "completed"
    },
    "tags": []
   },
   "outputs": [
    {
     "data": {
      "text/plain": [
       "1.0973239565023312"
      ]
     },
     "execution_count": 36,
     "metadata": {},
     "output_type": "execute_result"
    }
   ],
   "source": [
    "metrics.davies_bouldin_score(X, labels)"
   ]
  },
  {
   "cell_type": "markdown",
   "id": "8eb2e0e6",
   "metadata": {
    "papermill": {
     "duration": 0.069543,
     "end_time": "2021-11-15T23:06:52.799006",
     "exception": false,
     "start_time": "2021-11-15T23:06:52.729463",
     "status": "completed"
    },
    "tags": []
   },
   "source": [
    "### Simple visualization (w/ selected features)\n",
    "#### By changing feature1 and feature2, the personality and spending behaviors of different segments can be visualized."
   ]
  },
  {
   "cell_type": "code",
   "execution_count": 37,
   "id": "3c3e10a1",
   "metadata": {
    "execution": {
     "iopub.execute_input": "2021-11-15T23:06:52.940948Z",
     "iopub.status.busy": "2021-11-15T23:06:52.940211Z",
     "iopub.status.idle": "2021-11-15T23:06:53.196690Z",
     "shell.execute_reply": "2021-11-15T23:06:53.195650Z",
     "shell.execute_reply.started": "2021-11-15T22:56:17.571002Z"
    },
    "papermill": {
     "duration": 0.328205,
     "end_time": "2021-11-15T23:06:53.196836",
     "exception": false,
     "start_time": "2021-11-15T23:06:52.868631",
     "status": "completed"
    },
    "tags": []
   },
   "outputs": [
    {
     "data": {
      "image/png": "[encoded data removed]",
      "text/plain": [
       "<Figure size 1080x576 with 1 Axes>"
      ]
     },
     "metadata": {
      "needs_background": "light"
     },
     "output_type": "display_data"
    }
   ],
   "source": [
    "plt.figure(figsize= (15,8))\n",
    "feature1, feature2 = 'NumPurchases','Expenses'\n",
    "colors = {0:'steelblue',1:'salmon',2:\"gray\",3:'forestgreen',4:'magenta'}\n",
    "plt.scatter(X[feature1],X[feature2],c=X['Cluster'].map(colors))\n",
    "plt.xlabel(feature1,fontsize=15)\n",
    "plt.ylabel(feature2,fontsize=15)\n",
    "#plt.yscale('log')\n",
    "plt.show()"
   ]
  },
  {
   "cell_type": "markdown",
   "id": "c98d2a94",
   "metadata": {
    "papermill": {
     "duration": 0.069286,
     "end_time": "2021-11-15T23:06:53.335461",
     "exception": false,
     "start_time": "2021-11-15T23:06:53.266175",
     "status": "completed"
    },
    "tags": []
   },
   "source": [
    "### Brief Summary:\n",
    "#### 1) Customers can be segmented into 2-3 clusters for pratical purposes.\n",
    "#### 2) If segmented into 2 groups -- Blue-colored customers feature as lower income, lower number of purchases, (slightly) more kids, (slightly) less educated, and accepted less campagign discounts. Salmon-colored customers are the opposite.\n",
    "#### 3) Marketing Strategies for blue customers: sell more to them. They are unlikely to spend too much money on expensive items, but increasing the number of purchases are very effective in increasing expanses. However, they don't tend to buy with past/current discounts/promotions. We may improve targeted promotions for them.\n",
    "#### 4) Marketing Strategies for salmon customers: increase their loyalty to products and increase price. They don't tend to spend more even if they purchase many times."
   ]
  },
  {
   "cell_type": "code",
   "execution_count": null,
   "id": "9e679925",
   "metadata": {
    "papermill": {
     "duration": 0.069548,
     "end_time": "2021-11-15T23:06:53.474218",
     "exception": false,
     "start_time": "2021-11-15T23:06:53.404670",
     "status": "completed"
    },
    "tags": []
   },
   "outputs": [],
   "source": []
  },
  {
   "cell_type": "markdown",
   "id": "6489a070",
   "metadata": {
    "papermill": {
     "duration": 0.069747,
     "end_time": "2021-11-15T23:06:53.614796",
     "exception": false,
     "start_time": "2021-11-15T23:06:53.545049",
     "status": "completed"
    },
    "tags": []
   },
   "source": [
    "### Use PCA to visualize"
   ]
  },
  {
   "cell_type": "code",
   "execution_count": 38,
   "id": "595b1d28",
   "metadata": {
    "execution": {
     "iopub.execute_input": "2021-11-15T23:06:53.758958Z",
     "iopub.status.busy": "2021-11-15T23:06:53.758312Z",
     "iopub.status.idle": "2021-11-15T23:06:53.761146Z",
     "shell.execute_reply": "2021-11-15T23:06:53.760652Z",
     "shell.execute_reply.started": "2021-11-10T21:30:55.97033Z"
    },
    "papermill": {
     "duration": 0.076625,
     "end_time": "2021-11-15T23:06:53.761280",
     "exception": false,
     "start_time": "2021-11-15T23:06:53.684655",
     "status": "completed"
    },
    "tags": []
   },
   "outputs": [],
   "source": [
    "from sklearn.decomposition import PCA"
   ]
  },
  {
   "cell_type": "code",
   "execution_count": 39,
   "id": "d1913ce3",
   "metadata": {
    "execution": {
     "iopub.execute_input": "2021-11-15T23:06:53.913243Z",
     "iopub.status.busy": "2021-11-15T23:06:53.912582Z",
     "iopub.status.idle": "2021-11-15T23:06:53.920622Z",
     "shell.execute_reply": "2021-11-15T23:06:53.921143Z",
     "shell.execute_reply.started": "2021-11-10T21:30:55.986396Z"
    },
    "papermill": {
     "duration": 0.090009,
     "end_time": "2021-11-15T23:06:53.921310",
     "exception": false,
     "start_time": "2021-11-15T23:06:53.831301",
     "status": "completed"
    },
    "tags": []
   },
   "outputs": [
    {
     "data": {
      "text/html": [
       "<div>\n",
       "<style scoped>\n",
       "    .dataframe tbody tr th:only-of-type {\n",
       "        vertical-align: middle;\n",
       "    }\n",
       "\n",
       "    .dataframe tbody tr th {\n",
       "        vertical-align: top;\n",
       "    }\n",
       "\n",
       "    .dataframe thead th {\n",
       "        text-align: right;\n",
       "    }\n",
       "</style>\n",
       "<table border=\"1\" class=\"dataframe\">\n",
       "  <thead>\n",
       "    <tr style=\"text-align: right;\">\n",
       "      <th></th>\n",
       "      <th>Income</th>\n",
       "      <th>Expenses</th>\n",
       "      <th>NumPurchases</th>\n",
       "      <th>NumWebVisitsMonth</th>\n",
       "      <th>Kids</th>\n",
       "      <th>TotalAcceptedCmp</th>\n",
       "      <th>Education</th>\n",
       "      <th>is_married</th>\n",
       "      <th>Cluster</th>\n",
       "    </tr>\n",
       "  </thead>\n",
       "  <tbody>\n",
       "    <tr>\n",
       "      <th>0</th>\n",
       "      <td>0.235696</td>\n",
       "      <td>1.679417</td>\n",
       "      <td>1.320826</td>\n",
       "      <td>0.693904</td>\n",
       "      <td>-1.264505</td>\n",
       "      <td>0.621248</td>\n",
       "      <td>0.0</td>\n",
       "      <td>0.0</td>\n",
       "      <td>1</td>\n",
       "    </tr>\n",
       "    <tr>\n",
       "      <th>1</th>\n",
       "      <td>-0.235454</td>\n",
       "      <td>-0.961275</td>\n",
       "      <td>-1.154596</td>\n",
       "      <td>-0.130463</td>\n",
       "      <td>1.396361</td>\n",
       "      <td>-0.501912</td>\n",
       "      <td>0.0</td>\n",
       "      <td>1.0</td>\n",
       "      <td>0</td>\n",
       "    </tr>\n",
       "    <tr>\n",
       "      <th>9</th>\n",
       "      <td>-1.861189</td>\n",
       "      <td>-0.924738</td>\n",
       "      <td>-1.675737</td>\n",
       "      <td>6.052291</td>\n",
       "      <td>1.396361</td>\n",
       "      <td>0.621248</td>\n",
       "      <td>0.0</td>\n",
       "      <td>1.0</td>\n",
       "      <td>0</td>\n",
       "    </tr>\n",
       "    <tr>\n",
       "      <th>13</th>\n",
       "      <td>0.284273</td>\n",
       "      <td>-0.491265</td>\n",
       "      <td>0.017972</td>\n",
       "      <td>0.281720</td>\n",
       "      <td>1.396361</td>\n",
       "      <td>-0.501912</td>\n",
       "      <td>0.0</td>\n",
       "      <td>1.0</td>\n",
       "      <td>0</td>\n",
       "    </tr>\n",
       "    <tr>\n",
       "      <th>17</th>\n",
       "      <td>-0.578370</td>\n",
       "      <td>-0.479640</td>\n",
       "      <td>-0.242598</td>\n",
       "      <td>0.693904</td>\n",
       "      <td>-1.264505</td>\n",
       "      <td>-0.501912</td>\n",
       "      <td>0.0</td>\n",
       "      <td>0.0</td>\n",
       "      <td>0</td>\n",
       "    </tr>\n",
       "  </tbody>\n",
       "</table>\n",
       "</div>"
      ],
      "text/plain": [
       "      Income  Expenses  NumPurchases  NumWebVisitsMonth      Kids  \\\n",
       "0   0.235696  1.679417      1.320826           0.693904 -1.264505   \n",
       "1  -0.235454 -0.961275     -1.154596          -0.130463  1.396361   \n",
       "9  -1.861189 -0.924738     -1.675737           6.052291  1.396361   \n",
       "13  0.284273 -0.491265      0.017972           0.281720  1.396361   \n",
       "17 -0.578370 -0.479640     -0.242598           0.693904 -1.264505   \n",
       "\n",
       "    TotalAcceptedCmp  Education  is_married  Cluster  \n",
       "0           0.621248        0.0         0.0        1  \n",
       "1          -0.501912        0.0         1.0        0  \n",
       "9           0.621248        0.0         1.0        0  \n",
       "13         -0.501912        0.0         1.0        0  \n",
       "17         -0.501912        0.0         0.0        0  "
      ]
     },
     "execution_count": 39,
     "metadata": {},
     "output_type": "execute_result"
    }
   ],
   "source": [
    "# #plotX is a DataFrame containing 5000 values sampled randomly from X\n",
    "# plotX = pd.DataFrame(np.array(X.sample(5000)))\n",
    "\n",
    "# #Rename plotX's columns since it was briefly converted to an np.array above\n",
    "# plotX.columns = X.columns\n",
    "plotX = X\n",
    "plotX.head()"
   ]
  },
  {
   "cell_type": "code",
   "execution_count": 40,
   "id": "65745fe4",
   "metadata": {
    "execution": {
     "iopub.execute_input": "2021-11-15T23:06:54.067730Z",
     "iopub.status.busy": "2021-11-15T23:06:54.067005Z",
     "iopub.status.idle": "2021-11-15T23:06:54.068656Z",
     "shell.execute_reply": "2021-11-15T23:06:54.069183Z",
     "shell.execute_reply.started": "2021-11-10T21:30:56.027029Z"
    },
    "papermill": {
     "duration": 0.078247,
     "end_time": "2021-11-15T23:06:54.069346",
     "exception": false,
     "start_time": "2021-11-15T23:06:53.991099",
     "status": "completed"
    },
    "tags": []
   },
   "outputs": [],
   "source": [
    "#PCA with one principal component\n",
    "pca_1d = PCA(n_components=1)\n",
    "\n",
    "#PCA with two principal components\n",
    "pca_2d = PCA(n_components=2)\n",
    "\n",
    "#PCA with three principal components\n",
    "pca_3d = PCA(n_components=3)"
   ]
  },
  {
   "cell_type": "code",
   "execution_count": 41,
   "id": "4322beda",
   "metadata": {
    "execution": {
     "iopub.execute_input": "2021-11-15T23:06:54.216600Z",
     "iopub.status.busy": "2021-11-15T23:06:54.215920Z",
     "iopub.status.idle": "2021-11-15T23:06:54.242022Z",
     "shell.execute_reply": "2021-11-15T23:06:54.242565Z",
     "shell.execute_reply.started": "2021-11-10T21:30:56.037041Z"
    },
    "papermill": {
     "duration": 0.100747,
     "end_time": "2021-11-15T23:06:54.242742",
     "exception": false,
     "start_time": "2021-11-15T23:06:54.141995",
     "status": "completed"
    },
    "tags": []
   },
   "outputs": [],
   "source": [
    "#This DataFrame holds that single principal component mentioned above\n",
    "PCs_1d = pd.DataFrame(pca_1d.fit_transform(plotX.drop([\"Cluster\"], axis=1)))\n",
    "\n",
    "#This DataFrame contains the two principal components that will be used\n",
    "#for the 2-D visualization mentioned above\n",
    "PCs_2d = pd.DataFrame(pca_2d.fit_transform(plotX.drop([\"Cluster\"], axis=1)))\n",
    "\n",
    "#And this DataFrame contains three principal components that will aid us\n",
    "#in visualizing our clusters in 3-D\n",
    "PCs_3d = pd.DataFrame(pca_3d.fit_transform(plotX.drop([\"Cluster\"], axis=1)))"
   ]
  },
  {
   "cell_type": "code",
   "execution_count": 42,
   "id": "03ed959a",
   "metadata": {
    "execution": {
     "iopub.execute_input": "2021-11-15T23:06:54.399988Z",
     "iopub.status.busy": "2021-11-15T23:06:54.399274Z",
     "iopub.status.idle": "2021-11-15T23:06:54.405194Z",
     "shell.execute_reply": "2021-11-15T23:06:54.405852Z",
     "shell.execute_reply.started": "2021-11-10T21:30:56.141688Z"
    },
    "papermill": {
     "duration": 0.093735,
     "end_time": "2021-11-15T23:06:54.406086",
     "exception": false,
     "start_time": "2021-11-15T23:06:54.312351",
     "status": "completed"
    },
    "tags": []
   },
   "outputs": [],
   "source": [
    "PCs_1d.columns = [\"PC1_1d\"]\n",
    "\n",
    "#\"PC1_2d\" means: 'The first principal component of the components created for 2-D visualization, by PCA.'\n",
    "#And \"PC2_2d\" means: 'The second principal component of the components created for 2-D visualization, by PCA.'\n",
    "PCs_2d.columns = [\"PC1_2d\", \"PC2_2d\"]\n",
    "\n",
    "PCs_3d.columns = [\"PC1_3d\", \"PC2_3d\", \"PC3_3d\"]"
   ]
  },
  {
   "cell_type": "code",
   "execution_count": 43,
   "id": "5283d495",
   "metadata": {
    "execution": {
     "iopub.execute_input": "2021-11-15T23:06:54.569121Z",
     "iopub.status.busy": "2021-11-15T23:06:54.568111Z",
     "iopub.status.idle": "2021-11-15T23:06:54.595934Z",
     "shell.execute_reply": "2021-11-15T23:06:54.596701Z",
     "shell.execute_reply.started": "2021-11-10T21:30:56.15566Z"
    },
    "papermill": {
     "duration": 0.113412,
     "end_time": "2021-11-15T23:06:54.596940",
     "exception": false,
     "start_time": "2021-11-15T23:06:54.483528",
     "status": "completed"
    },
    "tags": []
   },
   "outputs": [
    {
     "data": {
      "text/html": [
       "<div>\n",
       "<style scoped>\n",
       "    .dataframe tbody tr th:only-of-type {\n",
       "        vertical-align: middle;\n",
       "    }\n",
       "\n",
       "    .dataframe tbody tr th {\n",
       "        vertical-align: top;\n",
       "    }\n",
       "\n",
       "    .dataframe thead th {\n",
       "        text-align: right;\n",
       "    }\n",
       "</style>\n",
       "<table border=\"1\" class=\"dataframe\">\n",
       "  <thead>\n",
       "    <tr style=\"text-align: right;\">\n",
       "      <th></th>\n",
       "      <th>Income</th>\n",
       "      <th>Expenses</th>\n",
       "      <th>NumPurchases</th>\n",
       "      <th>NumWebVisitsMonth</th>\n",
       "      <th>Kids</th>\n",
       "      <th>TotalAcceptedCmp</th>\n",
       "      <th>Education</th>\n",
       "      <th>is_married</th>\n",
       "      <th>Cluster</th>\n",
       "      <th>PC1_1d</th>\n",
       "      <th>PC1_2d</th>\n",
       "      <th>PC2_2d</th>\n",
       "      <th>PC1_3d</th>\n",
       "      <th>PC2_3d</th>\n",
       "      <th>PC3_3d</th>\n",
       "    </tr>\n",
       "  </thead>\n",
       "  <tbody>\n",
       "    <tr>\n",
       "      <th>0</th>\n",
       "      <td>0.235696</td>\n",
       "      <td>1.679417</td>\n",
       "      <td>1.320826</td>\n",
       "      <td>0.693904</td>\n",
       "      <td>-1.264505</td>\n",
       "      <td>0.621248</td>\n",
       "      <td>0.0</td>\n",
       "      <td>0.0</td>\n",
       "      <td>1</td>\n",
       "      <td>1.821156</td>\n",
       "      <td>1.821156</td>\n",
       "      <td>0.794882</td>\n",
       "      <td>1.821156</td>\n",
       "      <td>0.794882</td>\n",
       "      <td>0.033121</td>\n",
       "    </tr>\n",
       "    <tr>\n",
       "      <th>1</th>\n",
       "      <td>-0.235454</td>\n",
       "      <td>-0.961275</td>\n",
       "      <td>-1.154596</td>\n",
       "      <td>-0.130463</td>\n",
       "      <td>1.396361</td>\n",
       "      <td>-0.501912</td>\n",
       "      <td>0.0</td>\n",
       "      <td>1.0</td>\n",
       "      <td>0</td>\n",
       "      <td>-1.721508</td>\n",
       "      <td>-1.721508</td>\n",
       "      <td>-0.479515</td>\n",
       "      <td>-1.721508</td>\n",
       "      <td>-0.479515</td>\n",
       "      <td>0.269063</td>\n",
       "    </tr>\n",
       "    <tr>\n",
       "      <th>9</th>\n",
       "      <td>-1.861189</td>\n",
       "      <td>-0.924738</td>\n",
       "      <td>-1.675737</td>\n",
       "      <td>6.052291</td>\n",
       "      <td>1.396361</td>\n",
       "      <td>0.621248</td>\n",
       "      <td>0.0</td>\n",
       "      <td>1.0</td>\n",
       "      <td>0</td>\n",
       "      <td>-1.966088</td>\n",
       "      <td>-1.966088</td>\n",
       "      <td>-0.118475</td>\n",
       "      <td>-1.966088</td>\n",
       "      <td>-0.118475</td>\n",
       "      <td>0.460024</td>\n",
       "    </tr>\n",
       "    <tr>\n",
       "      <th>13</th>\n",
       "      <td>0.284273</td>\n",
       "      <td>-0.491265</td>\n",
       "      <td>0.017972</td>\n",
       "      <td>0.281720</td>\n",
       "      <td>1.396361</td>\n",
       "      <td>-0.501912</td>\n",
       "      <td>0.0</td>\n",
       "      <td>1.0</td>\n",
       "      <td>0</td>\n",
       "      <td>2.981036</td>\n",
       "      <td>2.981036</td>\n",
       "      <td>2.000993</td>\n",
       "      <td>2.981036</td>\n",
       "      <td>2.000993</td>\n",
       "      <td>1.496425</td>\n",
       "    </tr>\n",
       "    <tr>\n",
       "      <th>17</th>\n",
       "      <td>-0.578370</td>\n",
       "      <td>-0.479640</td>\n",
       "      <td>-0.242598</td>\n",
       "      <td>0.693904</td>\n",
       "      <td>-1.264505</td>\n",
       "      <td>-0.501912</td>\n",
       "      <td>0.0</td>\n",
       "      <td>0.0</td>\n",
       "      <td>0</td>\n",
       "      <td>0.443603</td>\n",
       "      <td>0.443603</td>\n",
       "      <td>2.624258</td>\n",
       "      <td>0.443603</td>\n",
       "      <td>2.624258</td>\n",
       "      <td>0.094206</td>\n",
       "    </tr>\n",
       "  </tbody>\n",
       "</table>\n",
       "</div>"
      ],
      "text/plain": [
       "      Income  Expenses  NumPurchases  NumWebVisitsMonth      Kids  \\\n",
       "0   0.235696  1.679417      1.320826           0.693904 -1.264505   \n",
       "1  -0.235454 -0.961275     -1.154596          -0.130463  1.396361   \n",
       "9  -1.861189 -0.924738     -1.675737           6.052291  1.396361   \n",
       "13  0.284273 -0.491265      0.017972           0.281720  1.396361   \n",
       "17 -0.578370 -0.479640     -0.242598           0.693904 -1.264505   \n",
       "\n",
       "    TotalAcceptedCmp  Education  is_married  Cluster    PC1_1d    PC1_2d  \\\n",
       "0           0.621248        0.0         0.0        1  1.821156  1.821156   \n",
       "1          -0.501912        0.0         1.0        0 -1.721508 -1.721508   \n",
       "9           0.621248        0.0         1.0        0 -1.966088 -1.966088   \n",
       "13         -0.501912        0.0         1.0        0  2.981036  2.981036   \n",
       "17         -0.501912        0.0         0.0        0  0.443603  0.443603   \n",
       "\n",
       "      PC2_2d    PC1_3d    PC2_3d    PC3_3d  \n",
       "0   0.794882  1.821156  0.794882  0.033121  \n",
       "1  -0.479515 -1.721508 -0.479515  0.269063  \n",
       "9  -0.118475 -1.966088 -0.118475  0.460024  \n",
       "13  2.000993  2.981036  2.000993  1.496425  \n",
       "17  2.624258  0.443603  2.624258  0.094206  "
      ]
     },
     "execution_count": 43,
     "metadata": {},
     "output_type": "execute_result"
    }
   ],
   "source": [
    "plotX = pd.concat([plotX,PCs_1d,PCs_2d,PCs_3d], axis=1, join='inner')\n",
    "plotX.head()"
   ]
  },
  {
   "cell_type": "code",
   "execution_count": 44,
   "id": "bd56a96e",
   "metadata": {
    "execution": {
     "iopub.execute_input": "2021-11-15T23:06:54.754270Z",
     "iopub.status.busy": "2021-11-15T23:06:54.753569Z",
     "iopub.status.idle": "2021-11-15T23:06:54.758557Z",
     "shell.execute_reply": "2021-11-15T23:06:54.759155Z",
     "shell.execute_reply.started": "2021-11-10T21:30:56.258304Z"
    },
    "papermill": {
     "duration": 0.081466,
     "end_time": "2021-11-15T23:06:54.759313",
     "exception": false,
     "start_time": "2021-11-15T23:06:54.677847",
     "status": "completed"
    },
    "tags": []
   },
   "outputs": [],
   "source": [
    "plotX[\"dummy\"] = 0"
   ]
  },
  {
   "cell_type": "code",
   "execution_count": 45,
   "id": "4660e885",
   "metadata": {
    "execution": {
     "iopub.execute_input": "2021-11-15T23:06:54.905696Z",
     "iopub.status.busy": "2021-11-15T23:06:54.905010Z",
     "iopub.status.idle": "2021-11-15T23:06:54.913358Z",
     "shell.execute_reply": "2021-11-15T23:06:54.914069Z",
     "shell.execute_reply.started": "2021-11-10T21:30:56.26649Z"
    },
    "papermill": {
     "duration": 0.083759,
     "end_time": "2021-11-15T23:06:54.914242",
     "exception": false,
     "start_time": "2021-11-15T23:06:54.830483",
     "status": "completed"
    },
    "tags": []
   },
   "outputs": [],
   "source": [
    "#Note that all of the DataFrames below are sub-DataFrames of 'plotX'.\n",
    "#This is because we intend to plot the values contained within each of these DataFrames.\n",
    "\n",
    "cluster0 = plotX[plotX[\"Cluster\"] == 0]\n",
    "cluster1 = plotX[plotX[\"Cluster\"] == 1]\n",
    "cluster2 = plotX[plotX[\"Cluster\"] == 2]"
   ]
  },
  {
   "cell_type": "code",
   "execution_count": 46,
   "id": "cdb47a9b",
   "metadata": {
    "execution": {
     "iopub.execute_input": "2021-11-15T23:06:55.067508Z",
     "iopub.status.busy": "2021-11-15T23:06:55.066858Z",
     "iopub.status.idle": "2021-11-15T23:06:55.071598Z",
     "shell.execute_reply": "2021-11-15T23:06:55.072235Z",
     "shell.execute_reply.started": "2021-11-10T21:30:56.284188Z"
    },
    "papermill": {
     "duration": 0.079682,
     "end_time": "2021-11-15T23:06:55.072406",
     "exception": false,
     "start_time": "2021-11-15T23:06:54.992724",
     "status": "completed"
    },
    "tags": []
   },
   "outputs": [],
   "source": [
    "#plotly imports\n",
    "import plotly as py\n",
    "import plotly.graph_objs as go\n",
    "from plotly.offline import download_plotlyjs, init_notebook_mode, plot, iplot"
   ]
  },
  {
   "cell_type": "code",
   "execution_count": 47,
   "id": "488ee93d",
   "metadata": {
    "execution": {
     "iopub.execute_input": "2021-11-15T23:06:55.218801Z",
     "iopub.status.busy": "2021-11-15T23:06:55.218074Z",
     "iopub.status.idle": "2021-11-15T23:06:55.222521Z",
     "shell.execute_reply": "2021-11-15T23:06:55.223023Z",
     "shell.execute_reply.started": "2021-11-10T21:30:56.296049Z"
    },
    "papermill": {
     "duration": 0.077718,
     "end_time": "2021-11-15T23:06:55.223186",
     "exception": false,
     "start_time": "2021-11-15T23:06:55.145468",
     "status": "completed"
    },
    "tags": []
   },
   "outputs": [
    {
     "data": {
      "text/html": [
       "        <script type=\"text/javascript\">\n",
       "        window.PlotlyConfig = {MathJaxConfig: 'local'};\n",
       "        if (window.MathJax) {MathJax.Hub.Config({SVG: {font: \"STIX-Web\"}});}\n",
       "        if (typeof require !== 'undefined') {\n",
       "        require.undef(\"plotly\");\n",
       "        requirejs.config({\n",
       "            paths: {\n",
       "                'plotly': ['https://cdn.plot.ly/plotly-2.4.2.min']\n",
       "            }\n",
       "        });\n",
       "        require(['plotly'], function(Plotly) {\n",
       "            window._Plotly = Plotly;\n",
       "        });\n",
       "        }\n",
       "        </script>\n",
       "        "
      ]
     },
     "metadata": {},
     "output_type": "display_data"
    }
   ],
   "source": [
    "#This is needed so we can display plotly plots properly\n",
    "init_notebook_mode(connected=True)"
   ]
  },
  {
   "cell_type": "code",
   "execution_count": 48,
   "id": "408bcc12",
   "metadata": {
    "execution": {
     "iopub.execute_input": "2021-11-15T23:06:55.367547Z",
     "iopub.status.busy": "2021-11-15T23:06:55.366858Z",
     "iopub.status.idle": "2021-11-15T23:06:55.420014Z",
     "shell.execute_reply": "2021-11-15T23:06:55.420548Z",
     "shell.execute_reply.started": "2021-11-10T21:30:56.309154Z"
    },
    "papermill": {
     "duration": 0.126935,
     "end_time": "2021-11-15T23:06:55.420719",
     "exception": false,
     "start_time": "2021-11-15T23:06:55.293784",
     "status": "completed"
    },
    "tags": []
   },
   "outputs": [
    {
     "data": {
      "application/vnd.plotly.v1+json": {
       "config": {
        "linkText": "Export to plot.ly",
        "plotlyServerURL": "https://plot.ly",
        "showLink": false
       },
       "data": [
        {
         "marker": {
          "color": "rgba(255, 128, 255, 0.8)"
         },
         "mode": "markers",
         "name": "Cluster 0",
         "type": "scatter",
         "x": [
          -1.7215078759417737,
          -1.9660879240817226,
          2.9810358725267365,
          0.4436028955740139,
          2.914004296686421,
          -1.8817580743677105,
          0.6901317508307817,
          -1.401937788879038,
          -2.4697693125294053,
          2.5406069483174467,
          0.5087225851550039,
          2.151245928646159,
          -2.551042827417376,
          -0.09676078122829943,
          -1.8423656681286673,
          -1.2289439795287616,
          1.4437587781431986,
          2.305966545198264,
          -1.5379047279368723,
          -2.0615195925829086,
          -1.444280306355133,
          2.50777228435503,
          -0.2843599342073603,
          1.2030644564089958,
          2.2136252674642596,
          1.7463277949818752,
          1.2509213703621753,
          0.541077453724461,
          -1.0723948749221388,
          -2.445937016171396,
          -0.15676136122082718,
          -0.367245411214789,
          -0.8940526292168892,
          -1.0350554514705403,
          -0.486204974682429,
          -1.3042902468385702,
          -1.0456775923989772,
          0.7560276440653724,
          -1.7596398151196309,
          -1.6582846324331677,
          -2.3086102930990133,
          0.6630871018418403,
          -0.3304153716025931,
          0.18414230979013754,
          -1.3542351881986485,
          3.7312512161072138,
          0.7727023209166908,
          1.5496613506354644
         ],
         "y": [
          0,
          0,
          0,
          0,
          0,
          0,
          0,
          0,
          0,
          0,
          0,
          0,
          0,
          0,
          0,
          0,
          0,
          0,
          0,
          0,
          0,
          0,
          0,
          0,
          0,
          0,
          0,
          0,
          0,
          0,
          0,
          0,
          0,
          0,
          0,
          0,
          0,
          0,
          0,
          0,
          0,
          0,
          0,
          0,
          0,
          0,
          0,
          0
         ]
        },
        {
         "marker": {
          "color": "rgba(255, 128, 2, 0.8)"
         },
         "mode": "markers",
         "name": "Cluster 1",
         "type": "scatter",
         "x": [
          1.8211562739620792,
          1.2026524924489381,
          -1.6850301300464636,
          -2.0833849129342643,
          3.3361007646483283,
          -1.2386006866715107,
          0.8630776641173011,
          -2.0621880012369997,
          -2.0508027133838187,
          0.6145704448272509,
          0.21209785808647283,
          -1.9263661051369816,
          2.8224105363703966,
          3.084721012600161,
          -0.7400765909975934,
          -0.5519000816884962,
          -0.5073894120820652,
          -0.7248576634660245,
          -0.6861088361656447,
          1.7224211798585531,
          2.0171744368059867,
          -3.5617492037875382,
          -0.5474238801477871,
          -2.07460509925337,
          -1.9109251472147661,
          0.12782902769656043,
          -1.944626316154589,
          -1.448854417225352,
          -1.831458438703867,
          -0.5487103608072436,
          -1.0675572593534355,
          1.2467033610884013,
          1.6302459678210959,
          0.7846726747072624,
          -2.060818607883418
         ],
         "y": [
          0,
          0,
          0,
          0,
          0,
          0,
          0,
          0,
          0,
          0,
          0,
          0,
          0,
          0,
          0,
          0,
          0,
          0,
          0,
          0,
          0,
          0,
          0,
          0,
          0,
          0,
          0,
          0,
          0,
          0,
          0,
          0,
          0,
          0,
          0
         ]
        },
        {
         "marker": {
          "color": "rgba(0, 255, 200, 0.8)"
         },
         "mode": "markers",
         "name": "Cluster 2",
         "type": "scatter",
         "x": [],
         "y": []
        }
       ],
       "layout": {
        "template": {
         "data": {
          "bar": [
           {
            "error_x": {
             "color": "#2a3f5f"
            },
            "error_y": {
             "color": "#2a3f5f"
            },
            "marker": {
             "line": {
              "color": "#E5ECF6",
              "width": 0.5
             },
             "pattern": {
              "fillmode": "overlay",
              "size": 10,
              "solidity": 0.2
             }
            },
            "type": "bar"
           }
          ],
          "barpolar": [
           {
            "marker": {
             "line": {
              "color": "#E5ECF6",
              "width": 0.5
             },
             "pattern": {
              "fillmode": "overlay",
              "size": 10,
              "solidity": 0.2
             }
            },
            "type": "barpolar"
           }
          ],
          "carpet": [
           {
            "aaxis": {
             "endlinecolor": "#2a3f5f",
             "gridcolor": "white",
             "linecolor": "white",
             "minorgridcolor": "white",
             "startlinecolor": "#2a3f5f"
            },
            "baxis": {
             "endlinecolor": "#2a3f5f",
             "gridcolor": "white",
             "linecolor": "white",
             "minorgridcolor": "white",
             "startlinecolor": "#2a3f5f"
            },
            "type": "carpet"
           }
          ],
          "choropleth": [
           {
            "colorbar": {
             "outlinewidth": 0,
             "ticks": ""
            },
            "type": "choropleth"
           }
          ],
          "contour": [
           {
            "colorbar": {
             "outlinewidth": 0,
             "ticks": ""
            },
            "colorscale": [
             [
              0.0,
              "#0d0887"
             ],
             [
              0.1111111111111111,
              "#46039f"
             ],
             [
              0.2222222222222222,
              "#7201a8"
             ],
             [
              0.3333333333333333,
              "#9c179e"
             ],
             [
              0.4444444444444444,
              "#bd3786"
             ],
             [
              0.5555555555555556,
              "#d8576b"
             ],
             [
              0.6666666666666666,
              "#ed7953"
             ],
             [
              0.7777777777777778,
              "#fb9f3a"
             ],
             [
              0.8888888888888888,
              "#fdca26"
             ],
             [
              1.0,
              "#f0f921"
             ]
            ],
            "type": "contour"
           }
          ],
          "contourcarpet": [
           {
            "colorbar": {
             "outlinewidth": 0,
             "ticks": ""
            },
            "type": "contourcarpet"
           }
          ],
          "heatmap": [
           {
            "colorbar": {
             "outlinewidth": 0,
             "ticks": ""
            },
            "colorscale": [
             [
              0.0,
              "#0d0887"
             ],
             [
              0.1111111111111111,
              "#46039f"
             ],
             [
              0.2222222222222222,
              "#7201a8"
             ],
             [
              0.3333333333333333,
              "#9c179e"
             ],
             [
              0.4444444444444444,
              "#bd3786"
             ],
             [
              0.5555555555555556,
              "#d8576b"
             ],
             [
              0.6666666666666666,
              "#ed7953"
             ],
             [
              0.7777777777777778,
              "#fb9f3a"
             ],
             [
              0.8888888888888888,
              "#fdca26"
             ],
             [
              1.0,
              "#f0f921"
             ]
            ],
            "type": "heatmap"
           }
          ],
          "heatmapgl": [
           {
            "colorbar": {
             "outlinewidth": 0,
             "ticks": ""
            },
            "colorscale": [
             [
              0.0,
              "#0d0887"
             ],
             [
              0.1111111111111111,
              "#46039f"
             ],
             [
              0.2222222222222222,
              "#7201a8"
             ],
             [
              0.3333333333333333,
              "#9c179e"
             ],
             [
              0.4444444444444444,
              "#bd3786"
             ],
             [
              0.5555555555555556,
              "#d8576b"
             ],
             [
              0.6666666666666666,
              "#ed7953"
             ],
             [
              0.7777777777777778,
              "#fb9f3a"
             ],
             [
              0.8888888888888888,
              "#fdca26"
             ],
             [
              1.0,
              "#f0f921"
             ]
            ],
            "type": "heatmapgl"
           }
          ],
          "histogram": [
           {
            "marker": {
             "pattern": {
              "fillmode": "overlay",
              "size": 10,
              "solidity": 0.2
             }
            },
            "type": "histogram"
           }
          ],
          "histogram2d": [
           {
            "colorbar": {
             "outlinewidth": 0,
             "ticks": ""
            },
            "colorscale": [
             [
              0.0,
              "#0d0887"
             ],
             [
              0.1111111111111111,
              "#46039f"
             ],
             [
              0.2222222222222222,
              "#7201a8"
             ],
             [
              0.3333333333333333,
              "#9c179e"
             ],
             [
              0.4444444444444444,
              "#bd3786"
             ],
             [
              0.5555555555555556,
              "#d8576b"
             ],
             [
              0.6666666666666666,
              "#ed7953"
             ],
             [
              0.7777777777777778,
              "#fb9f3a"
             ],
             [
              0.8888888888888888,
              "#fdca26"
             ],
             [
              1.0,
              "#f0f921"
             ]
            ],
            "type": "histogram2d"
           }
          ],
          "histogram2dcontour": [
           {
            "colorbar": {
             "outlinewidth": 0,
             "ticks": ""
            },
            "colorscale": [
             [
              0.0,
              "#0d0887"
             ],
             [
              0.1111111111111111,
              "#46039f"
             ],
             [
              0.2222222222222222,
              "#7201a8"
             ],
             [
              0.3333333333333333,
              "#9c179e"
             ],
             [
              0.4444444444444444,
              "#bd3786"
             ],
             [
              0.5555555555555556,
              "#d8576b"
             ],
             [
              0.6666666666666666,
              "#ed7953"
             ],
             [
              0.7777777777777778,
              "#fb9f3a"
             ],
             [
              0.8888888888888888,
              "#fdca26"
             ],
             [
              1.0,
              "#f0f921"
             ]
            ],
            "type": "histogram2dcontour"
           }
          ],
          "mesh3d": [
           {
            "colorbar": {
             "outlinewidth": 0,
             "ticks": ""
            },
            "type": "mesh3d"
           }
          ],
          "parcoords": [
           {
            "line": {
             "colorbar": {
              "outlinewidth": 0,
              "ticks": ""
             }
            },
            "type": "parcoords"
           }
          ],
          "pie": [
           {
            "automargin": true,
            "type": "pie"
           }
          ],
          "scatter": [
           {
            "marker": {
             "colorbar": {
              "outlinewidth": 0,
              "ticks": ""
             }
            },
            "type": "scatter"
           }
          ],
          "scatter3d": [
           {
            "line": {
             "colorbar": {
              "outlinewidth": 0,
              "ticks": ""
             }
            },
            "marker": {
             "colorbar": {
              "outlinewidth": 0,
              "ticks": ""
             }
            },
            "type": "scatter3d"
           }
          ],
          "scattercarpet": [
           {
            "marker": {
             "colorbar": {
              "outlinewidth": 0,
              "ticks": ""
             }
            },
            "type": "scattercarpet"
           }
          ],
          "scattergeo": [
           {
            "marker": {
             "colorbar": {
              "outlinewidth": 0,
              "ticks": ""
             }
            },
            "type": "scattergeo"
           }
          ],
          "scattergl": [
           {
            "marker": {
             "colorbar": {
              "outlinewidth": 0,
              "ticks": ""
             }
            },
            "type": "scattergl"
           }
          ],
          "scattermapbox": [
           {
            "marker": {
             "colorbar": {
              "outlinewidth": 0,
              "ticks": ""
             }
            },
            "type": "scattermapbox"
           }
          ],
          "scatterpolar": [
           {
            "marker": {
             "colorbar": {
              "outlinewidth": 0,
              "ticks": ""
             }
            },
            "type": "scatterpolar"
           }
          ],
          "scatterpolargl": [
           {
            "marker": {
             "colorbar": {
              "outlinewidth": 0,
              "ticks": ""
             }
            },
            "type": "scatterpolargl"
           }
          ],
          "scatterternary": [
           {
            "marker": {
             "colorbar": {
              "outlinewidth": 0,
              "ticks": ""
             }
            },
            "type": "scatterternary"
           }
          ],
          "surface": [
           {
            "colorbar": {
             "outlinewidth": 0,
             "ticks": ""
            },
            "colorscale": [
             [
              0.0,
              "#0d0887"
             ],
             [
              0.1111111111111111,
              "#46039f"
             ],
             [
              0.2222222222222222,
              "#7201a8"
             ],
             [
              0.3333333333333333,
              "#9c179e"
             ],
             [
              0.4444444444444444,
              "#bd3786"
             ],
             [
              0.5555555555555556,
              "#d8576b"
             ],
             [
              0.6666666666666666,
              "#ed7953"
             ],
             [
              0.7777777777777778,
              "#fb9f3a"
             ],
             [
              0.8888888888888888,
              "#fdca26"
             ],
             [
              1.0,
              "#f0f921"
             ]
            ],
            "type": "surface"
           }
          ],
          "table": [
           {
            "cells": {
             "fill": {
              "color": "#EBF0F8"
             },
             "line": {
              "color": "white"
             }
            },
            "header": {
             "fill": {
              "color": "#C8D4E3"
             },
             "line": {
              "color": "white"
             }
            },
            "type": "table"
           }
          ]
         },
         "layout": {
          "annotationdefaults": {
           "arrowcolor": "#2a3f5f",
           "arrowhead": 0,
           "arrowwidth": 1
          },
          "autotypenumbers": "strict",
          "coloraxis": {
           "colorbar": {
            "outlinewidth": 0,
            "ticks": ""
           }
          },
          "colorscale": {
           "diverging": [
            [
             0,
             "#8e0152"
            ],
            [
             0.1,
             "#c51b7d"
            ],
            [
             0.2,
             "#de77ae"
            ],
            [
             0.3,
             "#f1b6da"
            ],
            [
             0.4,
             "#fde0ef"
            ],
            [
             0.5,
             "#f7f7f7"
            ],
            [
             0.6,
             "#e6f5d0"
            ],
            [
             0.7,
             "#b8e186"
            ],
            [
             0.8,
             "#7fbc41"
            ],
            [
             0.9,
             "#4d9221"
            ],
            [
             1,
             "#276419"
            ]
           ],
           "sequential": [
            [
             0.0,
             "#0d0887"
            ],
            [
             0.1111111111111111,
             "#46039f"
            ],
            [
             0.2222222222222222,
             "#7201a8"
            ],
            [
             0.3333333333333333,
             "#9c179e"
            ],
            [
             0.4444444444444444,
             "#bd3786"
            ],
            [
             0.5555555555555556,
             "#d8576b"
            ],
            [
             0.6666666666666666,
             "#ed7953"
            ],
            [
             0.7777777777777778,
             "#fb9f3a"
            ],
            [
             0.8888888888888888,
             "#fdca26"
            ],
            [
             1.0,
             "#f0f921"
            ]
           ],
           "sequentialminus": [
            [
             0.0,
             "#0d0887"
            ],
            [
             0.1111111111111111,
             "#46039f"
            ],
            [
             0.2222222222222222,
             "#7201a8"
            ],
            [
             0.3333333333333333,
             "#9c179e"
            ],
            [
             0.4444444444444444,
             "#bd3786"
            ],
            [
             0.5555555555555556,
             "#d8576b"
            ],
            [
             0.6666666666666666,
             "#ed7953"
            ],
            [
             0.7777777777777778,
             "#fb9f3a"
            ],
            [
             0.8888888888888888,
             "#fdca26"
            ],
            [
             1.0,
             "#f0f921"
            ]
           ]
          },
          "colorway": [
           "#636efa",
           "#EF553B",
           "#00cc96",
           "#ab63fa",
           "#FFA15A",
           "#19d3f3",
           "#FF6692",
           "#B6E880",
           "#FF97FF",
           "#FECB52"
          ],
          "font": {
           "color": "#2a3f5f"
          },
          "geo": {
           "bgcolor": "white",
           "lakecolor": "white",
           "landcolor": "#E5ECF6",
           "showlakes": true,
           "showland": true,
           "subunitcolor": "white"
          },
          "hoverlabel": {
           "align": "left"
          },
          "hovermode": "closest",
          "mapbox": {
           "style": "light"
          },
          "paper_bgcolor": "white",
          "plot_bgcolor": "#E5ECF6",
          "polar": {
           "angularaxis": {
            "gridcolor": "white",
            "linecolor": "white",
            "ticks": ""
           },
           "bgcolor": "#E5ECF6",
           "radialaxis": {
            "gridcolor": "white",
            "linecolor": "white",
            "ticks": ""
           }
          },
          "scene": {
           "xaxis": {
            "backgroundcolor": "#E5ECF6",
            "gridcolor": "white",
            "gridwidth": 2,
            "linecolor": "white",
            "showbackground": true,
            "ticks": "",
            "zerolinecolor": "white"
           },
           "yaxis": {
            "backgroundcolor": "#E5ECF6",
            "gridcolor": "white",
            "gridwidth": 2,
            "linecolor": "white",
            "showbackground": true,
            "ticks": "",
            "zerolinecolor": "white"
           },
           "zaxis": {
            "backgroundcolor": "#E5ECF6",
            "gridcolor": "white",
            "gridwidth": 2,
            "linecolor": "white",
            "showbackground": true,
            "ticks": "",
            "zerolinecolor": "white"
           }
          },
          "shapedefaults": {
           "line": {
            "color": "#2a3f5f"
           }
          },
          "ternary": {
           "aaxis": {
            "gridcolor": "white",
            "linecolor": "white",
            "ticks": ""
           },
           "baxis": {
            "gridcolor": "white",
            "linecolor": "white",
            "ticks": ""
           },
           "bgcolor": "#E5ECF6",
           "caxis": {
            "gridcolor": "white",
            "linecolor": "white",
            "ticks": ""
           }
          },
          "title": {
           "x": 0.05
          },
          "xaxis": {
           "automargin": true,
           "gridcolor": "white",
           "linecolor": "white",
           "ticks": "",
           "title": {
            "standoff": 15
           },
           "zerolinecolor": "white",
           "zerolinewidth": 2
          },
          "yaxis": {
           "automargin": true,
           "gridcolor": "white",
           "linecolor": "white",
           "ticks": "",
           "title": {
            "standoff": 15
           },
           "zerolinecolor": "white",
           "zerolinewidth": 2
          }
         }
        },
        "title": {
         "text": "Visualizing Clusters in One Dimension Using PCA"
        },
        "xaxis": {
         "ticklen": 5,
         "title": {
          "text": "PC1"
         },
         "zeroline": false
        },
        "yaxis": {
         "ticklen": 5,
         "title": {
          "text": ""
         },
         "zeroline": false
        }
       }
      },
      "text/html": [
       "<div>                            <div id=\"c2934fe1-8144-4e6d-be79-0ace2bd2fda0\" class=\"plotly-graph-div\" style=\"height:525px; width:100%;\"></div>            <script type=\"text/javascript\">                require([\"plotly\"], function(Plotly) {                    window.PLOTLYENV=window.PLOTLYENV || {};                                    if (document.getElementById(\"c2934fe1-8144-4e6d-be79-0ace2bd2fda0\")) {                    Plotly.newPlot(                        \"c2934fe1-8144-4e6d-be79-0ace2bd2fda0\",                        [{\"marker\":{\"color\":\"rgba(255, 128, 255, 0.8)\"},\"mode\":\"markers\",\"name\":\"Cluster 0\",\"type\":\"scatter\",\"x\":[-1.7215078759417737,-1.9660879240817226,2.9810358725267365,0.4436028955740139,2.914004296686421,-1.8817580743677105,0.6901317508307817,-1.401937788879038,-2.4697693125294053,2.5406069483174467,0.5087225851550039,2.151245928646159,-2.551042827417376,-0.09676078122829943,-1.8423656681286673,-1.2289439795287616,1.4437587781431986,2.305966545198264,-1.5379047279368723,-2.0615195925829086,-1.444280306355133,2.50777228435503,-0.2843599342073603,1.2030644564089958,2.2136252674642596,1.7463277949818752,1.2509213703621753,0.541077453724461,-1.0723948749221388,-2.445937016171396,-0.15676136122082718,-0.367245411214789,-0.8940526292168892,-1.0350554514705403,-0.486204974682429,-1.3042902468385702,-1.0456775923989772,0.7560276440653724,-1.7596398151196309,-1.6582846324331677,-2.3086102930990133,0.6630871018418403,-0.3304153716025931,0.18414230979013754,-1.3542351881986485,3.7312512161072138,0.7727023209166908,1.5496613506354644],\"y\":[0,0,0,0,0,0,0,0,0,0,0,0,0,0,0,0,0,0,0,0,0,0,0,0,0,0,0,0,0,0,0,0,0,0,0,0,0,0,0,0,0,0,0,0,0,0,0,0]},{\"marker\":{\"color\":\"rgba(255, 128, 2, 0.8)\"},\"mode\":\"markers\",\"name\":\"Cluster 1\",\"type\":\"scatter\",\"x\":[1.8211562739620792,1.2026524924489381,-1.6850301300464636,-2.0833849129342643,3.3361007646483283,-1.2386006866715107,0.8630776641173011,-2.0621880012369997,-2.0508027133838187,0.6145704448272509,0.21209785808647283,-1.9263661051369816,2.8224105363703966,3.084721012600161,-0.7400765909975934,-0.5519000816884962,-0.5073894120820652,-0.7248576634660245,-0.6861088361656447,1.7224211798585531,2.0171744368059867,-3.5617492037875382,-0.5474238801477871,-2.07460509925337,-1.9109251472147661,0.12782902769656043,-1.944626316154589,-1.448854417225352,-1.831458438703867,-0.5487103608072436,-1.0675572593534355,1.2467033610884013,1.6302459678210959,0.7846726747072624,-2.060818607883418],\"y\":[0,0,0,0,0,0,0,0,0,0,0,0,0,0,0,0,0,0,0,0,0,0,0,0,0,0,0,0,0,0,0,0,0,0,0]},{\"marker\":{\"color\":\"rgba(0, 255, 200, 0.8)\"},\"mode\":\"markers\",\"name\":\"Cluster 2\",\"type\":\"scatter\",\"x\":[],\"y\":[]}],                        {\"template\":{\"data\":{\"bar\":[{\"error_x\":{\"color\":\"#2a3f5f\"},\"error_y\":{\"color\":\"#2a3f5f\"},\"marker\":{\"line\":{\"color\":\"#E5ECF6\",\"width\":0.5},\"pattern\":{\"fillmode\":\"overlay\",\"size\":10,\"solidity\":0.2}},\"type\":\"bar\"}],\"barpolar\":[{\"marker\":{\"line\":{\"color\":\"#E5ECF6\",\"width\":0.5},\"pattern\":{\"fillmode\":\"overlay\",\"size\":10,\"solidity\":0.2}},\"type\":\"barpolar\"}],\"carpet\":[{\"aaxis\":{\"endlinecolor\":\"#2a3f5f\",\"gridcolor\":\"white\",\"linecolor\":\"white\",\"minorgridcolor\":\"white\",\"startlinecolor\":\"#2a3f5f\"},\"baxis\":{\"endlinecolor\":\"#2a3f5f\",\"gridcolor\":\"white\",\"linecolor\":\"white\",\"minorgridcolor\":\"white\",\"startlinecolor\":\"#2a3f5f\"},\"type\":\"carpet\"}],\"choropleth\":[{\"colorbar\":{\"outlinewidth\":0,\"ticks\":\"\"},\"type\":\"choropleth\"}],\"contour\":[{\"colorbar\":{\"outlinewidth\":0,\"ticks\":\"\"},\"colorscale\":[[0.0,\"#0d0887\"],[0.1111111111111111,\"#46039f\"],[0.2222222222222222,\"#7201a8\"],[0.3333333333333333,\"#9c179e\"],[0.4444444444444444,\"#bd3786\"],[0.5555555555555556,\"#d8576b\"],[0.6666666666666666,\"#ed7953\"],[0.7777777777777778,\"#fb9f3a\"],[0.8888888888888888,\"#fdca26\"],[1.0,\"#f0f921\"]],\"type\":\"contour\"}],\"contourcarpet\":[{\"colorbar\":{\"outlinewidth\":0,\"ticks\":\"\"},\"type\":\"contourcarpet\"}],\"heatmap\":[{\"colorbar\":{\"outlinewidth\":0,\"ticks\":\"\"},\"colorscale\":[[0.0,\"#0d0887\"],[0.1111111111111111,\"#46039f\"],[0.2222222222222222,\"#7201a8\"],[0.3333333333333333,\"#9c179e\"],[0.4444444444444444,\"#bd3786\"],[0.5555555555555556,\"#d8576b\"],[0.6666666666666666,\"#ed7953\"],[0.7777777777777778,\"#fb9f3a\"],[0.8888888888888888,\"#fdca26\"],[1.0,\"#f0f921\"]],\"type\":\"heatmap\"}],\"heatmapgl\":[{\"colorbar\":{\"outlinewidth\":0,\"ticks\":\"\"},\"colorscale\":[[0.0,\"#0d0887\"],[0.1111111111111111,\"#46039f\"],[0.2222222222222222,\"#7201a8\"],[0.3333333333333333,\"#9c179e\"],[0.4444444444444444,\"#bd3786\"],[0.5555555555555556,\"#d8576b\"],[0.6666666666666666,\"#ed7953\"],[0.7777777777777778,\"#fb9f3a\"],[0.8888888888888888,\"#fdca26\"],[1.0,\"#f0f921\"]],\"type\":\"heatmapgl\"}],\"histogram\":[{\"marker\":{\"pattern\":{\"fillmode\":\"overlay\",\"size\":10,\"solidity\":0.2}},\"type\":\"histogram\"}],\"histogram2d\":[{\"colorbar\":{\"outlinewidth\":0,\"ticks\":\"\"},\"colorscale\":[[0.0,\"#0d0887\"],[0.1111111111111111,\"#46039f\"],[0.2222222222222222,\"#7201a8\"],[0.3333333333333333,\"#9c179e\"],[0.4444444444444444,\"#bd3786\"],[0.5555555555555556,\"#d8576b\"],[0.6666666666666666,\"#ed7953\"],[0.7777777777777778,\"#fb9f3a\"],[0.8888888888888888,\"#fdca26\"],[1.0,\"#f0f921\"]],\"type\":\"histogram2d\"}],\"histogram2dcontour\":[{\"colorbar\":{\"outlinewidth\":0,\"ticks\":\"\"},\"colorscale\":[[0.0,\"#0d0887\"],[0.1111111111111111,\"#46039f\"],[0.2222222222222222,\"#7201a8\"],[0.3333333333333333,\"#9c179e\"],[0.4444444444444444,\"#bd3786\"],[0.5555555555555556,\"#d8576b\"],[0.6666666666666666,\"#ed7953\"],[0.7777777777777778,\"#fb9f3a\"],[0.8888888888888888,\"#fdca26\"],[1.0,\"#f0f921\"]],\"type\":\"histogram2dcontour\"}],\"mesh3d\":[{\"colorbar\":{\"outlinewidth\":0,\"ticks\":\"\"},\"type\":\"mesh3d\"}],\"parcoords\":[{\"line\":{\"colorbar\":{\"outlinewidth\":0,\"ticks\":\"\"}},\"type\":\"parcoords\"}],\"pie\":[{\"automargin\":true,\"type\":\"pie\"}],\"scatter\":[{\"marker\":{\"colorbar\":{\"outlinewidth\":0,\"ticks\":\"\"}},\"type\":\"scatter\"}],\"scatter3d\":[{\"line\":{\"colorbar\":{\"outlinewidth\":0,\"ticks\":\"\"}},\"marker\":{\"colorbar\":{\"outlinewidth\":0,\"ticks\":\"\"}},\"type\":\"scatter3d\"}],\"scattercarpet\":[{\"marker\":{\"colorbar\":{\"outlinewidth\":0,\"ticks\":\"\"}},\"type\":\"scattercarpet\"}],\"scattergeo\":[{\"marker\":{\"colorbar\":{\"outlinewidth\":0,\"ticks\":\"\"}},\"type\":\"scattergeo\"}],\"scattergl\":[{\"marker\":{\"colorbar\":{\"outlinewidth\":0,\"ticks\":\"\"}},\"type\":\"scattergl\"}],\"scattermapbox\":[{\"marker\":{\"colorbar\":{\"outlinewidth\":0,\"ticks\":\"\"}},\"type\":\"scattermapbox\"}],\"scatterpolar\":[{\"marker\":{\"colorbar\":{\"outlinewidth\":0,\"ticks\":\"\"}},\"type\":\"scatterpolar\"}],\"scatterpolargl\":[{\"marker\":{\"colorbar\":{\"outlinewidth\":0,\"ticks\":\"\"}},\"type\":\"scatterpolargl\"}],\"scatterternary\":[{\"marker\":{\"colorbar\":{\"outlinewidth\":0,\"ticks\":\"\"}},\"type\":\"scatterternary\"}],\"surface\":[{\"colorbar\":{\"outlinewidth\":0,\"ticks\":\"\"},\"colorscale\":[[0.0,\"#0d0887\"],[0.1111111111111111,\"#46039f\"],[0.2222222222222222,\"#7201a8\"],[0.3333333333333333,\"#9c179e\"],[0.4444444444444444,\"#bd3786\"],[0.5555555555555556,\"#d8576b\"],[0.6666666666666666,\"#ed7953\"],[0.7777777777777778,\"#fb9f3a\"],[0.8888888888888888,\"#fdca26\"],[1.0,\"#f0f921\"]],\"type\":\"surface\"}],\"table\":[{\"cells\":{\"fill\":{\"color\":\"#EBF0F8\"},\"line\":{\"color\":\"white\"}},\"header\":{\"fill\":{\"color\":\"#C8D4E3\"},\"line\":{\"color\":\"white\"}},\"type\":\"table\"}]},\"layout\":{\"annotationdefaults\":{\"arrowcolor\":\"#2a3f5f\",\"arrowhead\":0,\"arrowwidth\":1},\"autotypenumbers\":\"strict\",\"coloraxis\":{\"colorbar\":{\"outlinewidth\":0,\"ticks\":\"\"}},\"colorscale\":{\"diverging\":[[0,\"#8e0152\"],[0.1,\"#c51b7d\"],[0.2,\"#de77ae\"],[0.3,\"#f1b6da\"],[0.4,\"#fde0ef\"],[0.5,\"#f7f7f7\"],[0.6,\"#e6f5d0\"],[0.7,\"#b8e186\"],[0.8,\"#7fbc41\"],[0.9,\"#4d9221\"],[1,\"#276419\"]],\"sequential\":[[0.0,\"#0d0887\"],[0.1111111111111111,\"#46039f\"],[0.2222222222222222,\"#7201a8\"],[0.3333333333333333,\"#9c179e\"],[0.4444444444444444,\"#bd3786\"],[0.5555555555555556,\"#d8576b\"],[0.6666666666666666,\"#ed7953\"],[0.7777777777777778,\"#fb9f3a\"],[0.8888888888888888,\"#fdca26\"],[1.0,\"#f0f921\"]],\"sequentialminus\":[[0.0,\"#0d0887\"],[0.1111111111111111,\"#46039f\"],[0.2222222222222222,\"#7201a8\"],[0.3333333333333333,\"#9c179e\"],[0.4444444444444444,\"#bd3786\"],[0.5555555555555556,\"#d8576b\"],[0.6666666666666666,\"#ed7953\"],[0.7777777777777778,\"#fb9f3a\"],[0.8888888888888888,\"#fdca26\"],[1.0,\"#f0f921\"]]},\"colorway\":[\"#636efa\",\"#EF553B\",\"#00cc96\",\"#ab63fa\",\"#FFA15A\",\"#19d3f3\",\"#FF6692\",\"#B6E880\",\"#FF97FF\",\"#FECB52\"],\"font\":{\"color\":\"#2a3f5f\"},\"geo\":{\"bgcolor\":\"white\",\"lakecolor\":\"white\",\"landcolor\":\"#E5ECF6\",\"showlakes\":true,\"showland\":true,\"subunitcolor\":\"white\"},\"hoverlabel\":{\"align\":\"left\"},\"hovermode\":\"closest\",\"mapbox\":{\"style\":\"light\"},\"paper_bgcolor\":\"white\",\"plot_bgcolor\":\"#E5ECF6\",\"polar\":{\"angularaxis\":{\"gridcolor\":\"white\",\"linecolor\":\"white\",\"ticks\":\"\"},\"bgcolor\":\"#E5ECF6\",\"radialaxis\":{\"gridcolor\":\"white\",\"linecolor\":\"white\",\"ticks\":\"\"}},\"scene\":{\"xaxis\":{\"backgroundcolor\":\"#E5ECF6\",\"gridcolor\":\"white\",\"gridwidth\":2,\"linecolor\":\"white\",\"showbackground\":true,\"ticks\":\"\",\"zerolinecolor\":\"white\"},\"yaxis\":{\"backgroundcolor\":\"#E5ECF6\",\"gridcolor\":\"white\",\"gridwidth\":2,\"linecolor\":\"white\",\"showbackground\":true,\"ticks\":\"\",\"zerolinecolor\":\"white\"},\"zaxis\":{\"backgroundcolor\":\"#E5ECF6\",\"gridcolor\":\"white\",\"gridwidth\":2,\"linecolor\":\"white\",\"showbackground\":true,\"ticks\":\"\",\"zerolinecolor\":\"white\"}},\"shapedefaults\":{\"line\":{\"color\":\"#2a3f5f\"}},\"ternary\":{\"aaxis\":{\"gridcolor\":\"white\",\"linecolor\":\"white\",\"ticks\":\"\"},\"baxis\":{\"gridcolor\":\"white\",\"linecolor\":\"white\",\"ticks\":\"\"},\"bgcolor\":\"#E5ECF6\",\"caxis\":{\"gridcolor\":\"white\",\"linecolor\":\"white\",\"ticks\":\"\"}},\"title\":{\"x\":0.05},\"xaxis\":{\"automargin\":true,\"gridcolor\":\"white\",\"linecolor\":\"white\",\"ticks\":\"\",\"title\":{\"standoff\":15},\"zerolinecolor\":\"white\",\"zerolinewidth\":2},\"yaxis\":{\"automargin\":true,\"gridcolor\":\"white\",\"linecolor\":\"white\",\"ticks\":\"\",\"title\":{\"standoff\":15},\"zerolinecolor\":\"white\",\"zerolinewidth\":2}}},\"title\":{\"text\":\"Visualizing Clusters in One Dimension Using PCA\"},\"xaxis\":{\"ticklen\":5,\"title\":{\"text\":\"PC1\"},\"zeroline\":false},\"yaxis\":{\"ticklen\":5,\"title\":{\"text\":\"\"},\"zeroline\":false}},                        {\"responsive\": true}                    ).then(function(){\n",
       "                            \n",
       "var gd = document.getElementById('c2934fe1-8144-4e6d-be79-0ace2bd2fda0');\n",
       "var x = new MutationObserver(function (mutations, observer) {{\n",
       "        var display = window.getComputedStyle(gd).display;\n",
       "        if (!display || display === 'none') {{\n",
       "            console.log([gd, 'removed!']);\n",
       "            Plotly.purge(gd);\n",
       "            observer.disconnect();\n",
       "        }}\n",
       "}});\n",
       "\n",
       "// Listen for the removal of the full notebook cells\n",
       "var notebookContainer = gd.closest('#notebook-container');\n",
       "if (notebookContainer) {{\n",
       "    x.observe(notebookContainer, {childList: true});\n",
       "}}\n",
       "\n",
       "// Listen for the clearing of the current output cell\n",
       "var outputEl = gd.closest('.output');\n",
       "if (outputEl) {{\n",
       "    x.observe(outputEl, {childList: true});\n",
       "}}\n",
       "\n",
       "                        })                };                });            </script>        </div>"
      ]
     },
     "metadata": {},
     "output_type": "display_data"
    }
   ],
   "source": [
    "#Instructions for building the 1-D plot\n",
    "\n",
    "#trace1 is for 'Cluster 0'\n",
    "trace1 = go.Scatter(\n",
    "                    x = cluster0[\"PC1_1d\"],\n",
    "                    y = cluster0[\"dummy\"],\n",
    "                    mode = \"markers\",\n",
    "                    name = \"Cluster 0\",\n",
    "                    marker = dict(color = 'rgba(255, 128, 255, 0.8)'),\n",
    "                    text = None)\n",
    "\n",
    "#trace2 is for 'Cluster 1'\n",
    "trace2 = go.Scatter(\n",
    "                    x = cluster1[\"PC1_1d\"],\n",
    "                    y = cluster1[\"dummy\"],\n",
    "                    mode = \"markers\",\n",
    "                    name = \"Cluster 1\",\n",
    "                    marker = dict(color = 'rgba(255, 128, 2, 0.8)'),\n",
    "                    text = None)\n",
    "\n",
    "#trace3 is for 'Cluster 2'\n",
    "trace3 = go.Scatter(\n",
    "                    x = cluster2[\"PC1_1d\"],\n",
    "                    y = cluster2[\"dummy\"],\n",
    "                    mode = \"markers\",\n",
    "                    name = \"Cluster 2\",\n",
    "                    marker = dict(color = 'rgba(0, 255, 200, 0.8)'),\n",
    "                    text = None)\n",
    "\n",
    "data = [trace1, trace2, trace3]\n",
    "\n",
    "title = \"Visualizing Clusters in One Dimension Using PCA\"\n",
    "\n",
    "layout = dict(title = title,\n",
    "              xaxis= dict(title= 'PC1',ticklen= 5,zeroline= False),\n",
    "              yaxis= dict(title= '',ticklen= 5,zeroline= False)\n",
    "             )\n",
    "\n",
    "fig = dict(data = data, layout = layout)\n",
    "\n",
    "iplot(fig)"
   ]
  },
  {
   "cell_type": "code",
   "execution_count": 49,
   "id": "ecf2c46e",
   "metadata": {
    "execution": {
     "iopub.execute_input": "2021-11-15T23:06:55.579199Z",
     "iopub.status.busy": "2021-11-15T23:06:55.578532Z",
     "iopub.status.idle": "2021-11-15T23:06:55.617937Z",
     "shell.execute_reply": "2021-11-15T23:06:55.618463Z",
     "shell.execute_reply.started": "2021-11-10T21:30:56.383594Z"
    },
    "papermill": {
     "duration": 0.119761,
     "end_time": "2021-11-15T23:06:55.618645",
     "exception": false,
     "start_time": "2021-11-15T23:06:55.498884",
     "status": "completed"
    },
    "tags": []
   },
   "outputs": [
    {
     "data": {
      "application/vnd.plotly.v1+json": {
       "config": {
        "linkText": "Export to plot.ly",
        "plotlyServerURL": "https://plot.ly",
        "showLink": false
       },
       "data": [
        {
         "marker": {
          "color": "rgba(255, 128, 255, 0.8)"
         },
         "mode": "markers",
         "name": "Cluster 0",
         "type": "scatter",
         "x": [
          -1.7215078759417737,
          -1.9660879240817226,
          2.9810358725267365,
          0.4436028955740139,
          2.914004296686421,
          -1.8817580743677105,
          0.6901317508307817,
          -1.401937788879038,
          -2.4697693125294053,
          2.5406069483174467,
          0.5087225851550039,
          2.151245928646159,
          -2.551042827417376,
          -0.09676078122829943,
          -1.8423656681286673,
          -1.2289439795287616,
          1.4437587781431986,
          2.305966545198264,
          -1.5379047279368723,
          -2.0615195925829086,
          -1.444280306355133,
          2.50777228435503,
          -0.2843599342073603,
          1.2030644564089958,
          2.2136252674642596,
          1.7463277949818752,
          1.2509213703621753,
          0.541077453724461,
          -1.0723948749221388,
          -2.445937016171396,
          -0.15676136122082718,
          -0.367245411214789,
          -0.8940526292168892,
          -1.0350554514705403,
          -0.486204974682429,
          -1.3042902468385702,
          -1.0456775923989772,
          0.7560276440653724,
          -1.7596398151196309,
          -1.6582846324331677,
          -2.3086102930990133,
          0.6630871018418403,
          -0.3304153716025931,
          0.18414230979013754,
          -1.3542351881986485,
          3.7312512161072138,
          0.7727023209166908,
          1.5496613506354644
         ],
         "y": [
          -0.4795148920585794,
          -0.11847465886335364,
          2.0009927138339534,
          2.624257577832658,
          1.563542369415213,
          0.0933449315281312,
          -0.42886638386155346,
          0.8235156635190722,
          0.2591474558879738,
          3.292354082833532,
          -0.8978336199209153,
          -0.9829065340211097,
          0.2659683944018413,
          -1.1025675506160795,
          0.009271567985282838,
          -0.42229023877391697,
          -1.3679696499213483,
          -1.0178083530850666,
          -0.5196202086097835,
          0.46746973330517366,
          0.10662035989868417,
          -1.3865757059132624,
          -0.7247186141459017,
          2.477862123307353,
          -0.05559844996319459,
          -1.0643109985662924,
          -0.4100688428969345,
          -0.8390501660128853,
          0.6329157345581643,
          -0.13899801777603105,
          -1.2635935588863028,
          0.5817454020296128,
          0.04041763850830345,
          1.7536259273103572,
          -0.583151928392476,
          -0.3387442974271907,
          1.1399115071065515,
          -0.6720826706157507,
          1.4694253466761216,
          -0.0273352342989754,
          -0.02450225690697608,
          -0.018602680444916597,
          -0.5275099000156166,
          1.3387092935057048,
          -0.10608601558086554,
          2.411226586440155,
          0.03316776456442602,
          -1.257493034731183
         ]
        },
        {
         "marker": {
          "color": "rgba(255, 128, 2, 0.8)"
         },
         "mode": "markers",
         "name": "Cluster 1",
         "type": "scatter",
         "x": [
          1.8211562739620792,
          1.2026524924489381,
          -1.6850301300464636,
          -2.0833849129342643,
          3.3361007646483283,
          -1.2386006866715107,
          0.8630776641173011,
          -2.0621880012369997,
          -2.0508027133838187,
          0.6145704448272509,
          0.21209785808647283,
          -1.9263661051369816,
          2.8224105363703966,
          3.084721012600161,
          -0.7400765909975934,
          -0.5519000816884962,
          -0.5073894120820652,
          -0.7248576634660245,
          -0.6861088361656447,
          1.7224211798585531,
          2.0171744368059867,
          -3.5617492037875382,
          -0.5474238801477871,
          -2.07460509925337,
          -1.9109251472147661,
          0.12782902769656043,
          -1.944626316154589,
          -1.448854417225352,
          -1.831458438703867,
          -0.5487103608072436,
          -1.0675572593534355,
          1.2467033610884013,
          1.6302459678210959,
          0.7846726747072624,
          -2.060818607883418
         ],
         "y": [
          0.7948815824037466,
          -0.6815847600892465,
          -0.11300474502657103,
          0.2843366266443269,
          1.5375968572625762,
          0.9638575283936006,
          -0.4289054687462325,
          0.001980955642354175,
          0.4824674190507036,
          -0.678049480141435,
          -0.412039164374447,
          -0.2476345727199483,
          0.843123441214631,
          -0.1825540160725635,
          1.2604008781966543,
          -0.5860815505135134,
          1.5703319090583725,
          -0.5330027016216013,
          -0.561630856139153,
          -1.4727332504345696,
          -0.10154737847401309,
          3.0759196584843327,
          2.0653401741020536,
          -0.25354171712761936,
          0.12486499678025546,
          -0.12564600744218937,
          -0.4208033056351304,
          0.19149514979439436,
          -0.5228330848610327,
          0.5729370086029434,
          -0.03906816310395252,
          -0.9500837236596019,
          -1.2273407819739495,
          0.1303945381525778,
          -0.712775347785285
         ]
        },
        {
         "marker": {
          "color": "rgba(0, 255, 200, 0.8)"
         },
         "mode": "markers",
         "name": "Cluster 2",
         "type": "scatter",
         "x": [],
         "y": []
        }
       ],
       "layout": {
        "template": {
         "data": {
          "bar": [
           {
            "error_x": {
             "color": "#2a3f5f"
            },
            "error_y": {
             "color": "#2a3f5f"
            },
            "marker": {
             "line": {
              "color": "#E5ECF6",
              "width": 0.5
             },
             "pattern": {
              "fillmode": "overlay",
              "size": 10,
              "solidity": 0.2
             }
            },
            "type": "bar"
           }
          ],
          "barpolar": [
           {
            "marker": {
             "line": {
              "color": "#E5ECF6",
              "width": 0.5
             },
             "pattern": {
              "fillmode": "overlay",
              "size": 10,
              "solidity": 0.2
             }
            },
            "type": "barpolar"
           }
          ],
          "carpet": [
           {
            "aaxis": {
             "endlinecolor": "#2a3f5f",
             "gridcolor": "white",
             "linecolor": "white",
             "minorgridcolor": "white",
             "startlinecolor": "#2a3f5f"
            },
            "baxis": {
             "endlinecolor": "#2a3f5f",
             "gridcolor": "white",
             "linecolor": "white",
             "minorgridcolor": "white",
             "startlinecolor": "#2a3f5f"
            },
            "type": "carpet"
           }
          ],
          "choropleth": [
           {
            "colorbar": {
             "outlinewidth": 0,
             "ticks": ""
            },
            "type": "choropleth"
           }
          ],
          "contour": [
           {
            "colorbar": {
             "outlinewidth": 0,
             "ticks": ""
            },
            "colorscale": [
             [
              0.0,
              "#0d0887"
             ],
             [
              0.1111111111111111,
              "#46039f"
             ],
             [
              0.2222222222222222,
              "#7201a8"
             ],
             [
              0.3333333333333333,
              "#9c179e"
             ],
             [
              0.4444444444444444,
              "#bd3786"
             ],
             [
              0.5555555555555556,
              "#d8576b"
             ],
             [
              0.6666666666666666,
              "#ed7953"
             ],
             [
              0.7777777777777778,
              "#fb9f3a"
             ],
             [
              0.8888888888888888,
              "#fdca26"
             ],
             [
              1.0,
              "#f0f921"
             ]
            ],
            "type": "contour"
           }
          ],
          "contourcarpet": [
           {
            "colorbar": {
             "outlinewidth": 0,
             "ticks": ""
            },
            "type": "contourcarpet"
           }
          ],
          "heatmap": [
           {
            "colorbar": {
             "outlinewidth": 0,
             "ticks": ""
            },
            "colorscale": [
             [
              0.0,
              "#0d0887"
             ],
             [
              0.1111111111111111,
              "#46039f"
             ],
             [
              0.2222222222222222,
              "#7201a8"
             ],
             [
              0.3333333333333333,
              "#9c179e"
             ],
             [
              0.4444444444444444,
              "#bd3786"
             ],
             [
              0.5555555555555556,
              "#d8576b"
             ],
             [
              0.6666666666666666,
              "#ed7953"
             ],
             [
              0.7777777777777778,
              "#fb9f3a"
             ],
             [
              0.8888888888888888,
              "#fdca26"
             ],
             [
              1.0,
              "#f0f921"
             ]
            ],
            "type": "heatmap"
           }
          ],
          "heatmapgl": [
           {
            "colorbar": {
             "outlinewidth": 0,
             "ticks": ""
            },
            "colorscale": [
             [
              0.0,
              "#0d0887"
             ],
             [
              0.1111111111111111,
              "#46039f"
             ],
             [
              0.2222222222222222,
              "#7201a8"
             ],
             [
              0.3333333333333333,
              "#9c179e"
             ],
             [
              0.4444444444444444,
              "#bd3786"
             ],
             [
              0.5555555555555556,
              "#d8576b"
             ],
             [
              0.6666666666666666,
              "#ed7953"
             ],
             [
              0.7777777777777778,
              "#fb9f3a"
             ],
             [
              0.8888888888888888,
              "#fdca26"
             ],
             [
              1.0,
              "#f0f921"
             ]
            ],
            "type": "heatmapgl"
           }
          ],
          "histogram": [
           {
            "marker": {
             "pattern": {
              "fillmode": "overlay",
              "size": 10,
              "solidity": 0.2
             }
            },
            "type": "histogram"
           }
          ],
          "histogram2d": [
           {
            "colorbar": {
             "outlinewidth": 0,
             "ticks": ""
            },
            "colorscale": [
             [
              0.0,
              "#0d0887"
             ],
             [
              0.1111111111111111,
              "#46039f"
             ],
             [
              0.2222222222222222,
              "#7201a8"
             ],
             [
              0.3333333333333333,
              "#9c179e"
             ],
             [
              0.4444444444444444,
              "#bd3786"
             ],
             [
              0.5555555555555556,
              "#d8576b"
             ],
             [
              0.6666666666666666,
              "#ed7953"
             ],
             [
              0.7777777777777778,
              "#fb9f3a"
             ],
             [
              0.8888888888888888,
              "#fdca26"
             ],
             [
              1.0,
              "#f0f921"
             ]
            ],
            "type": "histogram2d"
           }
          ],
          "histogram2dcontour": [
           {
            "colorbar": {
             "outlinewidth": 0,
             "ticks": ""
            },
            "colorscale": [
             [
              0.0,
              "#0d0887"
             ],
             [
              0.1111111111111111,
              "#46039f"
             ],
             [
              0.2222222222222222,
              "#7201a8"
             ],
             [
              0.3333333333333333,
              "#9c179e"
             ],
             [
              0.4444444444444444,
              "#bd3786"
             ],
             [
              0.5555555555555556,
              "#d8576b"
             ],
             [
              0.6666666666666666,
              "#ed7953"
             ],
             [
              0.7777777777777778,
              "#fb9f3a"
             ],
             [
              0.8888888888888888,
              "#fdca26"
             ],
             [
              1.0,
              "#f0f921"
             ]
            ],
            "type": "histogram2dcontour"
           }
          ],
          "mesh3d": [
           {
            "colorbar": {
             "outlinewidth": 0,
             "ticks": ""
            },
            "type": "mesh3d"
           }
          ],
          "parcoords": [
           {
            "line": {
             "colorbar": {
              "outlinewidth": 0,
              "ticks": ""
             }
            },
            "type": "parcoords"
           }
          ],
          "pie": [
           {
            "automargin": true,
            "type": "pie"
           }
          ],
          "scatter": [
           {
            "marker": {
             "colorbar": {
              "outlinewidth": 0,
              "ticks": ""
             }
            },
            "type": "scatter"
           }
          ],
          "scatter3d": [
           {
            "line": {
             "colorbar": {
              "outlinewidth": 0,
              "ticks": ""
             }
            },
            "marker": {
             "colorbar": {
              "outlinewidth": 0,
              "ticks": ""
             }
            },
            "type": "scatter3d"
           }
          ],
          "scattercarpet": [
           {
            "marker": {
             "colorbar": {
              "outlinewidth": 0,
              "ticks": ""
             }
            },
            "type": "scattercarpet"
           }
          ],
          "scattergeo": [
           {
            "marker": {
             "colorbar": {
              "outlinewidth": 0,
              "ticks": ""
             }
            },
            "type": "scattergeo"
           }
          ],
          "scattergl": [
           {
            "marker": {
             "colorbar": {
              "outlinewidth": 0,
              "ticks": ""
             }
            },
            "type": "scattergl"
           }
          ],
          "scattermapbox": [
           {
            "marker": {
             "colorbar": {
              "outlinewidth": 0,
              "ticks": ""
             }
            },
            "type": "scattermapbox"
           }
          ],
          "scatterpolar": [
           {
            "marker": {
             "colorbar": {
              "outlinewidth": 0,
              "ticks": ""
             }
            },
            "type": "scatterpolar"
           }
          ],
          "scatterpolargl": [
           {
            "marker": {
             "colorbar": {
              "outlinewidth": 0,
              "ticks": ""
             }
            },
            "type": "scatterpolargl"
           }
          ],
          "scatterternary": [
           {
            "marker": {
             "colorbar": {
              "outlinewidth": 0,
              "ticks": ""
             }
            },
            "type": "scatterternary"
           }
          ],
          "surface": [
           {
            "colorbar": {
             "outlinewidth": 0,
             "ticks": ""
            },
            "colorscale": [
             [
              0.0,
              "#0d0887"
             ],
             [
              0.1111111111111111,
              "#46039f"
             ],
             [
              0.2222222222222222,
              "#7201a8"
             ],
             [
              0.3333333333333333,
              "#9c179e"
             ],
             [
              0.4444444444444444,
              "#bd3786"
             ],
             [
              0.5555555555555556,
              "#d8576b"
             ],
             [
              0.6666666666666666,
              "#ed7953"
             ],
             [
              0.7777777777777778,
              "#fb9f3a"
             ],
             [
              0.8888888888888888,
              "#fdca26"
             ],
             [
              1.0,
              "#f0f921"
             ]
            ],
            "type": "surface"
           }
          ],
          "table": [
           {
            "cells": {
             "fill": {
              "color": "#EBF0F8"
             },
             "line": {
              "color": "white"
             }
            },
            "header": {
             "fill": {
              "color": "#C8D4E3"
             },
             "line": {
              "color": "white"
             }
            },
            "type": "table"
           }
          ]
         },
         "layout": {
          "annotationdefaults": {
           "arrowcolor": "#2a3f5f",
           "arrowhead": 0,
           "arrowwidth": 1
          },
          "autotypenumbers": "strict",
          "coloraxis": {
           "colorbar": {
            "outlinewidth": 0,
            "ticks": ""
           }
          },
          "colorscale": {
           "diverging": [
            [
             0,
             "#8e0152"
            ],
            [
             0.1,
             "#c51b7d"
            ],
            [
             0.2,
             "#de77ae"
            ],
            [
             0.3,
             "#f1b6da"
            ],
            [
             0.4,
             "#fde0ef"
            ],
            [
             0.5,
             "#f7f7f7"
            ],
            [
             0.6,
             "#e6f5d0"
            ],
            [
             0.7,
             "#b8e186"
            ],
            [
             0.8,
             "#7fbc41"
            ],
            [
             0.9,
             "#4d9221"
            ],
            [
             1,
             "#276419"
            ]
           ],
           "sequential": [
            [
             0.0,
             "#0d0887"
            ],
            [
             0.1111111111111111,
             "#46039f"
            ],
            [
             0.2222222222222222,
             "#7201a8"
            ],
            [
             0.3333333333333333,
             "#9c179e"
            ],
            [
             0.4444444444444444,
             "#bd3786"
            ],
            [
             0.5555555555555556,
             "#d8576b"
            ],
            [
             0.6666666666666666,
             "#ed7953"
            ],
            [
             0.7777777777777778,
             "#fb9f3a"
            ],
            [
             0.8888888888888888,
             "#fdca26"
            ],
            [
             1.0,
             "#f0f921"
            ]
           ],
           "sequentialminus": [
            [
             0.0,
             "#0d0887"
            ],
            [
             0.1111111111111111,
             "#46039f"
            ],
            [
             0.2222222222222222,
             "#7201a8"
            ],
            [
             0.3333333333333333,
             "#9c179e"
            ],
            [
             0.4444444444444444,
             "#bd3786"
            ],
            [
             0.5555555555555556,
             "#d8576b"
            ],
            [
             0.6666666666666666,
             "#ed7953"
            ],
            [
             0.7777777777777778,
             "#fb9f3a"
            ],
            [
             0.8888888888888888,
             "#fdca26"
            ],
            [
             1.0,
             "#f0f921"
            ]
           ]
          },
          "colorway": [
           "#636efa",
           "#EF553B",
           "#00cc96",
           "#ab63fa",
           "#FFA15A",
           "#19d3f3",
           "#FF6692",
           "#B6E880",
           "#FF97FF",
           "#FECB52"
          ],
          "font": {
           "color": "#2a3f5f"
          },
          "geo": {
           "bgcolor": "white",
           "lakecolor": "white",
           "landcolor": "#E5ECF6",
           "showlakes": true,
           "showland": true,
           "subunitcolor": "white"
          },
          "hoverlabel": {
           "align": "left"
          },
          "hovermode": "closest",
          "mapbox": {
           "style": "light"
          },
          "paper_bgcolor": "white",
          "plot_bgcolor": "#E5ECF6",
          "polar": {
           "angularaxis": {
            "gridcolor": "white",
            "linecolor": "white",
            "ticks": ""
           },
           "bgcolor": "#E5ECF6",
           "radialaxis": {
            "gridcolor": "white",
            "linecolor": "white",
            "ticks": ""
           }
          },
          "scene": {
           "xaxis": {
            "backgroundcolor": "#E5ECF6",
            "gridcolor": "white",
            "gridwidth": 2,
            "linecolor": "white",
            "showbackground": true,
            "ticks": "",
            "zerolinecolor": "white"
           },
           "yaxis": {
            "backgroundcolor": "#E5ECF6",
            "gridcolor": "white",
            "gridwidth": 2,
            "linecolor": "white",
            "showbackground": true,
            "ticks": "",
            "zerolinecolor": "white"
           },
           "zaxis": {
            "backgroundcolor": "#E5ECF6",
            "gridcolor": "white",
            "gridwidth": 2,
            "linecolor": "white",
            "showbackground": true,
            "ticks": "",
            "zerolinecolor": "white"
           }
          },
          "shapedefaults": {
           "line": {
            "color": "#2a3f5f"
           }
          },
          "ternary": {
           "aaxis": {
            "gridcolor": "white",
            "linecolor": "white",
            "ticks": ""
           },
           "baxis": {
            "gridcolor": "white",
            "linecolor": "white",
            "ticks": ""
           },
           "bgcolor": "#E5ECF6",
           "caxis": {
            "gridcolor": "white",
            "linecolor": "white",
            "ticks": ""
           }
          },
          "title": {
           "x": 0.05
          },
          "xaxis": {
           "automargin": true,
           "gridcolor": "white",
           "linecolor": "white",
           "ticks": "",
           "title": {
            "standoff": 15
           },
           "zerolinecolor": "white",
           "zerolinewidth": 2
          },
          "yaxis": {
           "automargin": true,
           "gridcolor": "white",
           "linecolor": "white",
           "ticks": "",
           "title": {
            "standoff": 15
           },
           "zerolinecolor": "white",
           "zerolinewidth": 2
          }
         }
        },
        "title": {
         "text": "Visualizing Clusters in Two Dimensions Using PCA"
        },
        "xaxis": {
         "ticklen": 5,
         "title": {
          "text": "PC1"
         },
         "zeroline": false
        },
        "yaxis": {
         "ticklen": 5,
         "title": {
          "text": "PC2"
         },
         "zeroline": false
        }
       }
      },
      "text/html": [
       "<div>                            <div id=\"9413f0ff-a3f0-41ef-8ebd-d4db6582c92e\" class=\"plotly-graph-div\" style=\"height:525px; width:100%;\"></div>            <script type=\"text/javascript\">                require([\"plotly\"], function(Plotly) {                    window.PLOTLYENV=window.PLOTLYENV || {};                                    if (document.getElementById(\"9413f0ff-a3f0-41ef-8ebd-d4db6582c92e\")) {                    Plotly.newPlot(                        \"9413f0ff-a3f0-41ef-8ebd-d4db6582c92e\",                        [{\"marker\":{\"color\":\"rgba(255, 128, 255, 0.8)\"},\"mode\":\"markers\",\"name\":\"Cluster 0\",\"type\":\"scatter\",\"x\":[-1.7215078759417737,-1.9660879240817226,2.9810358725267365,0.4436028955740139,2.914004296686421,-1.8817580743677105,0.6901317508307817,-1.401937788879038,-2.4697693125294053,2.5406069483174467,0.5087225851550039,2.151245928646159,-2.551042827417376,-0.09676078122829943,-1.8423656681286673,-1.2289439795287616,1.4437587781431986,2.305966545198264,-1.5379047279368723,-2.0615195925829086,-1.444280306355133,2.50777228435503,-0.2843599342073603,1.2030644564089958,2.2136252674642596,1.7463277949818752,1.2509213703621753,0.541077453724461,-1.0723948749221388,-2.445937016171396,-0.15676136122082718,-0.367245411214789,-0.8940526292168892,-1.0350554514705403,-0.486204974682429,-1.3042902468385702,-1.0456775923989772,0.7560276440653724,-1.7596398151196309,-1.6582846324331677,-2.3086102930990133,0.6630871018418403,-0.3304153716025931,0.18414230979013754,-1.3542351881986485,3.7312512161072138,0.7727023209166908,1.5496613506354644],\"y\":[-0.4795148920585794,-0.11847465886335364,2.0009927138339534,2.624257577832658,1.563542369415213,0.0933449315281312,-0.42886638386155346,0.8235156635190722,0.2591474558879738,3.292354082833532,-0.8978336199209153,-0.9829065340211097,0.2659683944018413,-1.1025675506160795,0.009271567985282838,-0.42229023877391697,-1.3679696499213483,-1.0178083530850666,-0.5196202086097835,0.46746973330517366,0.10662035989868417,-1.3865757059132624,-0.7247186141459017,2.477862123307353,-0.05559844996319459,-1.0643109985662924,-0.4100688428969345,-0.8390501660128853,0.6329157345581643,-0.13899801777603105,-1.2635935588863028,0.5817454020296128,0.04041763850830345,1.7536259273103572,-0.583151928392476,-0.3387442974271907,1.1399115071065515,-0.6720826706157507,1.4694253466761216,-0.0273352342989754,-0.02450225690697608,-0.018602680444916597,-0.5275099000156166,1.3387092935057048,-0.10608601558086554,2.411226586440155,0.03316776456442602,-1.257493034731183]},{\"marker\":{\"color\":\"rgba(255, 128, 2, 0.8)\"},\"mode\":\"markers\",\"name\":\"Cluster 1\",\"type\":\"scatter\",\"x\":[1.8211562739620792,1.2026524924489381,-1.6850301300464636,-2.0833849129342643,3.3361007646483283,-1.2386006866715107,0.8630776641173011,-2.0621880012369997,-2.0508027133838187,0.6145704448272509,0.21209785808647283,-1.9263661051369816,2.8224105363703966,3.084721012600161,-0.7400765909975934,-0.5519000816884962,-0.5073894120820652,-0.7248576634660245,-0.6861088361656447,1.7224211798585531,2.0171744368059867,-3.5617492037875382,-0.5474238801477871,-2.07460509925337,-1.9109251472147661,0.12782902769656043,-1.944626316154589,-1.448854417225352,-1.831458438703867,-0.5487103608072436,-1.0675572593534355,1.2467033610884013,1.6302459678210959,0.7846726747072624,-2.060818607883418],\"y\":[0.7948815824037466,-0.6815847600892465,-0.11300474502657103,0.2843366266443269,1.5375968572625762,0.9638575283936006,-0.4289054687462325,0.001980955642354175,0.4824674190507036,-0.678049480141435,-0.412039164374447,-0.2476345727199483,0.843123441214631,-0.1825540160725635,1.2604008781966543,-0.5860815505135134,1.5703319090583725,-0.5330027016216013,-0.561630856139153,-1.4727332504345696,-0.10154737847401309,3.0759196584843327,2.0653401741020536,-0.25354171712761936,0.12486499678025546,-0.12564600744218937,-0.4208033056351304,0.19149514979439436,-0.5228330848610327,0.5729370086029434,-0.03906816310395252,-0.9500837236596019,-1.2273407819739495,0.1303945381525778,-0.712775347785285]},{\"marker\":{\"color\":\"rgba(0, 255, 200, 0.8)\"},\"mode\":\"markers\",\"name\":\"Cluster 2\",\"type\":\"scatter\",\"x\":[],\"y\":[]}],                        {\"template\":{\"data\":{\"bar\":[{\"error_x\":{\"color\":\"#2a3f5f\"},\"error_y\":{\"color\":\"#2a3f5f\"},\"marker\":{\"line\":{\"color\":\"#E5ECF6\",\"width\":0.5},\"pattern\":{\"fillmode\":\"overlay\",\"size\":10,\"solidity\":0.2}},\"type\":\"bar\"}],\"barpolar\":[{\"marker\":{\"line\":{\"color\":\"#E5ECF6\",\"width\":0.5},\"pattern\":{\"fillmode\":\"overlay\",\"size\":10,\"solidity\":0.2}},\"type\":\"barpolar\"}],\"carpet\":[{\"aaxis\":{\"endlinecolor\":\"#2a3f5f\",\"gridcolor\":\"white\",\"linecolor\":\"white\",\"minorgridcolor\":\"white\",\"startlinecolor\":\"#2a3f5f\"},\"baxis\":{\"endlinecolor\":\"#2a3f5f\",\"gridcolor\":\"white\",\"linecolor\":\"white\",\"minorgridcolor\":\"white\",\"startlinecolor\":\"#2a3f5f\"},\"type\":\"carpet\"}],\"choropleth\":[{\"colorbar\":{\"outlinewidth\":0,\"ticks\":\"\"},\"type\":\"choropleth\"}],\"contour\":[{\"colorbar\":{\"outlinewidth\":0,\"ticks\":\"\"},\"colorscale\":[[0.0,\"#0d0887\"],[0.1111111111111111,\"#46039f\"],[0.2222222222222222,\"#7201a8\"],[0.3333333333333333,\"#9c179e\"],[0.4444444444444444,\"#bd3786\"],[0.5555555555555556,\"#d8576b\"],[0.6666666666666666,\"#ed7953\"],[0.7777777777777778,\"#fb9f3a\"],[0.8888888888888888,\"#fdca26\"],[1.0,\"#f0f921\"]],\"type\":\"contour\"}],\"contourcarpet\":[{\"colorbar\":{\"outlinewidth\":0,\"ticks\":\"\"},\"type\":\"contourcarpet\"}],\"heatmap\":[{\"colorbar\":{\"outlinewidth\":0,\"ticks\":\"\"},\"colorscale\":[[0.0,\"#0d0887\"],[0.1111111111111111,\"#46039f\"],[0.2222222222222222,\"#7201a8\"],[0.3333333333333333,\"#9c179e\"],[0.4444444444444444,\"#bd3786\"],[0.5555555555555556,\"#d8576b\"],[0.6666666666666666,\"#ed7953\"],[0.7777777777777778,\"#fb9f3a\"],[0.8888888888888888,\"#fdca26\"],[1.0,\"#f0f921\"]],\"type\":\"heatmap\"}],\"heatmapgl\":[{\"colorbar\":{\"outlinewidth\":0,\"ticks\":\"\"},\"colorscale\":[[0.0,\"#0d0887\"],[0.1111111111111111,\"#46039f\"],[0.2222222222222222,\"#7201a8\"],[0.3333333333333333,\"#9c179e\"],[0.4444444444444444,\"#bd3786\"],[0.5555555555555556,\"#d8576b\"],[0.6666666666666666,\"#ed7953\"],[0.7777777777777778,\"#fb9f3a\"],[0.8888888888888888,\"#fdca26\"],[1.0,\"#f0f921\"]],\"type\":\"heatmapgl\"}],\"histogram\":[{\"marker\":{\"pattern\":{\"fillmode\":\"overlay\",\"size\":10,\"solidity\":0.2}},\"type\":\"histogram\"}],\"histogram2d\":[{\"colorbar\":{\"outlinewidth\":0,\"ticks\":\"\"},\"colorscale\":[[0.0,\"#0d0887\"],[0.1111111111111111,\"#46039f\"],[0.2222222222222222,\"#7201a8\"],[0.3333333333333333,\"#9c179e\"],[0.4444444444444444,\"#bd3786\"],[0.5555555555555556,\"#d8576b\"],[0.6666666666666666,\"#ed7953\"],[0.7777777777777778,\"#fb9f3a\"],[0.8888888888888888,\"#fdca26\"],[1.0,\"#f0f921\"]],\"type\":\"histogram2d\"}],\"histogram2dcontour\":[{\"colorbar\":{\"outlinewidth\":0,\"ticks\":\"\"},\"colorscale\":[[0.0,\"#0d0887\"],[0.1111111111111111,\"#46039f\"],[0.2222222222222222,\"#7201a8\"],[0.3333333333333333,\"#9c179e\"],[0.4444444444444444,\"#bd3786\"],[0.5555555555555556,\"#d8576b\"],[0.6666666666666666,\"#ed7953\"],[0.7777777777777778,\"#fb9f3a\"],[0.8888888888888888,\"#fdca26\"],[1.0,\"#f0f921\"]],\"type\":\"histogram2dcontour\"}],\"mesh3d\":[{\"colorbar\":{\"outlinewidth\":0,\"ticks\":\"\"},\"type\":\"mesh3d\"}],\"parcoords\":[{\"line\":{\"colorbar\":{\"outlinewidth\":0,\"ticks\":\"\"}},\"type\":\"parcoords\"}],\"pie\":[{\"automargin\":true,\"type\":\"pie\"}],\"scatter\":[{\"marker\":{\"colorbar\":{\"outlinewidth\":0,\"ticks\":\"\"}},\"type\":\"scatter\"}],\"scatter3d\":[{\"line\":{\"colorbar\":{\"outlinewidth\":0,\"ticks\":\"\"}},\"marker\":{\"colorbar\":{\"outlinewidth\":0,\"ticks\":\"\"}},\"type\":\"scatter3d\"}],\"scattercarpet\":[{\"marker\":{\"colorbar\":{\"outlinewidth\":0,\"ticks\":\"\"}},\"type\":\"scattercarpet\"}],\"scattergeo\":[{\"marker\":{\"colorbar\":{\"outlinewidth\":0,\"ticks\":\"\"}},\"type\":\"scattergeo\"}],\"scattergl\":[{\"marker\":{\"colorbar\":{\"outlinewidth\":0,\"ticks\":\"\"}},\"type\":\"scattergl\"}],\"scattermapbox\":[{\"marker\":{\"colorbar\":{\"outlinewidth\":0,\"ticks\":\"\"}},\"type\":\"scattermapbox\"}],\"scatterpolar\":[{\"marker\":{\"colorbar\":{\"outlinewidth\":0,\"ticks\":\"\"}},\"type\":\"scatterpolar\"}],\"scatterpolargl\":[{\"marker\":{\"colorbar\":{\"outlinewidth\":0,\"ticks\":\"\"}},\"type\":\"scatterpolargl\"}],\"scatterternary\":[{\"marker\":{\"colorbar\":{\"outlinewidth\":0,\"ticks\":\"\"}},\"type\":\"scatterternary\"}],\"surface\":[{\"colorbar\":{\"outlinewidth\":0,\"ticks\":\"\"},\"colorscale\":[[0.0,\"#0d0887\"],[0.1111111111111111,\"#46039f\"],[0.2222222222222222,\"#7201a8\"],[0.3333333333333333,\"#9c179e\"],[0.4444444444444444,\"#bd3786\"],[0.5555555555555556,\"#d8576b\"],[0.6666666666666666,\"#ed7953\"],[0.7777777777777778,\"#fb9f3a\"],[0.8888888888888888,\"#fdca26\"],[1.0,\"#f0f921\"]],\"type\":\"surface\"}],\"table\":[{\"cells\":{\"fill\":{\"color\":\"#EBF0F8\"},\"line\":{\"color\":\"white\"}},\"header\":{\"fill\":{\"color\":\"#C8D4E3\"},\"line\":{\"color\":\"white\"}},\"type\":\"table\"}]},\"layout\":{\"annotationdefaults\":{\"arrowcolor\":\"#2a3f5f\",\"arrowhead\":0,\"arrowwidth\":1},\"autotypenumbers\":\"strict\",\"coloraxis\":{\"colorbar\":{\"outlinewidth\":0,\"ticks\":\"\"}},\"colorscale\":{\"diverging\":[[0,\"#8e0152\"],[0.1,\"#c51b7d\"],[0.2,\"#de77ae\"],[0.3,\"#f1b6da\"],[0.4,\"#fde0ef\"],[0.5,\"#f7f7f7\"],[0.6,\"#e6f5d0\"],[0.7,\"#b8e186\"],[0.8,\"#7fbc41\"],[0.9,\"#4d9221\"],[1,\"#276419\"]],\"sequential\":[[0.0,\"#0d0887\"],[0.1111111111111111,\"#46039f\"],[0.2222222222222222,\"#7201a8\"],[0.3333333333333333,\"#9c179e\"],[0.4444444444444444,\"#bd3786\"],[0.5555555555555556,\"#d8576b\"],[0.6666666666666666,\"#ed7953\"],[0.7777777777777778,\"#fb9f3a\"],[0.8888888888888888,\"#fdca26\"],[1.0,\"#f0f921\"]],\"sequentialminus\":[[0.0,\"#0d0887\"],[0.1111111111111111,\"#46039f\"],[0.2222222222222222,\"#7201a8\"],[0.3333333333333333,\"#9c179e\"],[0.4444444444444444,\"#bd3786\"],[0.5555555555555556,\"#d8576b\"],[0.6666666666666666,\"#ed7953\"],[0.7777777777777778,\"#fb9f3a\"],[0.8888888888888888,\"#fdca26\"],[1.0,\"#f0f921\"]]},\"colorway\":[\"#636efa\",\"#EF553B\",\"#00cc96\",\"#ab63fa\",\"#FFA15A\",\"#19d3f3\",\"#FF6692\",\"#B6E880\",\"#FF97FF\",\"#FECB52\"],\"font\":{\"color\":\"#2a3f5f\"},\"geo\":{\"bgcolor\":\"white\",\"lakecolor\":\"white\",\"landcolor\":\"#E5ECF6\",\"showlakes\":true,\"showland\":true,\"subunitcolor\":\"white\"},\"hoverlabel\":{\"align\":\"left\"},\"hovermode\":\"closest\",\"mapbox\":{\"style\":\"light\"},\"paper_bgcolor\":\"white\",\"plot_bgcolor\":\"#E5ECF6\",\"polar\":{\"angularaxis\":{\"gridcolor\":\"white\",\"linecolor\":\"white\",\"ticks\":\"\"},\"bgcolor\":\"#E5ECF6\",\"radialaxis\":{\"gridcolor\":\"white\",\"linecolor\":\"white\",\"ticks\":\"\"}},\"scene\":{\"xaxis\":{\"backgroundcolor\":\"#E5ECF6\",\"gridcolor\":\"white\",\"gridwidth\":2,\"linecolor\":\"white\",\"showbackground\":true,\"ticks\":\"\",\"zerolinecolor\":\"white\"},\"yaxis\":{\"backgroundcolor\":\"#E5ECF6\",\"gridcolor\":\"white\",\"gridwidth\":2,\"linecolor\":\"white\",\"showbackground\":true,\"ticks\":\"\",\"zerolinecolor\":\"white\"},\"zaxis\":{\"backgroundcolor\":\"#E5ECF6\",\"gridcolor\":\"white\",\"gridwidth\":2,\"linecolor\":\"white\",\"showbackground\":true,\"ticks\":\"\",\"zerolinecolor\":\"white\"}},\"shapedefaults\":{\"line\":{\"color\":\"#2a3f5f\"}},\"ternary\":{\"aaxis\":{\"gridcolor\":\"white\",\"linecolor\":\"white\",\"ticks\":\"\"},\"baxis\":{\"gridcolor\":\"white\",\"linecolor\":\"white\",\"ticks\":\"\"},\"bgcolor\":\"#E5ECF6\",\"caxis\":{\"gridcolor\":\"white\",\"linecolor\":\"white\",\"ticks\":\"\"}},\"title\":{\"x\":0.05},\"xaxis\":{\"automargin\":true,\"gridcolor\":\"white\",\"linecolor\":\"white\",\"ticks\":\"\",\"title\":{\"standoff\":15},\"zerolinecolor\":\"white\",\"zerolinewidth\":2},\"yaxis\":{\"automargin\":true,\"gridcolor\":\"white\",\"linecolor\":\"white\",\"ticks\":\"\",\"title\":{\"standoff\":15},\"zerolinecolor\":\"white\",\"zerolinewidth\":2}}},\"title\":{\"text\":\"Visualizing Clusters in Two Dimensions Using PCA\"},\"xaxis\":{\"ticklen\":5,\"title\":{\"text\":\"PC1\"},\"zeroline\":false},\"yaxis\":{\"ticklen\":5,\"title\":{\"text\":\"PC2\"},\"zeroline\":false}},                        {\"responsive\": true}                    ).then(function(){\n",
       "                            \n",
       "var gd = document.getElementById('9413f0ff-a3f0-41ef-8ebd-d4db6582c92e');\n",
       "var x = new MutationObserver(function (mutations, observer) {{\n",
       "        var display = window.getComputedStyle(gd).display;\n",
       "        if (!display || display === 'none') {{\n",
       "            console.log([gd, 'removed!']);\n",
       "            Plotly.purge(gd);\n",
       "            observer.disconnect();\n",
       "        }}\n",
       "}});\n",
       "\n",
       "// Listen for the removal of the full notebook cells\n",
       "var notebookContainer = gd.closest('#notebook-container');\n",
       "if (notebookContainer) {{\n",
       "    x.observe(notebookContainer, {childList: true});\n",
       "}}\n",
       "\n",
       "// Listen for the clearing of the current output cell\n",
       "var outputEl = gd.closest('.output');\n",
       "if (outputEl) {{\n",
       "    x.observe(outputEl, {childList: true});\n",
       "}}\n",
       "\n",
       "                        })                };                });            </script>        </div>"
      ]
     },
     "metadata": {},
     "output_type": "display_data"
    }
   ],
   "source": [
    "#Instructions for building the 2-D plot\n",
    "\n",
    "#trace1 is for 'Cluster 0'\n",
    "trace1 = go.Scatter(\n",
    "                    x = cluster0[\"PC1_2d\"],\n",
    "                    y = cluster0[\"PC2_2d\"],\n",
    "                    mode = \"markers\",\n",
    "                    name = \"Cluster 0\",\n",
    "                    marker = dict(color = 'rgba(255, 128, 255, 0.8)'),\n",
    "                    text = None)\n",
    "\n",
    "#trace2 is for 'Cluster 1'\n",
    "trace2 = go.Scatter(\n",
    "                    x = cluster1[\"PC1_2d\"],\n",
    "                    y = cluster1[\"PC2_2d\"],\n",
    "                    mode = \"markers\",\n",
    "                    name = \"Cluster 1\",\n",
    "                    marker = dict(color = 'rgba(255, 128, 2, 0.8)'),\n",
    "                    text = None)\n",
    "\n",
    "#trace3 is for 'Cluster 2'\n",
    "trace3 = go.Scatter(\n",
    "                    x = cluster2[\"PC1_2d\"],\n",
    "                    y = cluster2[\"PC2_2d\"],\n",
    "                    mode = \"markers\",\n",
    "                    name = \"Cluster 2\",\n",
    "                    marker = dict(color = 'rgba(0, 255, 200, 0.8)'),\n",
    "                    text = None)\n",
    "\n",
    "data = [trace1, trace2, trace3]\n",
    "\n",
    "title = \"Visualizing Clusters in Two Dimensions Using PCA\"\n",
    "\n",
    "layout = dict(title = title,\n",
    "              xaxis= dict(title= 'PC1',ticklen= 5,zeroline= False),\n",
    "              yaxis= dict(title= 'PC2',ticklen= 5,zeroline= False)\n",
    "             )\n",
    "\n",
    "fig = dict(data = data, layout = layout)\n",
    "\n",
    "iplot(fig)"
   ]
  },
  {
   "cell_type": "code",
   "execution_count": 50,
   "id": "51545962",
   "metadata": {
    "execution": {
     "iopub.execute_input": "2021-11-15T23:06:55.793379Z",
     "iopub.status.busy": "2021-11-15T23:06:55.792751Z",
     "iopub.status.idle": "2021-11-15T23:06:55.841052Z",
     "shell.execute_reply": "2021-11-15T23:06:55.841567Z",
     "shell.execute_reply.started": "2021-11-10T21:30:56.450833Z"
    },
    "papermill": {
     "duration": 0.1372,
     "end_time": "2021-11-15T23:06:55.841746",
     "exception": false,
     "start_time": "2021-11-15T23:06:55.704546",
     "status": "completed"
    },
    "tags": []
   },
   "outputs": [
    {
     "data": {
      "application/vnd.plotly.v1+json": {
       "config": {
        "linkText": "Export to plot.ly",
        "plotlyServerURL": "https://plot.ly",
        "showLink": false
       },
       "data": [
        {
         "marker": {
          "color": "rgba(255, 128, 255, 0.8)"
         },
         "mode": "markers",
         "name": "Cluster 0",
         "type": "scatter3d",
         "x": [
          -1.7215078759417737,
          -1.9660879240817226,
          2.9810358725267365,
          0.4436028955740139,
          2.914004296686421,
          -1.8817580743677105,
          0.6901317508307817,
          -1.401937788879038,
          -2.4697693125294053,
          2.5406069483174467,
          0.5087225851550039,
          2.151245928646159,
          -2.551042827417376,
          -0.09676078122829943,
          -1.8423656681286673,
          -1.2289439795287616,
          1.4437587781431986,
          2.305966545198264,
          -1.5379047279368723,
          -2.0615195925829086,
          -1.444280306355133,
          2.50777228435503,
          -0.2843599342073603,
          1.2030644564089958,
          2.2136252674642596,
          1.7463277949818752,
          1.2509213703621753,
          0.541077453724461,
          -1.0723948749221388,
          -2.445937016171396,
          -0.15676136122082718,
          -0.367245411214789,
          -0.8940526292168892,
          -1.0350554514705403,
          -0.486204974682429,
          -1.3042902468385702,
          -1.0456775923989772,
          0.7560276440653724,
          -1.7596398151196309,
          -1.6582846324331677,
          -2.3086102930990133,
          0.6630871018418403,
          -0.3304153716025931,
          0.18414230979013754,
          -1.3542351881986485,
          3.7312512161072138,
          0.7727023209166908,
          1.5496613506354644
         ],
         "y": [
          -0.4795148920585794,
          -0.11847465886335364,
          2.0009927138339534,
          2.624257577832658,
          1.563542369415213,
          0.0933449315281312,
          -0.42886638386155346,
          0.8235156635190722,
          0.2591474558879738,
          3.292354082833532,
          -0.8978336199209153,
          -0.9829065340211097,
          0.2659683944018413,
          -1.1025675506160795,
          0.009271567985282838,
          -0.42229023877391697,
          -1.3679696499213483,
          -1.0178083530850666,
          -0.5196202086097835,
          0.46746973330517366,
          0.10662035989868417,
          -1.3865757059132624,
          -0.7247186141459017,
          2.477862123307353,
          -0.05559844996319459,
          -1.0643109985662924,
          -0.4100688428969345,
          -0.8390501660128853,
          0.6329157345581643,
          -0.13899801777603105,
          -1.2635935588863028,
          0.5817454020296128,
          0.04041763850830345,
          1.7536259273103572,
          -0.583151928392476,
          -0.3387442974271907,
          1.1399115071065515,
          -0.6720826706157507,
          1.4694253466761216,
          -0.0273352342989754,
          -0.02450225690697608,
          -0.018602680444916597,
          -0.5275099000156166,
          1.3387092935057048,
          -0.10608601558086554,
          2.411226586440155,
          0.03316776456442602,
          -1.257493034731183
         ],
         "z": [
          0.26906284043534523,
          0.4600243630997971,
          1.4964250497716751,
          0.09420628893848228,
          -0.3600534515643738,
          -0.8000864572346736,
          0.9827989330857695,
          -0.9273550021689007,
          0.39950642175573864,
          0.4604286485432828,
          0.40350015551763313,
          -0.682442844307218,
          0.28243085549779323,
          1.077999320540777,
          2.433415282229771,
          -0.7334981141295427,
          0.6553901286646472,
          -0.18351210720709207,
          0.3602227561536708,
          -0.3424960323284734,
          -1.7398386900406304,
          -0.10118519683337208,
          -0.1223537564042567,
          0.5839796026287504,
          -0.5751703898642447,
          0.8739171489098219,
          -0.0058762026694408175,
          0.49209130506105475,
          -2.3159383840169485,
          1.5662025347144017,
          -0.6315165829776725,
          -0.18416378295210423,
          1.7663634964171315,
          -0.9306914879988795,
          -0.1484637205433662,
          0.8680238738052986,
          -0.21124184083713374,
          0.8812257771930176,
          -0.5546924602583809,
          -0.6293075745590077,
          0.31777750003118926,
          1.462677017814982,
          -0.016936966291699995,
          -0.46337823200385586,
          -1.9891665179694848,
          -0.6373810609782968,
          0.23798454307675976,
          0.4302957632342154
         ]
        },
        {
         "marker": {
          "color": "rgba(255, 128, 2, 0.8)"
         },
         "mode": "markers",
         "name": "Cluster 1",
         "type": "scatter3d",
         "x": [
          1.8211562739620792,
          1.2026524924489381,
          -1.6850301300464636,
          -2.0833849129342643,
          3.3361007646483283,
          -1.2386006866715107,
          0.8630776641173011,
          -2.0621880012369997,
          -2.0508027133838187,
          0.6145704448272509,
          0.21209785808647283,
          -1.9263661051369816,
          2.8224105363703966,
          3.084721012600161,
          -0.7400765909975934,
          -0.5519000816884962,
          -0.5073894120820652,
          -0.7248576634660245,
          -0.6861088361656447,
          1.7224211798585531,
          2.0171744368059867,
          -3.5617492037875382,
          -0.5474238801477871,
          -2.07460509925337,
          -1.9109251472147661,
          0.12782902769656043,
          -1.944626316154589,
          -1.448854417225352,
          -1.831458438703867,
          -0.5487103608072436,
          -1.0675572593534355,
          1.2467033610884013,
          1.6302459678210959,
          0.7846726747072624,
          -2.060818607883418
         ],
         "y": [
          0.7948815824037466,
          -0.6815847600892465,
          -0.11300474502657103,
          0.2843366266443269,
          1.5375968572625762,
          0.9638575283936006,
          -0.4289054687462325,
          0.001980955642354175,
          0.4824674190507036,
          -0.678049480141435,
          -0.412039164374447,
          -0.2476345727199483,
          0.843123441214631,
          -0.1825540160725635,
          1.2604008781966543,
          -0.5860815505135134,
          1.5703319090583725,
          -0.5330027016216013,
          -0.561630856139153,
          -1.4727332504345696,
          -0.10154737847401309,
          3.0759196584843327,
          2.0653401741020536,
          -0.25354171712761936,
          0.12486499678025546,
          -0.12564600744218937,
          -0.4208033056351304,
          0.19149514979439436,
          -0.5228330848610327,
          0.5729370086029434,
          -0.03906816310395252,
          -0.9500837236596019,
          -1.2273407819739495,
          0.1303945381525778,
          -0.712775347785285
         ],
         "z": [
          0.033121387077978355,
          0.7797108565595371,
          -0.7638612715278211,
          -0.6087662692470936,
          -0.857121151520518,
          -0.6242568936828315,
          0.8682532343485523,
          0.5440875519372932,
          -0.3505317555800056,
          0.7968189077683961,
          1.8479394485296654,
          0.2901299166429527,
          -0.43235383231235847,
          -0.27212911430443976,
          0.37116797299691584,
          -0.21034248359045085,
          -0.6118316663826646,
          -0.35057436850566037,
          -0.27322997277970773,
          -1.0333399782631727,
          1.2611067371706333,
          -0.2908148540567563,
          -0.08270690842715822,
          0.34114520151427896,
          -0.6636528836470461,
          0.8370997181506777,
          0.10802724899684434,
          -0.11611045940066321,
          0.14308847777881126,
          -0.36465787366988067,
          -0.13282848953947848,
          0.8988426604985456,
          -1.06532366469488,
          0.03929915280149749,
          1.3127990433707017
         ]
        },
        {
         "marker": {
          "color": "rgba(0, 255, 200, 0.8)"
         },
         "mode": "markers",
         "name": "Cluster 2",
         "type": "scatter3d",
         "x": [],
         "y": [],
         "z": []
        }
       ],
       "layout": {
        "template": {
         "data": {
          "bar": [
           {
            "error_x": {
             "color": "#2a3f5f"
            },
            "error_y": {
             "color": "#2a3f5f"
            },
            "marker": {
             "line": {
              "color": "#E5ECF6",
              "width": 0.5
             },
             "pattern": {
              "fillmode": "overlay",
              "size": 10,
              "solidity": 0.2
             }
            },
            "type": "bar"
           }
          ],
          "barpolar": [
           {
            "marker": {
             "line": {
              "color": "#E5ECF6",
              "width": 0.5
             },
             "pattern": {
              "fillmode": "overlay",
              "size": 10,
              "solidity": 0.2
             }
            },
            "type": "barpolar"
           }
          ],
          "carpet": [
           {
            "aaxis": {
             "endlinecolor": "#2a3f5f",
             "gridcolor": "white",
             "linecolor": "white",
             "minorgridcolor": "white",
             "startlinecolor": "#2a3f5f"
            },
            "baxis": {
             "endlinecolor": "#2a3f5f",
             "gridcolor": "white",
             "linecolor": "white",
             "minorgridcolor": "white",
             "startlinecolor": "#2a3f5f"
            },
            "type": "carpet"
           }
          ],
          "choropleth": [
           {
            "colorbar": {
             "outlinewidth": 0,
             "ticks": ""
            },
            "type": "choropleth"
           }
          ],
          "contour": [
           {
            "colorbar": {
             "outlinewidth": 0,
             "ticks": ""
            },
            "colorscale": [
             [
              0.0,
              "#0d0887"
             ],
             [
              0.1111111111111111,
              "#46039f"
             ],
             [
              0.2222222222222222,
              "#7201a8"
             ],
             [
              0.3333333333333333,
              "#9c179e"
             ],
             [
              0.4444444444444444,
              "#bd3786"
             ],
             [
              0.5555555555555556,
              "#d8576b"
             ],
             [
              0.6666666666666666,
              "#ed7953"
             ],
             [
              0.7777777777777778,
              "#fb9f3a"
             ],
             [
              0.8888888888888888,
              "#fdca26"
             ],
             [
              1.0,
              "#f0f921"
             ]
            ],
            "type": "contour"
           }
          ],
          "contourcarpet": [
           {
            "colorbar": {
             "outlinewidth": 0,
             "ticks": ""
            },
            "type": "contourcarpet"
           }
          ],
          "heatmap": [
           {
            "colorbar": {
             "outlinewidth": 0,
             "ticks": ""
            },
            "colorscale": [
             [
              0.0,
              "#0d0887"
             ],
             [
              0.1111111111111111,
              "#46039f"
             ],
             [
              0.2222222222222222,
              "#7201a8"
             ],
             [
              0.3333333333333333,
              "#9c179e"
             ],
             [
              0.4444444444444444,
              "#bd3786"
             ],
             [
              0.5555555555555556,
              "#d8576b"
             ],
             [
              0.6666666666666666,
              "#ed7953"
             ],
             [
              0.7777777777777778,
              "#fb9f3a"
             ],
             [
              0.8888888888888888,
              "#fdca26"
             ],
             [
              1.0,
              "#f0f921"
             ]
            ],
            "type": "heatmap"
           }
          ],
          "heatmapgl": [
           {
            "colorbar": {
             "outlinewidth": 0,
             "ticks": ""
            },
            "colorscale": [
             [
              0.0,
              "#0d0887"
             ],
             [
              0.1111111111111111,
              "#46039f"
             ],
             [
              0.2222222222222222,
              "#7201a8"
             ],
             [
              0.3333333333333333,
              "#9c179e"
             ],
             [
              0.4444444444444444,
              "#bd3786"
             ],
             [
              0.5555555555555556,
              "#d8576b"
             ],
             [
              0.6666666666666666,
              "#ed7953"
             ],
             [
              0.7777777777777778,
              "#fb9f3a"
             ],
             [
              0.8888888888888888,
              "#fdca26"
             ],
             [
              1.0,
              "#f0f921"
             ]
            ],
            "type": "heatmapgl"
           }
          ],
          "histogram": [
           {
            "marker": {
             "pattern": {
              "fillmode": "overlay",
              "size": 10,
              "solidity": 0.2
             }
            },
            "type": "histogram"
           }
          ],
          "histogram2d": [
           {
            "colorbar": {
             "outlinewidth": 0,
             "ticks": ""
            },
            "colorscale": [
             [
              0.0,
              "#0d0887"
             ],
             [
              0.1111111111111111,
              "#46039f"
             ],
             [
              0.2222222222222222,
              "#7201a8"
             ],
             [
              0.3333333333333333,
              "#9c179e"
             ],
             [
              0.4444444444444444,
              "#bd3786"
             ],
             [
              0.5555555555555556,
              "#d8576b"
             ],
             [
              0.6666666666666666,
              "#ed7953"
             ],
             [
              0.7777777777777778,
              "#fb9f3a"
             ],
             [
              0.8888888888888888,
              "#fdca26"
             ],
             [
              1.0,
              "#f0f921"
             ]
            ],
            "type": "histogram2d"
           }
          ],
          "histogram2dcontour": [
           {
            "colorbar": {
             "outlinewidth": 0,
             "ticks": ""
            },
            "colorscale": [
             [
              0.0,
              "#0d0887"
             ],
             [
              0.1111111111111111,
              "#46039f"
             ],
             [
              0.2222222222222222,
              "#7201a8"
             ],
             [
              0.3333333333333333,
              "#9c179e"
             ],
             [
              0.4444444444444444,
              "#bd3786"
             ],
             [
              0.5555555555555556,
              "#d8576b"
             ],
             [
              0.6666666666666666,
              "#ed7953"
             ],
             [
              0.7777777777777778,
              "#fb9f3a"
             ],
             [
              0.8888888888888888,
              "#fdca26"
             ],
             [
              1.0,
              "#f0f921"
             ]
            ],
            "type": "histogram2dcontour"
           }
          ],
          "mesh3d": [
           {
            "colorbar": {
             "outlinewidth": 0,
             "ticks": ""
            },
            "type": "mesh3d"
           }
          ],
          "parcoords": [
           {
            "line": {
             "colorbar": {
              "outlinewidth": 0,
              "ticks": ""
             }
            },
            "type": "parcoords"
           }
          ],
          "pie": [
           {
            "automargin": true,
            "type": "pie"
           }
          ],
          "scatter": [
           {
            "marker": {
             "colorbar": {
              "outlinewidth": 0,
              "ticks": ""
             }
            },
            "type": "scatter"
           }
          ],
          "scatter3d": [
           {
            "line": {
             "colorbar": {
              "outlinewidth": 0,
              "ticks": ""
             }
            },
            "marker": {
             "colorbar": {
              "outlinewidth": 0,
              "ticks": ""
             }
            },
            "type": "scatter3d"
           }
          ],
          "scattercarpet": [
           {
            "marker": {
             "colorbar": {
              "outlinewidth": 0,
              "ticks": ""
             }
            },
            "type": "scattercarpet"
           }
          ],
          "scattergeo": [
           {
            "marker": {
             "colorbar": {
              "outlinewidth": 0,
              "ticks": ""
             }
            },
            "type": "scattergeo"
           }
          ],
          "scattergl": [
           {
            "marker": {
             "colorbar": {
              "outlinewidth": 0,
              "ticks": ""
             }
            },
            "type": "scattergl"
           }
          ],
          "scattermapbox": [
           {
            "marker": {
             "colorbar": {
              "outlinewidth": 0,
              "ticks": ""
             }
            },
            "type": "scattermapbox"
           }
          ],
          "scatterpolar": [
           {
            "marker": {
             "colorbar": {
              "outlinewidth": 0,
              "ticks": ""
             }
            },
            "type": "scatterpolar"
           }
          ],
          "scatterpolargl": [
           {
            "marker": {
             "colorbar": {
              "outlinewidth": 0,
              "ticks": ""
             }
            },
            "type": "scatterpolargl"
           }
          ],
          "scatterternary": [
           {
            "marker": {
             "colorbar": {
              "outlinewidth": 0,
              "ticks": ""
             }
            },
            "type": "scatterternary"
           }
          ],
          "surface": [
           {
            "colorbar": {
             "outlinewidth": 0,
             "ticks": ""
            },
            "colorscale": [
             [
              0.0,
              "#0d0887"
             ],
             [
              0.1111111111111111,
              "#46039f"
             ],
             [
              0.2222222222222222,
              "#7201a8"
             ],
             [
              0.3333333333333333,
              "#9c179e"
             ],
             [
              0.4444444444444444,
              "#bd3786"
             ],
             [
              0.5555555555555556,
              "#d8576b"
             ],
             [
              0.6666666666666666,
              "#ed7953"
             ],
             [
              0.7777777777777778,
              "#fb9f3a"
             ],
             [
              0.8888888888888888,
              "#fdca26"
             ],
             [
              1.0,
              "#f0f921"
             ]
            ],
            "type": "surface"
           }
          ],
          "table": [
           {
            "cells": {
             "fill": {
              "color": "#EBF0F8"
             },
             "line": {
              "color": "white"
             }
            },
            "header": {
             "fill": {
              "color": "#C8D4E3"
             },
             "line": {
              "color": "white"
             }
            },
            "type": "table"
           }
          ]
         },
         "layout": {
          "annotationdefaults": {
           "arrowcolor": "#2a3f5f",
           "arrowhead": 0,
           "arrowwidth": 1
          },
          "autotypenumbers": "strict",
          "coloraxis": {
           "colorbar": {
            "outlinewidth": 0,
            "ticks": ""
           }
          },
          "colorscale": {
           "diverging": [
            [
             0,
             "#8e0152"
            ],
            [
             0.1,
             "#c51b7d"
            ],
            [
             0.2,
             "#de77ae"
            ],
            [
             0.3,
             "#f1b6da"
            ],
            [
             0.4,
             "#fde0ef"
            ],
            [
             0.5,
             "#f7f7f7"
            ],
            [
             0.6,
             "#e6f5d0"
            ],
            [
             0.7,
             "#b8e186"
            ],
            [
             0.8,
             "#7fbc41"
            ],
            [
             0.9,
             "#4d9221"
            ],
            [
             1,
             "#276419"
            ]
           ],
           "sequential": [
            [
             0.0,
             "#0d0887"
            ],
            [
             0.1111111111111111,
             "#46039f"
            ],
            [
             0.2222222222222222,
             "#7201a8"
            ],
            [
             0.3333333333333333,
             "#9c179e"
            ],
            [
             0.4444444444444444,
             "#bd3786"
            ],
            [
             0.5555555555555556,
             "#d8576b"
            ],
            [
             0.6666666666666666,
             "#ed7953"
            ],
            [
             0.7777777777777778,
             "#fb9f3a"
            ],
            [
             0.8888888888888888,
             "#fdca26"
            ],
            [
             1.0,
             "#f0f921"
            ]
           ],
           "sequentialminus": [
            [
             0.0,
             "#0d0887"
            ],
            [
             0.1111111111111111,
             "#46039f"
            ],
            [
             0.2222222222222222,
             "#7201a8"
            ],
            [
             0.3333333333333333,
             "#9c179e"
            ],
            [
             0.4444444444444444,
             "#bd3786"
            ],
            [
             0.5555555555555556,
             "#d8576b"
            ],
            [
             0.6666666666666666,
             "#ed7953"
            ],
            [
             0.7777777777777778,
             "#fb9f3a"
            ],
            [
             0.8888888888888888,
             "#fdca26"
            ],
            [
             1.0,
             "#f0f921"
            ]
           ]
          },
          "colorway": [
           "#636efa",
           "#EF553B",
           "#00cc96",
           "#ab63fa",
           "#FFA15A",
           "#19d3f3",
           "#FF6692",
           "#B6E880",
           "#FF97FF",
           "#FECB52"
          ],
          "font": {
           "color": "#2a3f5f"
          },
          "geo": {
           "bgcolor": "white",
           "lakecolor": "white",
           "landcolor": "#E5ECF6",
           "showlakes": true,
           "showland": true,
           "subunitcolor": "white"
          },
          "hoverlabel": {
           "align": "left"
          },
          "hovermode": "closest",
          "mapbox": {
           "style": "light"
          },
          "paper_bgcolor": "white",
          "plot_bgcolor": "#E5ECF6",
          "polar": {
           "angularaxis": {
            "gridcolor": "white",
            "linecolor": "white",
            "ticks": ""
           },
           "bgcolor": "#E5ECF6",
           "radialaxis": {
            "gridcolor": "white",
            "linecolor": "white",
            "ticks": ""
           }
          },
          "scene": {
           "xaxis": {
            "backgroundcolor": "#E5ECF6",
            "gridcolor": "white",
            "gridwidth": 2,
            "linecolor": "white",
            "showbackground": true,
            "ticks": "",
            "zerolinecolor": "white"
           },
           "yaxis": {
            "backgroundcolor": "#E5ECF6",
            "gridcolor": "white",
            "gridwidth": 2,
            "linecolor": "white",
            "showbackground": true,
            "ticks": "",
            "zerolinecolor": "white"
           },
           "zaxis": {
            "backgroundcolor": "#E5ECF6",
            "gridcolor": "white",
            "gridwidth": 2,
            "linecolor": "white",
            "showbackground": true,
            "ticks": "",
            "zerolinecolor": "white"
           }
          },
          "shapedefaults": {
           "line": {
            "color": "#2a3f5f"
           }
          },
          "ternary": {
           "aaxis": {
            "gridcolor": "white",
            "linecolor": "white",
            "ticks": ""
           },
           "baxis": {
            "gridcolor": "white",
            "linecolor": "white",
            "ticks": ""
           },
           "bgcolor": "#E5ECF6",
           "caxis": {
            "gridcolor": "white",
            "linecolor": "white",
            "ticks": ""
           }
          },
          "title": {
           "x": 0.05
          },
          "xaxis": {
           "automargin": true,
           "gridcolor": "white",
           "linecolor": "white",
           "ticks": "",
           "title": {
            "standoff": 15
           },
           "zerolinecolor": "white",
           "zerolinewidth": 2
          },
          "yaxis": {
           "automargin": true,
           "gridcolor": "white",
           "linecolor": "white",
           "ticks": "",
           "title": {
            "standoff": 15
           },
           "zerolinecolor": "white",
           "zerolinewidth": 2
          }
         }
        },
        "title": {
         "text": "Visualizing Clusters in Three Dimensions Using PCA"
        },
        "xaxis": {
         "ticklen": 5,
         "title": {
          "text": "PC1"
         },
         "zeroline": false
        },
        "yaxis": {
         "ticklen": 5,
         "title": {
          "text": "PC2"
         },
         "zeroline": false
        }
       }
      },
      "text/html": [
       "<div>                            <div id=\"432ae95e-4923-4373-ad27-bf74fa1ab089\" class=\"plotly-graph-div\" style=\"height:525px; width:100%;\"></div>            <script type=\"text/javascript\">                require([\"plotly\"], function(Plotly) {                    window.PLOTLYENV=window.PLOTLYENV || {};                                    if (document.getElementById(\"432ae95e-4923-4373-ad27-bf74fa1ab089\")) {                    Plotly.newPlot(                        \"432ae95e-4923-4373-ad27-bf74fa1ab089\",                        [{\"marker\":{\"color\":\"rgba(255, 128, 255, 0.8)\"},\"mode\":\"markers\",\"name\":\"Cluster 0\",\"type\":\"scatter3d\",\"x\":[-1.7215078759417737,-1.9660879240817226,2.9810358725267365,0.4436028955740139,2.914004296686421,-1.8817580743677105,0.6901317508307817,-1.401937788879038,-2.4697693125294053,2.5406069483174467,0.5087225851550039,2.151245928646159,-2.551042827417376,-0.09676078122829943,-1.8423656681286673,-1.2289439795287616,1.4437587781431986,2.305966545198264,-1.5379047279368723,-2.0615195925829086,-1.444280306355133,2.50777228435503,-0.2843599342073603,1.2030644564089958,2.2136252674642596,1.7463277949818752,1.2509213703621753,0.541077453724461,-1.0723948749221388,-2.445937016171396,-0.15676136122082718,-0.367245411214789,-0.8940526292168892,-1.0350554514705403,-0.486204974682429,-1.3042902468385702,-1.0456775923989772,0.7560276440653724,-1.7596398151196309,-1.6582846324331677,-2.3086102930990133,0.6630871018418403,-0.3304153716025931,0.18414230979013754,-1.3542351881986485,3.7312512161072138,0.7727023209166908,1.5496613506354644],\"y\":[-0.4795148920585794,-0.11847465886335364,2.0009927138339534,2.624257577832658,1.563542369415213,0.0933449315281312,-0.42886638386155346,0.8235156635190722,0.2591474558879738,3.292354082833532,-0.8978336199209153,-0.9829065340211097,0.2659683944018413,-1.1025675506160795,0.009271567985282838,-0.42229023877391697,-1.3679696499213483,-1.0178083530850666,-0.5196202086097835,0.46746973330517366,0.10662035989868417,-1.3865757059132624,-0.7247186141459017,2.477862123307353,-0.05559844996319459,-1.0643109985662924,-0.4100688428969345,-0.8390501660128853,0.6329157345581643,-0.13899801777603105,-1.2635935588863028,0.5817454020296128,0.04041763850830345,1.7536259273103572,-0.583151928392476,-0.3387442974271907,1.1399115071065515,-0.6720826706157507,1.4694253466761216,-0.0273352342989754,-0.02450225690697608,-0.018602680444916597,-0.5275099000156166,1.3387092935057048,-0.10608601558086554,2.411226586440155,0.03316776456442602,-1.257493034731183],\"z\":[0.26906284043534523,0.4600243630997971,1.4964250497716751,0.09420628893848228,-0.3600534515643738,-0.8000864572346736,0.9827989330857695,-0.9273550021689007,0.39950642175573864,0.4604286485432828,0.40350015551763313,-0.682442844307218,0.28243085549779323,1.077999320540777,2.433415282229771,-0.7334981141295427,0.6553901286646472,-0.18351210720709207,0.3602227561536708,-0.3424960323284734,-1.7398386900406304,-0.10118519683337208,-0.1223537564042567,0.5839796026287504,-0.5751703898642447,0.8739171489098219,-0.0058762026694408175,0.49209130506105475,-2.3159383840169485,1.5662025347144017,-0.6315165829776725,-0.18416378295210423,1.7663634964171315,-0.9306914879988795,-0.1484637205433662,0.8680238738052986,-0.21124184083713374,0.8812257771930176,-0.5546924602583809,-0.6293075745590077,0.31777750003118926,1.462677017814982,-0.016936966291699995,-0.46337823200385586,-1.9891665179694848,-0.6373810609782968,0.23798454307675976,0.4302957632342154]},{\"marker\":{\"color\":\"rgba(255, 128, 2, 0.8)\"},\"mode\":\"markers\",\"name\":\"Cluster 1\",\"type\":\"scatter3d\",\"x\":[1.8211562739620792,1.2026524924489381,-1.6850301300464636,-2.0833849129342643,3.3361007646483283,-1.2386006866715107,0.8630776641173011,-2.0621880012369997,-2.0508027133838187,0.6145704448272509,0.21209785808647283,-1.9263661051369816,2.8224105363703966,3.084721012600161,-0.7400765909975934,-0.5519000816884962,-0.5073894120820652,-0.7248576634660245,-0.6861088361656447,1.7224211798585531,2.0171744368059867,-3.5617492037875382,-0.5474238801477871,-2.07460509925337,-1.9109251472147661,0.12782902769656043,-1.944626316154589,-1.448854417225352,-1.831458438703867,-0.5487103608072436,-1.0675572593534355,1.2467033610884013,1.6302459678210959,0.7846726747072624,-2.060818607883418],\"y\":[0.7948815824037466,-0.6815847600892465,-0.11300474502657103,0.2843366266443269,1.5375968572625762,0.9638575283936006,-0.4289054687462325,0.001980955642354175,0.4824674190507036,-0.678049480141435,-0.412039164374447,-0.2476345727199483,0.843123441214631,-0.1825540160725635,1.2604008781966543,-0.5860815505135134,1.5703319090583725,-0.5330027016216013,-0.561630856139153,-1.4727332504345696,-0.10154737847401309,3.0759196584843327,2.0653401741020536,-0.25354171712761936,0.12486499678025546,-0.12564600744218937,-0.4208033056351304,0.19149514979439436,-0.5228330848610327,0.5729370086029434,-0.03906816310395252,-0.9500837236596019,-1.2273407819739495,0.1303945381525778,-0.712775347785285],\"z\":[0.033121387077978355,0.7797108565595371,-0.7638612715278211,-0.6087662692470936,-0.857121151520518,-0.6242568936828315,0.8682532343485523,0.5440875519372932,-0.3505317555800056,0.7968189077683961,1.8479394485296654,0.2901299166429527,-0.43235383231235847,-0.27212911430443976,0.37116797299691584,-0.21034248359045085,-0.6118316663826646,-0.35057436850566037,-0.27322997277970773,-1.0333399782631727,1.2611067371706333,-0.2908148540567563,-0.08270690842715822,0.34114520151427896,-0.6636528836470461,0.8370997181506777,0.10802724899684434,-0.11611045940066321,0.14308847777881126,-0.36465787366988067,-0.13282848953947848,0.8988426604985456,-1.06532366469488,0.03929915280149749,1.3127990433707017]},{\"marker\":{\"color\":\"rgba(0, 255, 200, 0.8)\"},\"mode\":\"markers\",\"name\":\"Cluster 2\",\"type\":\"scatter3d\",\"x\":[],\"y\":[],\"z\":[]}],                        {\"template\":{\"data\":{\"bar\":[{\"error_x\":{\"color\":\"#2a3f5f\"},\"error_y\":{\"color\":\"#2a3f5f\"},\"marker\":{\"line\":{\"color\":\"#E5ECF6\",\"width\":0.5},\"pattern\":{\"fillmode\":\"overlay\",\"size\":10,\"solidity\":0.2}},\"type\":\"bar\"}],\"barpolar\":[{\"marker\":{\"line\":{\"color\":\"#E5ECF6\",\"width\":0.5},\"pattern\":{\"fillmode\":\"overlay\",\"size\":10,\"solidity\":0.2}},\"type\":\"barpolar\"}],\"carpet\":[{\"aaxis\":{\"endlinecolor\":\"#2a3f5f\",\"gridcolor\":\"white\",\"linecolor\":\"white\",\"minorgridcolor\":\"white\",\"startlinecolor\":\"#2a3f5f\"},\"baxis\":{\"endlinecolor\":\"#2a3f5f\",\"gridcolor\":\"white\",\"linecolor\":\"white\",\"minorgridcolor\":\"white\",\"startlinecolor\":\"#2a3f5f\"},\"type\":\"carpet\"}],\"choropleth\":[{\"colorbar\":{\"outlinewidth\":0,\"ticks\":\"\"},\"type\":\"choropleth\"}],\"contour\":[{\"colorbar\":{\"outlinewidth\":0,\"ticks\":\"\"},\"colorscale\":[[0.0,\"#0d0887\"],[0.1111111111111111,\"#46039f\"],[0.2222222222222222,\"#7201a8\"],[0.3333333333333333,\"#9c179e\"],[0.4444444444444444,\"#bd3786\"],[0.5555555555555556,\"#d8576b\"],[0.6666666666666666,\"#ed7953\"],[0.7777777777777778,\"#fb9f3a\"],[0.8888888888888888,\"#fdca26\"],[1.0,\"#f0f921\"]],\"type\":\"contour\"}],\"contourcarpet\":[{\"colorbar\":{\"outlinewidth\":0,\"ticks\":\"\"},\"type\":\"contourcarpet\"}],\"heatmap\":[{\"colorbar\":{\"outlinewidth\":0,\"ticks\":\"\"},\"colorscale\":[[0.0,\"#0d0887\"],[0.1111111111111111,\"#46039f\"],[0.2222222222222222,\"#7201a8\"],[0.3333333333333333,\"#9c179e\"],[0.4444444444444444,\"#bd3786\"],[0.5555555555555556,\"#d8576b\"],[0.6666666666666666,\"#ed7953\"],[0.7777777777777778,\"#fb9f3a\"],[0.8888888888888888,\"#fdca26\"],[1.0,\"#f0f921\"]],\"type\":\"heatmap\"}],\"heatmapgl\":[{\"colorbar\":{\"outlinewidth\":0,\"ticks\":\"\"},\"colorscale\":[[0.0,\"#0d0887\"],[0.1111111111111111,\"#46039f\"],[0.2222222222222222,\"#7201a8\"],[0.3333333333333333,\"#9c179e\"],[0.4444444444444444,\"#bd3786\"],[0.5555555555555556,\"#d8576b\"],[0.6666666666666666,\"#ed7953\"],[0.7777777777777778,\"#fb9f3a\"],[0.8888888888888888,\"#fdca26\"],[1.0,\"#f0f921\"]],\"type\":\"heatmapgl\"}],\"histogram\":[{\"marker\":{\"pattern\":{\"fillmode\":\"overlay\",\"size\":10,\"solidity\":0.2}},\"type\":\"histogram\"}],\"histogram2d\":[{\"colorbar\":{\"outlinewidth\":0,\"ticks\":\"\"},\"colorscale\":[[0.0,\"#0d0887\"],[0.1111111111111111,\"#46039f\"],[0.2222222222222222,\"#7201a8\"],[0.3333333333333333,\"#9c179e\"],[0.4444444444444444,\"#bd3786\"],[0.5555555555555556,\"#d8576b\"],[0.6666666666666666,\"#ed7953\"],[0.7777777777777778,\"#fb9f3a\"],[0.8888888888888888,\"#fdca26\"],[1.0,\"#f0f921\"]],\"type\":\"histogram2d\"}],\"histogram2dcontour\":[{\"colorbar\":{\"outlinewidth\":0,\"ticks\":\"\"},\"colorscale\":[[0.0,\"#0d0887\"],[0.1111111111111111,\"#46039f\"],[0.2222222222222222,\"#7201a8\"],[0.3333333333333333,\"#9c179e\"],[0.4444444444444444,\"#bd3786\"],[0.5555555555555556,\"#d8576b\"],[0.6666666666666666,\"#ed7953\"],[0.7777777777777778,\"#fb9f3a\"],[0.8888888888888888,\"#fdca26\"],[1.0,\"#f0f921\"]],\"type\":\"histogram2dcontour\"}],\"mesh3d\":[{\"colorbar\":{\"outlinewidth\":0,\"ticks\":\"\"},\"type\":\"mesh3d\"}],\"parcoords\":[{\"line\":{\"colorbar\":{\"outlinewidth\":0,\"ticks\":\"\"}},\"type\":\"parcoords\"}],\"pie\":[{\"automargin\":true,\"type\":\"pie\"}],\"scatter\":[{\"marker\":{\"colorbar\":{\"outlinewidth\":0,\"ticks\":\"\"}},\"type\":\"scatter\"}],\"scatter3d\":[{\"line\":{\"colorbar\":{\"outlinewidth\":0,\"ticks\":\"\"}},\"marker\":{\"colorbar\":{\"outlinewidth\":0,\"ticks\":\"\"}},\"type\":\"scatter3d\"}],\"scattercarpet\":[{\"marker\":{\"colorbar\":{\"outlinewidth\":0,\"ticks\":\"\"}},\"type\":\"scattercarpet\"}],\"scattergeo\":[{\"marker\":{\"colorbar\":{\"outlinewidth\":0,\"ticks\":\"\"}},\"type\":\"scattergeo\"}],\"scattergl\":[{\"marker\":{\"colorbar\":{\"outlinewidth\":0,\"ticks\":\"\"}},\"type\":\"scattergl\"}],\"scattermapbox\":[{\"marker\":{\"colorbar\":{\"outlinewidth\":0,\"ticks\":\"\"}},\"type\":\"scattermapbox\"}],\"scatterpolar\":[{\"marker\":{\"colorbar\":{\"outlinewidth\":0,\"ticks\":\"\"}},\"type\":\"scatterpolar\"}],\"scatterpolargl\":[{\"marker\":{\"colorbar\":{\"outlinewidth\":0,\"ticks\":\"\"}},\"type\":\"scatterpolargl\"}],\"scatterternary\":[{\"marker\":{\"colorbar\":{\"outlinewidth\":0,\"ticks\":\"\"}},\"type\":\"scatterternary\"}],\"surface\":[{\"colorbar\":{\"outlinewidth\":0,\"ticks\":\"\"},\"colorscale\":[[0.0,\"#0d0887\"],[0.1111111111111111,\"#46039f\"],[0.2222222222222222,\"#7201a8\"],[0.3333333333333333,\"#9c179e\"],[0.4444444444444444,\"#bd3786\"],[0.5555555555555556,\"#d8576b\"],[0.6666666666666666,\"#ed7953\"],[0.7777777777777778,\"#fb9f3a\"],[0.8888888888888888,\"#fdca26\"],[1.0,\"#f0f921\"]],\"type\":\"surface\"}],\"table\":[{\"cells\":{\"fill\":{\"color\":\"#EBF0F8\"},\"line\":{\"color\":\"white\"}},\"header\":{\"fill\":{\"color\":\"#C8D4E3\"},\"line\":{\"color\":\"white\"}},\"type\":\"table\"}]},\"layout\":{\"annotationdefaults\":{\"arrowcolor\":\"#2a3f5f\",\"arrowhead\":0,\"arrowwidth\":1},\"autotypenumbers\":\"strict\",\"coloraxis\":{\"colorbar\":{\"outlinewidth\":0,\"ticks\":\"\"}},\"colorscale\":{\"diverging\":[[0,\"#8e0152\"],[0.1,\"#c51b7d\"],[0.2,\"#de77ae\"],[0.3,\"#f1b6da\"],[0.4,\"#fde0ef\"],[0.5,\"#f7f7f7\"],[0.6,\"#e6f5d0\"],[0.7,\"#b8e186\"],[0.8,\"#7fbc41\"],[0.9,\"#4d9221\"],[1,\"#276419\"]],\"sequential\":[[0.0,\"#0d0887\"],[0.1111111111111111,\"#46039f\"],[0.2222222222222222,\"#7201a8\"],[0.3333333333333333,\"#9c179e\"],[0.4444444444444444,\"#bd3786\"],[0.5555555555555556,\"#d8576b\"],[0.6666666666666666,\"#ed7953\"],[0.7777777777777778,\"#fb9f3a\"],[0.8888888888888888,\"#fdca26\"],[1.0,\"#f0f921\"]],\"sequentialminus\":[[0.0,\"#0d0887\"],[0.1111111111111111,\"#46039f\"],[0.2222222222222222,\"#7201a8\"],[0.3333333333333333,\"#9c179e\"],[0.4444444444444444,\"#bd3786\"],[0.5555555555555556,\"#d8576b\"],[0.6666666666666666,\"#ed7953\"],[0.7777777777777778,\"#fb9f3a\"],[0.8888888888888888,\"#fdca26\"],[1.0,\"#f0f921\"]]},\"colorway\":[\"#636efa\",\"#EF553B\",\"#00cc96\",\"#ab63fa\",\"#FFA15A\",\"#19d3f3\",\"#FF6692\",\"#B6E880\",\"#FF97FF\",\"#FECB52\"],\"font\":{\"color\":\"#2a3f5f\"},\"geo\":{\"bgcolor\":\"white\",\"lakecolor\":\"white\",\"landcolor\":\"#E5ECF6\",\"showlakes\":true,\"showland\":true,\"subunitcolor\":\"white\"},\"hoverlabel\":{\"align\":\"left\"},\"hovermode\":\"closest\",\"mapbox\":{\"style\":\"light\"},\"paper_bgcolor\":\"white\",\"plot_bgcolor\":\"#E5ECF6\",\"polar\":{\"angularaxis\":{\"gridcolor\":\"white\",\"linecolor\":\"white\",\"ticks\":\"\"},\"bgcolor\":\"#E5ECF6\",\"radialaxis\":{\"gridcolor\":\"white\",\"linecolor\":\"white\",\"ticks\":\"\"}},\"scene\":{\"xaxis\":{\"backgroundcolor\":\"#E5ECF6\",\"gridcolor\":\"white\",\"gridwidth\":2,\"linecolor\":\"white\",\"showbackground\":true,\"ticks\":\"\",\"zerolinecolor\":\"white\"},\"yaxis\":{\"backgroundcolor\":\"#E5ECF6\",\"gridcolor\":\"white\",\"gridwidth\":2,\"linecolor\":\"white\",\"showbackground\":true,\"ticks\":\"\",\"zerolinecolor\":\"white\"},\"zaxis\":{\"backgroundcolor\":\"#E5ECF6\",\"gridcolor\":\"white\",\"gridwidth\":2,\"linecolor\":\"white\",\"showbackground\":true,\"ticks\":\"\",\"zerolinecolor\":\"white\"}},\"shapedefaults\":{\"line\":{\"color\":\"#2a3f5f\"}},\"ternary\":{\"aaxis\":{\"gridcolor\":\"white\",\"linecolor\":\"white\",\"ticks\":\"\"},\"baxis\":{\"gridcolor\":\"white\",\"linecolor\":\"white\",\"ticks\":\"\"},\"bgcolor\":\"#E5ECF6\",\"caxis\":{\"gridcolor\":\"white\",\"linecolor\":\"white\",\"ticks\":\"\"}},\"title\":{\"x\":0.05},\"xaxis\":{\"automargin\":true,\"gridcolor\":\"white\",\"linecolor\":\"white\",\"ticks\":\"\",\"title\":{\"standoff\":15},\"zerolinecolor\":\"white\",\"zerolinewidth\":2},\"yaxis\":{\"automargin\":true,\"gridcolor\":\"white\",\"linecolor\":\"white\",\"ticks\":\"\",\"title\":{\"standoff\":15},\"zerolinecolor\":\"white\",\"zerolinewidth\":2}}},\"title\":{\"text\":\"Visualizing Clusters in Three Dimensions Using PCA\"},\"xaxis\":{\"ticklen\":5,\"title\":{\"text\":\"PC1\"},\"zeroline\":false},\"yaxis\":{\"ticklen\":5,\"title\":{\"text\":\"PC2\"},\"zeroline\":false}},                        {\"responsive\": true}                    ).then(function(){\n",
       "                            \n",
       "var gd = document.getElementById('432ae95e-4923-4373-ad27-bf74fa1ab089');\n",
       "var x = new MutationObserver(function (mutations, observer) {{\n",
       "        var display = window.getComputedStyle(gd).display;\n",
       "        if (!display || display === 'none') {{\n",
       "            console.log([gd, 'removed!']);\n",
       "            Plotly.purge(gd);\n",
       "            observer.disconnect();\n",
       "        }}\n",
       "}});\n",
       "\n",
       "// Listen for the removal of the full notebook cells\n",
       "var notebookContainer = gd.closest('#notebook-container');\n",
       "if (notebookContainer) {{\n",
       "    x.observe(notebookContainer, {childList: true});\n",
       "}}\n",
       "\n",
       "// Listen for the clearing of the current output cell\n",
       "var outputEl = gd.closest('.output');\n",
       "if (outputEl) {{\n",
       "    x.observe(outputEl, {childList: true});\n",
       "}}\n",
       "\n",
       "                        })                };                });            </script>        </div>"
      ]
     },
     "metadata": {},
     "output_type": "display_data"
    }
   ],
   "source": [
    "#Instructions for building the 3-D plot\n",
    "\n",
    "#trace1 is for 'Cluster 0'\n",
    "trace1 = go.Scatter3d(\n",
    "                    x = cluster0[\"PC1_3d\"],\n",
    "                    y = cluster0[\"PC2_3d\"],\n",
    "                    z = cluster0[\"PC3_3d\"],\n",
    "                    mode = \"markers\",\n",
    "                    name = \"Cluster 0\",\n",
    "                    marker = dict(color = 'rgba(255, 128, 255, 0.8)'),\n",
    "                    text = None)\n",
    "\n",
    "#trace2 is for 'Cluster 1'\n",
    "trace2 = go.Scatter3d(\n",
    "                    x = cluster1[\"PC1_3d\"],\n",
    "                    y = cluster1[\"PC2_3d\"],\n",
    "                    z = cluster1[\"PC3_3d\"],\n",
    "                    mode = \"markers\",\n",
    "                    name = \"Cluster 1\",\n",
    "                    marker = dict(color = 'rgba(255, 128, 2, 0.8)'),\n",
    "                    text = None)\n",
    "\n",
    "#trace3 is for 'Cluster 2'\n",
    "trace3 = go.Scatter3d(\n",
    "                    x = cluster2[\"PC1_3d\"],\n",
    "                    y = cluster2[\"PC2_3d\"],\n",
    "                    z = cluster2[\"PC3_3d\"],\n",
    "                    mode = \"markers\",\n",
    "                    name = \"Cluster 2\",\n",
    "                    marker = dict(color = 'rgba(0, 255, 200, 0.8)'),\n",
    "                    text = None)\n",
    "\n",
    "data = [trace1, trace2, trace3]\n",
    "\n",
    "title = \"Visualizing Clusters in Three Dimensions Using PCA\"\n",
    "\n",
    "layout = dict(title = title,\n",
    "              xaxis= dict(title= 'PC1',ticklen= 5,zeroline= False),\n",
    "              yaxis= dict(title= 'PC2',ticklen= 5,zeroline= False)\n",
    "             )\n",
    "\n",
    "fig = dict(data = data, layout = layout)\n",
    "\n",
    "iplot(fig)"
   ]
  },
  {
   "cell_type": "code",
   "execution_count": null,
   "id": "0dc50492",
   "metadata": {
    "papermill": {
     "duration": 0.092715,
     "end_time": "2021-11-15T23:06:56.028355",
     "exception": false,
     "start_time": "2021-11-15T23:06:55.935640",
     "status": "completed"
    },
    "tags": []
   },
   "outputs": [],
   "source": []
  }
 ],
 "metadata": {
  "kernelspec": {
   "display_name": "Python 3",
   "language": "python",
   "name": "python3"
  },
  "language_info": {
   "codemirror_mode": {
    "name": "ipython",
    "version": 3
   },
   "file_extension": ".py",
   "mimetype": "text/x-python",
   "name": "python",
   "nbconvert_exporter": "python",
   "pygments_lexer": "ipython3",
   "version": "3.7.10"
  },
  "papermill": {
   "default_parameters": {},
   "duration": 28.867322,
   "end_time": "2021-11-15T23:06:56.932235",
   "environment_variables": {},
   "exception": null,
   "input_path": "__notebook__.ipynb",
   "output_path": "__notebook__.ipynb",
   "parameters": {},
   "start_time": "2021-11-15T23:06:28.064913",
   "version": "2.3.3"
  }
 },
 "nbformat": 4,
 "nbformat_minor": 5
}
